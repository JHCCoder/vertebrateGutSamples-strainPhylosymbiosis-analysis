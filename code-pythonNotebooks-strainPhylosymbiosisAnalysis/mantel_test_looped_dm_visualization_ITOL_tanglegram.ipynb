{
 "cells": [
  {
   "cell_type": "code",
   "execution_count": 2,
   "metadata": {},
   "outputs": [],
   "source": [
    "import skbio as skb\n",
    "import numpy as np\n",
    "import pandas as pd\n",
    "import seaborn as sns\n",
    "from ecopy import Mantel\n",
    "\n",
    "from matplotlib import pyplot as plt\n",
    "import pylab as pl\n",
    "from skbio import TreeNode\n",
    "from skbio.stats.distance import mantel\n",
    "from scipy.stats import linregress\n",
    "from scipy.spatial.distance import squareform, pdist\n",
    "from os.path import abspath, join\n",
    "import os.path\n",
    "from os import makedirs\n",
    "from Bio import Phylo\n",
    "from Bio.Phylo.Consensus import *"
   ]
  },
  {
   "cell_type": "code",
   "execution_count": 3,
   "metadata": {},
   "outputs": [],
   "source": [
    "output_fig_dir=\"/panfs/panfs1.ucsd.edu/panscratch/jhc103/VertMetaphlan-frmerged/figures/\"\n",
    "output_mantel_dir=\"/panfs/panfs1.ucsd.edu/panscratch/jhc103/VertMetaphlan-frmerged/mantel-test-results\""
   ]
  },
  {
   "cell_type": "markdown",
   "metadata": {},
   "source": [
    "# Import data"
   ]
  },
  {
   "cell_type": "markdown",
   "metadata": {},
   "source": [
    "## Host tree"
   ]
  },
  {
   "cell_type": "code",
   "execution_count": 7,
   "metadata": {},
   "outputs": [],
   "source": [
    "tree_dir = abspath('/panfs/panfs1.ucsd.edu/panscratch/jhc103/VertMetaphlan-frmerged')\n",
    "host_tree_fp = join(tree_dir, 'host_tree_list.nwk')\n",
    "host_tree_orig= TreeNode.read(host_tree_fp, format='newick', convert_underscores=False)\n",
    "\n",
    "host_tips_orig = [x.name for x in host_tree_orig.tips()]"
   ]
  },
  {
   "cell_type": "markdown",
   "metadata": {},
   "source": [
    "## Metadata"
   ]
  },
  {
   "cell_type": "code",
   "execution_count": 15,
   "metadata": {},
   "outputs": [
    {
     "name": "stdout",
     "output_type": "stream",
     "text": [
      "(671, 30)\n",
      "(657, 30)\n",
      "(500, 30)\n"
     ]
    }
   ],
   "source": [
    "## read in metadata\n",
    "md_dir = '/panfs/panfs1.ucsd.edu/panscratch/jhc103/VertMetaphlan-frmerged/metadata'\n",
    "host_md_fp = join(md_dir, 'vert_metadata_8_23.txt')\n",
    "host_md_orig = pd.read_csv(host_md_fp, sep='\\t', encoding='windows-1252')\n",
    "print(host_md_orig.shape)\n",
    "\n",
    "## filter metadata based on available value from timetree! \n",
    "## Five samples were lost \n",
    "## These hosts were missing from timetree\n",
    "#(Geospiza acutirostris (2 samples), Aspius aspius (2 samples), Cervus canadensis canadensis)\n",
    "host_md_TT = host_md_orig.loc[(host_md_orig['TimeTree_returned'].isin(host_tips_orig))]\n",
    "\n",
    "# filter to just these host classes\n",
    "include_classes = ['Amphibia',\n",
    "                    'Mammalia',\n",
    "                    'Aves',\n",
    "                    'Reptilia',\n",
    "                  'Hyperoartia',\n",
    "                  'Actinopterygii']\n",
    "\n",
    "host_md_TT_classes = host_md_TT.loc[host_md_TT['host_class'].isin(include_classes)]\n",
    "print(host_md_TT_classes.shape)\n",
    "\n",
    "host_md_TT_classes_wild= host_md_TT_classes.loc[host_md_TT_classes['captive_wild']==\"wild\"]\n",
    "print(host_md_TT_classes_wild.shape)\n"
   ]
  },
  {
   "cell_type": "code",
   "execution_count": 173,
   "metadata": {},
   "outputs": [
    {
     "data": {
      "text/plain": [
       "herbivore                              237\n",
       "carnivore                              105\n",
       "omnivore                               104\n",
       "insectivore                             56\n",
       "folivore                                46\n",
       "sanguivore                              30\n",
       "frugivore                               24\n",
       "filter_feeder                           21\n",
       "scavenger                               10\n",
       "granivore                                9\n",
       "herbivore, frugivore                     5\n",
       "omnivore, insectivore                    3\n",
       "omnivore, gummivore                      2\n",
       "carnivore, scavenger                     2\n",
       "omnivore, frugivore                      2\n",
       "insectivore, granivore                   2\n",
       "carnivore, omnivore                      2\n",
       "omnivore, scavenger                      2\n",
       "frugivore, folivore                      1\n",
       "aves                                     1\n",
       "insectivore, frugivore, nectarivore      1\n",
       "mammals                                  1\n",
       "insectivore, frugivore, folivore         1\n",
       "Name: diet_category_12, dtype: int64"
      ]
     },
     "execution_count": 173,
     "metadata": {},
     "output_type": "execute_result"
    }
   ],
   "source": [
    "host_md_orig[\"diet_category_12\"].value_counts()"
   ]
  },
  {
   "cell_type": "markdown",
   "metadata": {},
   "source": [
    "## bacteria tree"
   ]
  },
  {
   "cell_type": "markdown",
   "metadata": {},
   "source": [
    "### Insert name of bacteria you want to investigate"
   ]
  },
  {
   "cell_type": "code",
   "execution_count": 30,
   "metadata": {},
   "outputs": [],
   "source": [
    "bacteria_list_80=[\"Akkermansia_muciniphila\", \"Escherichia_coli\", \n",
    "               \"Bacteroides_uniformis\", \"Bacteroides_fragilis\", \n",
    "               \"Bacteroides_vulgatus\", \"Clostridium_perfringens\",\n",
    "              \"Parabacteroides_distasonis\", \"Prevotella_copri\"]\n",
    "\n",
    "bacteria_list_65=[\"Akkermansia_muciniphila\", \n",
    "                  \"Bacteroides_dorei\",\n",
    "               \"Bacteroides_fragilis\",\n",
    "                \"Bacteroides_uniformis\", \n",
    "               \"Bacteroides_vulgatus\", \n",
    "                  \"Clostridium_perfringens\",\n",
    "                \"Escherichia_coli\",\n",
    "               \"Lactobacillus_rodentium\",\n",
    "              \"Parabacteroides_distasonis\", \n",
    "                  \"Prevotella_copri\",\n",
    "              \"Pseudomonas_yamanorum\"]\n",
    "\n",
    "bacteria_list_50=[\"Akkermansia_muciniphila\", \n",
    "                  \"Bacteroides_dorei\",\n",
    "               \"Bacteroides_fragilis\", \n",
    "               \"Bacteroides_thetaiotaomicron\", \n",
    "                \"Bacteroides_uniformis\", \n",
    "               \"Bacteroides_vulgatus\", \n",
    "                  \"Clostridium_perfringens\",\n",
    "                \"Escherichia_coli\", \n",
    "                  \"Enterococcus_faecalis\",\n",
    "               \"Lactobacillus_rodentium\",\n",
    "              \"Parabacteroides_distasonis\", \n",
    "                  \"Prevotella_copri\",\n",
    "              \"Pseudomonas_yamanorum\"]\n",
    "\n",
    "bacteria_list_35=[\"Akkermansia_muciniphila\", \n",
    "                  \"Bacteroides_dorei\",\n",
    "               \"Bacteroides_fragilis\", \n",
    "               \"Bacteroides_thetaiotaomicron\", \n",
    "                \"Bacteroides_uniformis\", \n",
    "               \"Bacteroides_vulgatus\", \n",
    "                  \"Clostridium_perfringens\",\n",
    "                  \"Collinsella_stercoris\",\n",
    "                \"Escherichia_coli\", \n",
    "                  \"Enterococcus_faecalis\",\n",
    "               \"Lactobacillus_rodentium\",\n",
    "                \"Prevotella_copri\",\n",
    "              \"Parabacteroides_distasonis\", \n",
    "              \"Pseudomonas_yamanorum\"]\n",
    "\n",
    "bacteria_list_20=[\"Akkermansia_muciniphila\", \n",
    "                  \"Alistipes_shahii\",\n",
    "                  \"Bacteroides_dorei\",\n",
    "               \"Bacteroides_fragilis\", \n",
    "               \"Bacteroides_thetaiotaomicron\", \n",
    "                \"Bacteroides_uniformis\", \n",
    "               \"Bacteroides_vulgatus\", \n",
    "                  \"Clostridium_perfringens\",\n",
    "                  \"Collinsella_stercoris\",\n",
    "                \"Escherichia_coli\", \n",
    "                  \"Enterococcus_faecalis\",\n",
    "                \"Lactobacillus_reuteri\",\n",
    "               \"Lactobacillus_rodentium\",\n",
    "                \"Prevotella_copri\",\n",
    "              \"Parabacteroides_distasonis\", \n",
    "              \"Pseudomonas_yamanorum\",\n",
    "            \"Ruthenibacterium_lactatiformans\"]\n",
    "\n",
    "bacteria_list=bacteria_list_80"
   ]
  },
  {
   "cell_type": "markdown",
   "metadata": {},
   "source": [
    "### Choose parameter to run the algorithm of average mantel test"
   ]
  },
  {
   "cell_type": "code",
   "execution_count": 31,
   "metadata": {},
   "outputs": [],
   "source": [
    "one_per_sp = True ## One sample per species? \n",
    "number_of_iterations=100 ## Number of iteration to create the sample tree given one_per_sp\n",
    "correlation_coefficient = \"spearman\"\n",
    "marker_threshold=\"80\"\n",
    "sample_group= \"\"## \"\" or \"_mammallianHost\" or \"_nonMammallianHost\""
   ]
  },
  {
   "cell_type": "code",
   "execution_count": 32,
   "metadata": {
    "scrolled": false
   },
   "outputs": [
    {
     "name": "stdout",
     "output_type": "stream",
     "text": [
      "-----The mantel test for strain trees built with markers threshold at 80%-----\n",
      "\n",
      " \n",
      " Investigating Akkermansia_muciniphila:\n",
      "No sample tree available\n",
      "\n",
      " \n",
      " Investigating Escherichia_coli:\n",
      "The average correlation, p values over 100 iterations are:\n",
      "Number of samples\taverage spearman coorelation\taverage p-value\t\n",
      "55.0\t0.01983230281069558\t0.61469\n",
      "\n",
      " \n",
      " Investigating Bacteroides_uniformis:\n",
      "The average correlation, p values over 100 iterations are:\n",
      "Number of samples\taverage spearman coorelation\taverage p-value\t\n",
      "16.0\t-0.30783351786354674\t0.0484\n",
      "\n",
      " \n",
      " Investigating Bacteroides_fragilis:\n",
      "The average correlation, p values over 100 iterations are:\n",
      "Number of samples\taverage spearman coorelation\taverage p-value\t\n",
      "12.0\t-0.09701500912088495\t0.54253\n",
      "\n",
      " \n",
      " Investigating Bacteroides_vulgatus:\n",
      "The average correlation, p values over 100 iterations are:\n",
      "Number of samples\taverage spearman coorelation\taverage p-value\t\n",
      "12.0\t0.2834402010305147\t0.18407999999999994\n",
      "\n",
      " \n",
      " Investigating Clostridium_perfringens:\n",
      "The average correlation, p values over 100 iterations are:\n",
      "Number of samples\taverage spearman coorelation\taverage p-value\t\n",
      "20.0\t-0.16514262941211444\t0.06203999999999998\n",
      "\n",
      " \n",
      " Investigating Parabacteroides_distasonis:\n",
      "The average correlation, p values over 100 iterations are:\n",
      "Number of samples\taverage spearman coorelation\taverage p-value\t\n",
      "11.0\t0.1738863090134644\t0.41417000000000004\n",
      "\n",
      " \n",
      " Investigating Prevotella_copri:\n",
      "The average correlation, p values over 100 iterations are:\n",
      "Number of samples\taverage spearman coorelation\taverage p-value\t\n",
      "12.0\t0.21297377461897973\t0.13826999999999995\n"
     ]
    }
   ],
   "source": [
    "mantel_results_dict={}\n",
    "print( \"-----The mantel test for strain trees built with markers threshold at \" + marker_threshold +\"%-----\")\n",
    "for bacteria in bacteria_list:\n",
    "    \n",
    "    print( \"\\n \\n Investigating \" + bacteria + \":\" )\n",
    "    host_md=host_md_TT_classes #### !!!!!!!!!!!!!!! Change this metadata according to the md desired\n",
    "    host_tree=host_tree_orig\n",
    "    host_tips=host_tips_orig\n",
    "    \n",
    "    bacteria_trimmed=bacteria[0]+bacteria[bacteria.find(\"_\"):len(bacteria)]\n",
    "    tree_dir = abspath('/panfs/panfs1.ucsd.edu/panscratch/jhc103/VertMetaphlan-frmerged/strain-trees-output/output_'+marker_threshold+\"_\"+bacteria_trimmed + sample_group+\"/GAMMA\")\n",
    "    #sample_tree_fp = join(tree_dir, 'strain_tree_GTR_200reps.nwk')\n",
    "    sample_tree_fp = join(tree_dir, 'RAxML_bestTree.s__'+bacteria+'.StrainPhlAn3.tre')\n",
    "    try:\n",
    "        sample_tree= TreeNode.read(sample_tree_fp, format='newick', convert_underscores=False)\n",
    "    except FileNotFoundError:\n",
    "        print(\"No sample tree available\")\n",
    "        continue\n",
    "\n",
    "    sample_tips = [x.name for x in sample_tree.tips()]\n",
    "\n",
    "    ## Filter metadata based on the overlapping host tree and sample tree\n",
    "    md_sampleID_ids = set(host_md['SampleID2'])\n",
    "    md_timeTree_ids = set(host_md['TimeTree_returned'])\n",
    "\n",
    "\n",
    "    sample_tips_ids=set(sample_tips)\n",
    "    host_tips_ids=set(host_tips)\n",
    "\n",
    "    shared_sample_ids=sample_tips_ids & md_sampleID_ids\n",
    "    shared_host_ids=host_tips_ids & md_timeTree_ids\n",
    "\n",
    "        \n",
    "#     print(\"Filtering metadata with shared_ids......\")\n",
    "    host_md = host_md.loc[(host_md['SampleID2'].isin(shared_sample_ids))]\n",
    "    host_md = host_md.loc[(host_md['TimeTree_returned'].isin(shared_host_ids))]\n",
    "    \n",
    "    if len(host_md) <=3: \n",
    "        print(\"Too few samples remaining (<=3) aftering filtering by sample name and TimeTree_returned name, skipping...\")\n",
    "        continue\n",
    "    \n",
    "\n",
    "\n",
    "    md_sampleID_ids = set(host_md['SampleID2'])\n",
    "    md_timeTree_ids = set(host_md['TimeTree_returned'])\n",
    "\n",
    "    # Prune host tree \n",
    "\n",
    "    host_tree = host_tree.shear(host_md['TimeTree_returned'])\n",
    "    host_tips = [x.name for x in host_tree.tips()]\n",
    "\n",
    "        \n",
    "    # Prune sample tree randomly multiple times and save into list! \n",
    "    sample_tree_list=[]\n",
    "    if one_per_sp:\n",
    "        for i in range(0, number_of_iterations):\n",
    "            ## Find one sample per species randomly\n",
    "            host_md_subset =  host_md.loc[(host_md['SampleID2'].isin(sample_tips)),].groupby('TimeTree_returned').sample(1).reset_index()\n",
    "            \n",
    "            if len(host_md_subset) <=3: \n",
    "                break\n",
    "            \n",
    "            ## Shear sample tree\n",
    "            sheared_sample_tree = sample_tree.shear(host_md_subset['SampleID2'])\n",
    "            ## Add sheared sample tree to list\n",
    "            sample_tree_list.append(sheared_sample_tree)\n",
    "\n",
    "\n",
    "    ## Check if number of tips in sample and host tree is the same \n",
    "#     print(\"Same number of nodes between the trees? ==> \")\n",
    "#     print(len(one_sample_tips) == len(host_tips))\n",
    "#     one_sample_tips = [x.name for x in sample_tree_list[0].tips()]\n",
    "    ## Check if the number of sample tree is the same as number of iterations\n",
    "    if len(sample_tree_list) != number_of_iterations:\n",
    "        print(\"Too few samples remaining (<=3) aftering filtering by one sample per species, skipping...\")\n",
    "        continue\n",
    "    \n",
    "    ## Calculate patristic distances\n",
    "    host_patristic_dm = host_tree.tip_tip_distances()\n",
    "\n",
    "#     sample_tree_list[9]\n",
    "\n",
    "    sample_patristic_dm_list=[]\n",
    "    for i in range(0, number_of_iterations):\n",
    "        sample_patristic_dm = sample_tree_list[i].tip_tip_distances()\n",
    "\n",
    "        ## acquire sample tip from each tree\n",
    "        sample_tips = [x.name for x in sample_tree_list[i].tips()]\n",
    "\n",
    "        ## Change label of sample dm \n",
    "        ## get corresponding name of the ids\n",
    "        rename_df = host_md.loc[host_md['SampleID2'].isin(sample_tips),\n",
    "                                     ['SampleID2','TimeTree_returned']].set_index('SampleID2')\n",
    "        rename = [rename_df.loc[x, 'TimeTree_returned'] for x in sample_tips]\n",
    "        ## Change label of distance matrix \n",
    "        sample_patristic_dm.ids = rename\n",
    "\n",
    "        ## add to host_patristic_dm\n",
    "        sample_patristic_dm_list.append(sample_patristic_dm)\n",
    "\n",
    "    ## Test two dm.ids are the same \n",
    "#     print(\"Are the ids of the distance matrices the same? ==> \")\n",
    "#     print(set(host_patristic_dm.ids) == set(sample_patristic_dm_list[0].ids))\n",
    "\n",
    "    # Mantel test with results averaged over iterations set\n",
    "    sum_corr=0\n",
    "    sum_p=0\n",
    "    sum_group=0\n",
    "    for i in range(0, number_of_iterations):\n",
    "        corr, p, n = mantel(host_patristic_dm, sample_patristic_dm_list[i], method=correlation_coefficient )\n",
    "        sum_corr+=corr\n",
    "        sum_p+=p\n",
    "        sum_group+=n\n",
    "    print(\"The average correlation, p values over \"+ str(number_of_iterations) + \" iterations are:\")\n",
    "    aver_corr=sum_corr/number_of_iterations\n",
    "    aver_p=sum_p/number_of_iterations\n",
    "    aver_group=sum_group/number_of_iterations\n",
    "\n",
    "    print(\"Number of samples\\t\"+\"average \"+ correlation_coefficient + \" coorelation\\t\"+\"average p-value\\t\")\n",
    "    print(str(aver_group)+\"\\t\"+str(aver_corr)+\"\\t\"+str(aver_p))\n",
    "    \n",
    "    mantel_results_dict[bacteria] = (round(aver_corr,4), round(aver_p,4), int(aver_group))\n"
   ]
  },
  {
   "cell_type": "markdown",
   "metadata": {},
   "source": [
    "### Save the dictionary to directory "
   ]
  },
  {
   "cell_type": "code",
   "execution_count": 33,
   "metadata": {},
   "outputs": [
    {
     "data": {
      "text/html": [
       "<div>\n",
       "<style scoped>\n",
       "    .dataframe tbody tr th:only-of-type {\n",
       "        vertical-align: middle;\n",
       "    }\n",
       "\n",
       "    .dataframe tbody tr th {\n",
       "        vertical-align: top;\n",
       "    }\n",
       "\n",
       "    .dataframe thead th {\n",
       "        text-align: right;\n",
       "    }\n",
       "</style>\n",
       "<table border=\"1\" class=\"dataframe\">\n",
       "  <thead>\n",
       "    <tr style=\"text-align: right;\">\n",
       "      <th></th>\n",
       "      <th>r</th>\n",
       "      <th>p</th>\n",
       "      <th>n</th>\n",
       "    </tr>\n",
       "  </thead>\n",
       "  <tbody>\n",
       "    <tr>\n",
       "      <th>Escherichia_coli</th>\n",
       "      <td>0.0198</td>\n",
       "      <td>0.6147</td>\n",
       "      <td>55</td>\n",
       "    </tr>\n",
       "    <tr>\n",
       "      <th>Bacteroides_uniformis</th>\n",
       "      <td>-0.3078</td>\n",
       "      <td>0.0484</td>\n",
       "      <td>16</td>\n",
       "    </tr>\n",
       "    <tr>\n",
       "      <th>Bacteroides_fragilis</th>\n",
       "      <td>-0.0970</td>\n",
       "      <td>0.5425</td>\n",
       "      <td>12</td>\n",
       "    </tr>\n",
       "    <tr>\n",
       "      <th>Bacteroides_vulgatus</th>\n",
       "      <td>0.2834</td>\n",
       "      <td>0.1841</td>\n",
       "      <td>12</td>\n",
       "    </tr>\n",
       "    <tr>\n",
       "      <th>Clostridium_perfringens</th>\n",
       "      <td>-0.1651</td>\n",
       "      <td>0.0620</td>\n",
       "      <td>20</td>\n",
       "    </tr>\n",
       "    <tr>\n",
       "      <th>Parabacteroides_distasonis</th>\n",
       "      <td>0.1739</td>\n",
       "      <td>0.4142</td>\n",
       "      <td>11</td>\n",
       "    </tr>\n",
       "    <tr>\n",
       "      <th>Prevotella_copri</th>\n",
       "      <td>0.2130</td>\n",
       "      <td>0.1383</td>\n",
       "      <td>12</td>\n",
       "    </tr>\n",
       "  </tbody>\n",
       "</table>\n",
       "</div>"
      ],
      "text/plain": [
       "                                 r       p   n\n",
       "Escherichia_coli            0.0198  0.6147  55\n",
       "Bacteroides_uniformis      -0.3078  0.0484  16\n",
       "Bacteroides_fragilis       -0.0970  0.5425  12\n",
       "Bacteroides_vulgatus        0.2834  0.1841  12\n",
       "Clostridium_perfringens    -0.1651  0.0620  20\n",
       "Parabacteroides_distasonis  0.1739  0.4142  11\n",
       "Prevotella_copri            0.2130  0.1383  12"
      ]
     },
     "execution_count": 33,
     "metadata": {},
     "output_type": "execute_result"
    }
   ],
   "source": [
    "## What does it look like? \n",
    "mantel_save_df =  pd.DataFrame.from_dict(mantel_results_dict, orient='index')\n",
    "mantel_save_df.columns = ['r','p', 'n']\n",
    "mantel_save_df"
   ]
  },
  {
   "cell_type": "code",
   "execution_count": 34,
   "metadata": {},
   "outputs": [],
   "source": [
    "want_to_save_dict = True"
   ]
  },
  {
   "cell_type": "code",
   "execution_count": 35,
   "metadata": {},
   "outputs": [],
   "source": [
    "if want_to_save_dict:\n",
    "    mantel_save_df.to_csv(join(output_mantel_dir, \"mantel_patristic\"+sample_group +\"_\"+marker_threshold+\"_\"+correlation_coefficient+\"_\"+ str(number_of_iterations)+\"repititions_GTRGAMMA.csv\"))"
   ]
  },
  {
   "cell_type": "markdown",
   "metadata": {},
   "source": [
    "# Visualize distance matrices & run mantel iteratively across tree for later ITOL plotting - Taken and modified from Jon Sander's notebooks"
   ]
  },
  {
   "cell_type": "markdown",
   "metadata": {},
   "source": [
    "### Function to calculate the degree of phylosymbiosis as we go down the tree considering all subtree with more than 3 tips "
   ]
  },
  {
   "cell_type": "code",
   "execution_count": 18,
   "metadata": {},
   "outputs": [],
   "source": [
    "def recursive_mantel_host(tree, dm1, dm2, min_size=4, **kwargs):\n",
    "    i = 0\n",
    "    nodes = tree.count(tips=True) * 2 - 1\n",
    "    tree.assign_ids()\n",
    "    node_dict = {}\n",
    "    for n in tree.postorder():\n",
    "        label = n.name\n",
    "        i += 1\n",
    "        # see if you're below minimum clade size\n",
    "        if n.count(tips=True) < min_size:\n",
    "            continue\n",
    "        # if not, run mantel\n",
    "        else:\n",
    "            tips = [t.name for t in n.tips()]\n",
    "            dm1_s = dm1.filter(tips)\n",
    "            dm2_s = dm2.filter(tips)\n",
    "            corr, p, _ = mantel(dm1_s, dm2_s, **kwargs)\n",
    "            node_dict[n.name] = (corr, p)\n",
    "    \n",
    "        pct = (i / nodes)\n",
    "        \n",
    "        if np.round(pct * 100) % 10 == 0:\n",
    "            print(pct)\n",
    "    return(node_dict)"
   ]
  },
  {
   "cell_type": "markdown",
   "metadata": {},
   "source": [
    "### Function to calculate the degree tree of phylosymbiosis as we go down an unsubsetted sample tree considering all subtree with more than 3 tips after "
   ]
  },
  {
   "cell_type": "code",
   "execution_count": 19,
   "metadata": {},
   "outputs": [],
   "source": [
    "def recursive_mantel_sample(tree, df, col_groupby, col_sampleID, dm1, min_size=3, **kwargs):\n",
    "    i = 0\n",
    "    nodes = tree.count(tips=True) * 2 - 1\n",
    "    tree.assign_ids()\n",
    "    node_dict = {}\n",
    "    for n in tree.postorder():\n",
    "        i += 1 ## Counter\n",
    "        label = n.name\n",
    "        \n",
    "        # see if you're below minimum clade size\n",
    "        if n.count(tips=True) < min_size:\n",
    "            print(\"skipped this node because of less than 3 leaves!\")\n",
    "            print(n.name)\n",
    "            print(\"\\n\")\n",
    "            continue\n",
    "        # if not, run mantel\n",
    "        else:\n",
    "            \n",
    "            ## Loop through subtree and put leaves into a list\n",
    "            sample_tips = [t.name for t in n.tips()]\n",
    "            print(\"Checking out this node\")\n",
    "            print(n.name)\n",
    "\n",
    "            ## Subset the df based on sample_ids of subtree and random sampling per species \n",
    "            df_subset = df.loc[(df[col_sampleID].isin(sample_tips)),].groupby(col_groupby).sample().reset_index()\n",
    "            print(df_subset['species_id'])\n",
    "            if len(df_subset) >= 3: ## length of the dimension at least 3 by 3\n",
    "                print(\"This node made it!\")\n",
    "                print(\"\\n\")\n",
    "                \n",
    "                ## Subset the host distance matrix directly \n",
    "                dm1_s = dm1.filter(df_subset[col_groupby])\n",
    "\n",
    "                ## Subset the host tree and the sample tree \n",
    "                subtree=tree.shear(df_subset[col_sampleID])\n",
    "                ## Change tip name of subtree \n",
    "                dm2_s = subtree.tip_tip_distances()\n",
    "\n",
    "                rename_ids = tuple(df_subset.loc[df_subset[col_sampleID]==x.name, col_groupby].values[0] for x in subtree.tips())\n",
    "\n",
    "\n",
    "                # ## Change label of sample distance matrix \n",
    "                dm2_s.ids = list(rename_ids)\n",
    "\n",
    "                corr, p, _ = mantel(dm1_s, dm2_s, **kwargs)\n",
    "                node_dict[n.name] = (corr, p)\n",
    "    \n",
    "        pct = (i / nodes)\n",
    "        \n",
    "        if np.round(pct * 100) % 10 == 0:\n",
    "            print(pct)\n",
    "    return node_dict"
   ]
  },
  {
   "cell_type": "markdown",
   "metadata": {},
   "source": [
    "### Function to plot corresponding distances of two distance matrices"
   ]
  },
  {
   "cell_type": "code",
   "execution_count": 20,
   "metadata": {},
   "outputs": [],
   "source": [
    "def node_values(mantel_df, bacteria, tree_dm, dist_dm, ax1):\n",
    "    ## Getting the correlation and p value of mantel test averaaged over 100 iterations \n",
    "    r=mantel_df.loc[bacteria,\"r\"]\n",
    "    p=mantel_df.loc[bacteria,\"p\"]\n",
    "    \n",
    "    pats = tree_dm\n",
    "    dsts = dist_dm\n",
    "    \n",
    "    x = pats.to_series()\n",
    "    y = dsts.to_series()\n",
    "    \n",
    "\n",
    "    slope, _, _, _, _ = linregress(x, y)\n",
    "    \n",
    "    plot = sns.regplot('x',\n",
    "                      'y',\n",
    "                      pd.DataFrame({'x': x, 'y': y}).reset_index(),\n",
    "                      scatter_kws={'alpha':0.1},\n",
    "                      ax= ax1)\n",
    "    plt.ylim(0, 1.0)\n",
    "    plt.xlim(0, max(x)+20)\n",
    "\n",
    "    print((\"r: {r}\\n\"\n",
    "       \"p: {p}\\n\"\n",
    "       \"m: {m:8.7f}\\n\").format(r=r, p=p, m=slope))\n",
    "    return plot, slope, r, p "
   ]
  },
  {
   "cell_type": "markdown",
   "metadata": {},
   "source": [
    "# Choose the species and at what marker threshold you want to invetigate! \n",
    "### Filter sample tree to one sample per species "
   ]
  },
  {
   "cell_type": "code",
   "execution_count": 175,
   "metadata": {},
   "outputs": [],
   "source": [
    "#### Change these values according the type of bacteria you want to investigate, the correlation used, as well as the subset of samples \n",
    "bacteria=\"Bacteroides_vulgatus\"\n",
    "correlation_type=\"spearman\" ## spearman or pearson\n",
    "category=\"\" ## Choices are \"\" , \"_mammallianHost\", \"_nonMammallianHost\"\n",
    "marker_threshold=\"20\"\n",
    "number_of_iterations=100\n"
   ]
  },
  {
   "cell_type": "code",
   "execution_count": 176,
   "metadata": {},
   "outputs": [],
   "source": [
    "bacteria_trimmed=bacteria[0]+bacteria[bacteria.find(\"_\"):len(bacteria)]\n",
    "tree_dir = abspath('/panfs/panfs1.ucsd.edu/panscratch/jhc103/VertMetaphlan-frmerged/strain-trees-output/output_'+marker_threshold+\"_\"+bacteria_trimmed+category+\"/GAMMA/\")\n",
    "#sample_tree_fp = join(tree_dir, 'strain_tree_GTR_200reps.nwk')\n",
    "sample_tree_node_name_fp = join(tree_dir, 'RAxML_bestTree.s__'+bacteria+'.StrainPhlAn3.node.tre')\n",
    "try:\n",
    "    if os.path.exists(sample_tree_node_name_fp):\n",
    "        ## Set the sample tree\n",
    "        sample_tree= TreeNode.read(sample_tree_node_name_fp, format='newick', convert_underscores=False)\n",
    "    else:\n",
    "        ## Create the tree with node \n",
    "        sample_tree_fp = join(tree_dir, 'RAxML_bestTree.s__'+bacteria+'.StrainPhlAn3.tre')\n",
    "        sample_tree_noNode= TreeNode.read(sample_tree_fp, format='newick', convert_underscores=False)\n",
    "       \n",
    "        count=1\n",
    "        ## Set the nodes on the tree using non_tip()\n",
    "        for n in sample_tree_noNode.postorder():\n",
    "            if n.count(tips=True) > 1:\n",
    "                if n.is_root():\n",
    "                    n.name = \"root\"\n",
    "                    continue\n",
    "                n.name = \"node\"+str(count)\n",
    "                count+=1\n",
    "                \n",
    "\n",
    "        sample_tree = sample_tree_noNode.copy() ## Set sample_tree to new tree with nodes\n",
    "        sample_tree.write(sample_tree_node_name_fp)\n",
    "        \n",
    "except FileNotFoundError:\n",
    "    print(\"No sample tree available\")"
   ]
  },
  {
   "cell_type": "markdown",
   "metadata": {},
   "source": [
    "## Sample tree mantel node calculation"
   ]
  },
  {
   "cell_type": "code",
   "execution_count": 177,
   "metadata": {
    "scrolled": true
   },
   "outputs": [
    {
     "name": "stdout",
     "output_type": "stream",
     "text": [
      "skipped this node because of less than 3 leaves!\n",
      "Eudromia-elegans_S_S_Temp_D706-AK1680_filtered_r1r2combined\n",
      "\n",
      "\n",
      "skipped this node because of less than 3 leaves!\n",
      "Pteromys-volans_S_S_Temp_D707-AK1545_filtered_r1r2combined\n",
      "\n",
      "\n",
      "skipped this node because of less than 3 leaves!\n",
      "node1\n",
      "\n",
      "\n",
      "skipped this node because of less than 3 leaves!\n",
      "Eudromia-elegans_S_S_Temp_D710-AK1682_filtered_r1r2combined\n",
      "\n",
      "\n",
      "skipped this node because of less than 3 leaves!\n",
      "Choloepus-hoffmanni_Song51_25173_host_filtered_r1r2combined\n",
      "\n",
      "\n",
      "skipped this node because of less than 3 leaves!\n",
      "Rhea-americana_Song53_24102_host_filtered_r1r2combined\n",
      "\n",
      "\n",
      "skipped this node because of less than 3 leaves!\n",
      "Trachypithecus-delacouri_SAMEA6809447.ebi_filtered_r1r2combined_sampleCombined\n",
      "\n",
      "\n",
      "skipped this node because of less than 3 leaves!\n",
      "node2\n",
      "\n",
      "\n",
      "skipped this node because of less than 3 leaves!\n",
      "Lemur-catta_Song51_24592_host_filtered_r1r2combined\n",
      "\n",
      "\n",
      "skipped this node because of less than 3 leaves!\n",
      "Gorilla-gorilla_Song51_25120_host_filtered_r1r2combined\n",
      "\n",
      "\n",
      "skipped this node because of less than 3 leaves!\n",
      "node3\n",
      "\n",
      "\n",
      "Checking out this node\n",
      "node4\n",
      "0      western_gorilla.1\n",
      "1     ringtailed_lemur.1\n",
      "2                 rhea.1\n",
      "3    delacour's_langur.1\n",
      "Name: species_id, dtype: object\n",
      "This node made it!\n",
      "\n",
      "\n",
      "Checking out this node\n",
      "node5\n",
      "0    hoffmann's_two-toed_sloth.1\n",
      "1              western_gorilla.1\n",
      "2             ringtailed_lemur.1\n",
      "3                         rhea.1\n",
      "4            delacour's_langur.1\n",
      "Name: species_id, dtype: object\n",
      "This node made it!\n",
      "\n",
      "\n",
      "Checking out this node\n",
      "node6\n",
      "0    hoffmann's_two-toed_sloth.1\n",
      "1      elegant_crested_tinamou.1\n",
      "2              western_gorilla.1\n",
      "3             ringtailed_lemur.1\n",
      "4                         rhea.1\n",
      "5            delacour's_langur.1\n",
      "Name: species_id, dtype: object\n",
      "This node made it!\n",
      "\n",
      "\n",
      "skipped this node because of less than 3 leaves!\n",
      "Ophisaurus-apodus_Song52_24080_host_filtered_r1r2combined\n",
      "\n",
      "\n",
      "skipped this node because of less than 3 leaves!\n",
      "Rhacodactylus-leachianus_Song52_25064_host_filtered_r1r2combined\n",
      "\n",
      "\n",
      "skipped this node because of less than 3 leaves!\n",
      "node7\n",
      "\n",
      "\n",
      "Checking out this node\n",
      "node8\n",
      "0     hoffmann's_two-toed_sloth.1\n",
      "1       elegant_crested_tinamou.1\n",
      "2               western_gorilla.1\n",
      "3              ringtailed_lemur.1\n",
      "4                  glass_lizard.1\n",
      "5    new_caledonian_giant_gecko.1\n",
      "6                          rhea.1\n",
      "7             delacour's_langur.1\n",
      "Name: species_id, dtype: object\n",
      "This node made it!\n",
      "\n",
      "\n",
      "skipped this node because of less than 3 leaves!\n",
      "Pteromys-volans_S_S_Temp_D703-AK1545_filtered_r1r2combined\n",
      "\n",
      "\n",
      "Checking out this node\n",
      "node9\n",
      "0     hoffmann's_two-toed_sloth.1\n",
      "1       elegant_crested_tinamou.1\n",
      "2               western_gorilla.1\n",
      "3              ringtailed_lemur.1\n",
      "4                  glass_lizard.1\n",
      "5      siberian_flying_squirrel.5\n",
      "6    new_caledonian_giant_gecko.1\n",
      "7                          rhea.1\n",
      "8             delacour's_langur.1\n",
      "Name: species_id, dtype: object\n",
      "This node made it!\n",
      "\n",
      "\n",
      "skipped this node because of less than 3 leaves!\n",
      "Pteromys-volans_S_S_Temp_D703-AK1544_filtered_r1r2combined\n",
      "\n",
      "\n",
      "skipped this node because of less than 3 leaves!\n",
      "Procyon-lotor_SAMEA6809526.ebi_filtered_r1r2combined_sampleCombined\n",
      "\n",
      "\n",
      "skipped this node because of less than 3 leaves!\n",
      "node10\n",
      "\n",
      "\n",
      "skipped this node because of less than 3 leaves!\n",
      "Homo-sapiens_SAMEA6809428.ebi_filtered_r1r2combined_sampleCombined\n",
      "\n",
      "\n",
      "skipped this node because of less than 3 leaves!\n",
      "Otolemur-crassicaudatus_SAMEA6809568.ebi_filtered_r1r2combined_sampleCombined\n",
      "\n",
      "\n",
      "skipped this node because of less than 3 leaves!\n",
      "Eudromia-elegans_S_S_Temp_D706-AK1544_filtered_r1r2combined\n",
      "\n",
      "\n",
      "skipped this node because of less than 3 leaves!\n",
      "node11\n",
      "\n",
      "\n",
      "Checking out this node\n",
      "node12\n",
      "0                   tinamou.1\n",
      "1                     human.4\n",
      "2    thick-tailed_bush_baby.1\n",
      "Name: species_id, dtype: object\n",
      "This node made it!\n",
      "\n",
      "\n",
      "Checking out this node\n",
      "node13\n",
      "0                     tinamou.1\n",
      "1                       human.4\n",
      "2      thick-tailed_bush_baby.1\n",
      "3                     raccoon.1\n",
      "4    siberian_flying_squirrel.3\n",
      "Name: species_id, dtype: object\n",
      "This node made it!\n",
      "\n",
      "\n",
      "Checking out this node\n",
      "node14\n",
      "0      hoffmann's_two-toed_sloth.1\n",
      "1                        tinamou.1\n",
      "2                western_gorilla.1\n",
      "3                          human.4\n",
      "4               ringtailed_lemur.1\n",
      "5         thick-tailed_bush_baby.1\n",
      "6                        raccoon.1\n",
      "7                   glass_lizard.1\n",
      "8       siberian_flying_squirrel.3\n",
      "9     new_caledonian_giant_gecko.1\n",
      "10                          rhea.1\n",
      "11             delacour's_langur.1\n",
      "Name: species_id, dtype: object\n",
      "This node made it!\n",
      "\n",
      "\n",
      "Checking out this node\n",
      "node15\n",
      "0      hoffmann's_two-toed_sloth.1\n",
      "1                        tinamou.1\n",
      "2                western_gorilla.1\n",
      "3                          human.4\n",
      "4               ringtailed_lemur.1\n",
      "5         thick-tailed_bush_baby.1\n",
      "6                        raccoon.1\n",
      "7                   glass_lizard.1\n",
      "8       siberian_flying_squirrel.1\n",
      "9     new_caledonian_giant_gecko.1\n",
      "10                          rhea.1\n",
      "11             delacour's_langur.1\n",
      "Name: species_id, dtype: object\n",
      "This node made it!\n",
      "\n",
      "\n",
      "skipped this node because of less than 3 leaves!\n",
      "Lepus-europaeus_SAMEA6809493.ebi_filtered_r1r2combined_sampleCombined\n",
      "\n",
      "\n",
      "Checking out this node\n",
      "node16\n",
      "0      hoffmann's_two-toed_sloth.1\n",
      "1                        tinamou.1\n",
      "2                western_gorilla.1\n",
      "3                          human.4\n",
      "4               ringtailed_lemur.1\n",
      "5                  european_hare.1\n",
      "6         thick-tailed_bush_baby.1\n",
      "7                        raccoon.1\n",
      "8                   glass_lizard.1\n",
      "9       siberian_flying_squirrel.5\n",
      "10    new_caledonian_giant_gecko.1\n",
      "11                          rhea.1\n",
      "12             delacour's_langur.1\n",
      "Name: species_id, dtype: object\n",
      "This node made it!\n",
      "\n",
      "\n",
      "skipped this node because of less than 3 leaves!\n",
      "Nyctereutes-procyonoides_Song51_24065_host_filtered_r1r2combined\n",
      "\n",
      "\n",
      "skipped this node because of less than 3 leaves!\n",
      "Tolypeutes-matacus_Song51_24740_host_filtered_r1r2combined\n",
      "\n",
      "\n",
      "skipped this node because of less than 3 leaves!\n",
      "Vulpes-vulpes_SAMEA6809599.ebi_filtered_r1r2combined_sampleCombined\n",
      "\n",
      "\n",
      "skipped this node because of less than 3 leaves!\n",
      "Suricata-suricatta_S_S_Temp_D705-AK1681_filtered_r1r2combined\n",
      "\n",
      "\n",
      "skipped this node because of less than 3 leaves!\n",
      "Tamandua-tetradactyla_Song51_24661_host_filtered_r1r2combined\n",
      "\n",
      "\n",
      "skipped this node because of less than 3 leaves!\n",
      "Dama-dama_SAMEA6809642.ebi_filtered_r1r2combined_sampleCombined\n",
      "\n",
      "\n",
      "skipped this node because of less than 3 leaves!\n",
      "node17\n",
      "\n",
      "\n",
      "skipped this node because of less than 3 leaves!\n",
      "Helogale-parvula_S_S_Temp_D704-AK1544_filtered_r1r2combined\n",
      "\n",
      "\n",
      "skipped this node because of less than 3 leaves!\n",
      "Anser-anser_SAMEA6809432.ebi_filtered_r1r2combined_sampleCombined\n",
      "\n",
      "\n",
      "skipped this node because of less than 3 leaves!\n",
      "Nycticebus-pygmaeus_SAMEA6809443.ebi_filtered_r1r2combined_sampleCombined\n",
      "\n",
      "\n",
      "skipped this node because of less than 3 leaves!\n",
      "node18\n",
      "\n",
      "\n",
      "skipped this node because of less than 3 leaves!\n",
      "Delichon-urbicum_SAMEA6809453.ebi_filtered_r1r2combined_sampleCombined\n",
      "\n",
      "\n",
      "skipped this node because of less than 3 leaves!\n",
      "Nycticebus-pygmaeus_SAMEA6809444.ebi_filtered_r1r2combined_sampleCombined\n",
      "\n",
      "\n",
      "skipped this node because of less than 3 leaves!\n",
      "node19\n",
      "\n",
      "\n",
      "Checking out this node\n",
      "node20\n",
      "0           domestic_goose.3\n",
      "1    northern_house-martin.1\n",
      "2         pygmy_slow_loris.1\n",
      "Name: species_id, dtype: object\n",
      "This node made it!\n",
      "\n",
      "\n",
      "Checking out this node\n",
      "node21\n",
      "0           domestic_goose.3\n",
      "1    northern_house-martin.1\n",
      "2           dwarf_mongoose.2\n",
      "3         pygmy_slow_loris.1\n",
      "Name: species_id, dtype: object\n",
      "This node made it!\n",
      "\n",
      "\n",
      "Checking out this node\n",
      "node22\n",
      "0           domestic_goose.3\n",
      "1              fallow_deer.1\n",
      "2    northern_house-martin.1\n",
      "3           dwarf_mongoose.2\n",
      "4         pygmy_slow_loris.1\n",
      "5        southern_tamandua.1\n",
      "Name: species_id, dtype: object\n",
      "This node made it!\n",
      "\n",
      "\n",
      "skipped this node because of less than 3 leaves!\n",
      "Homo-sapiens_SAMEA6809423.ebi_filtered_r1r2combined_sampleCombined\n",
      "\n",
      "\n",
      "skipped this node because of less than 3 leaves!\n",
      "Felis-catus_SAMEA6809422.ebi_filtered_r1r2combined_sampleCombined\n",
      "\n",
      "\n",
      "skipped this node because of less than 3 leaves!\n",
      "Bacteroides_vulgatus\n",
      "\n",
      "\n",
      "skipped this node because of less than 3 leaves!\n",
      "Homo-sapiens_SAMEA6809424.ebi_filtered_r1r2combined_sampleCombined\n",
      "\n",
      "\n",
      "skipped this node because of less than 3 leaves!\n",
      "node23\n",
      "\n",
      "\n",
      "Checking out this node\n",
      "node24\n",
      "0    domestic_cat.2\n",
      "1           human.2\n",
      "Name: species_id, dtype: object\n",
      "Checking out this node\n",
      "node25\n",
      "0    domestic_cat.2\n",
      "1           human.2\n",
      "Name: species_id, dtype: object\n",
      "skipped this node because of less than 3 leaves!\n",
      "Cryptoprocta-ferox_S_S_Temp_D704-AK1546_filtered_r1r2combined\n",
      "\n",
      "\n",
      "skipped this node because of less than 3 leaves!\n",
      "Potos-flavus_SAMEA6809525.ebi_filtered_r1r2combined_sampleCombined\n",
      "\n",
      "\n",
      "skipped this node because of less than 3 leaves!\n",
      "node26\n",
      "\n",
      "\n",
      "Checking out this node\n",
      "node27\n",
      "0           fossa.1\n",
      "1    domestic_cat.2\n",
      "2           human.2\n",
      "3        kinkajou.1\n",
      "Name: species_id, dtype: object\n",
      "This node made it!\n",
      "\n",
      "\n"
     ]
    },
    {
     "name": "stdout",
     "output_type": "stream",
     "text": [
      "0.7011494252873564\n",
      "Checking out this node\n",
      "node28\n",
      "0           domestic_goose.3\n",
      "1                    fossa.1\n",
      "2              fallow_deer.1\n",
      "3    northern_house-martin.1\n",
      "4             domestic_cat.2\n",
      "5           dwarf_mongoose.2\n",
      "6                    human.1\n",
      "7         pygmy_slow_loris.2\n",
      "8                 kinkajou.1\n",
      "9        southern_tamandua.1\n",
      "Name: species_id, dtype: object\n",
      "This node made it!\n",
      "\n",
      "\n",
      "skipped this node because of less than 3 leaves!\n",
      "Homo-sapiens_SAMEA6809425.ebi_filtered_r1r2combined_sampleCombined\n",
      "\n",
      "\n",
      "Checking out this node\n",
      "node29\n",
      "0           domestic_goose.3\n",
      "1                    fossa.1\n",
      "2              fallow_deer.1\n",
      "3    northern_house-martin.1\n",
      "4             domestic_cat.2\n",
      "5           dwarf_mongoose.2\n",
      "6                    human.1\n",
      "7         pygmy_slow_loris.2\n",
      "8                 kinkajou.1\n",
      "9        southern_tamandua.1\n",
      "Name: species_id, dtype: object\n",
      "This node made it!\n",
      "\n",
      "\n",
      "skipped this node because of less than 3 leaves!\n",
      "Sarcoramphus-papa_S_S_Temp_D705-AK1682_filtered_r1r2combined\n",
      "\n",
      "\n",
      "skipped this node because of less than 3 leaves!\n",
      "Sarcoramphus-papa_S_S_Temp_D705-AK1780_filtered_r1r2combined\n",
      "\n",
      "\n",
      "skipped this node because of less than 3 leaves!\n",
      "node30\n",
      "\n",
      "\n",
      "Checking out this node\n",
      "node31\n",
      "0            domestic_goose.3\n",
      "1                     fossa.1\n",
      "2               fallow_deer.1\n",
      "3     northern_house-martin.1\n",
      "4              domestic_cat.2\n",
      "5            dwarf_mongoose.2\n",
      "6                     human.1\n",
      "7          pygmy_slow_loris.1\n",
      "8                  kinkajou.1\n",
      "9              king_vulture.2\n",
      "10        southern_tamandua.1\n",
      "Name: species_id, dtype: object\n",
      "This node made it!\n",
      "\n",
      "\n",
      "Checking out this node\n",
      "node32\n",
      "0            domestic_goose.3\n",
      "1                     fossa.1\n",
      "2               fallow_deer.1\n",
      "3     northern_house-martin.1\n",
      "4              domestic_cat.2\n",
      "5            dwarf_mongoose.2\n",
      "6                     human.3\n",
      "7          pygmy_slow_loris.2\n",
      "8                  kinkajou.1\n",
      "9              king_vulture.2\n",
      "10                  meerkat.1\n",
      "11        southern_tamandua.1\n",
      "Name: species_id, dtype: object\n",
      "This node made it!\n",
      "\n",
      "\n",
      "Checking out this node\n",
      "node33\n",
      "0            domestic_goose.3\n",
      "1                     fossa.1\n",
      "2               fallow_deer.1\n",
      "3     northern_house-martin.1\n",
      "4              domestic_cat.2\n",
      "5            dwarf_mongoose.2\n",
      "6                     human.3\n",
      "7          pygmy_slow_loris.2\n",
      "8                  kinkajou.1\n",
      "9              king_vulture.2\n",
      "10                  meerkat.1\n",
      "11        southern_tamandua.1\n",
      "12                  red_fox.2\n",
      "Name: species_id, dtype: object\n",
      "This node made it!\n",
      "\n",
      "\n",
      "0.8045977011494253\n",
      "skipped this node because of less than 3 leaves!\n",
      "Helogale-parvula_Song51_24713_host_filtered_r1r2combined\n",
      "\n",
      "\n",
      "skipped this node because of less than 3 leaves!\n",
      "Mungos-mungo_Song51_24742_host_filtered_r1r2combined\n",
      "\n",
      "\n",
      "skipped this node because of less than 3 leaves!\n",
      "node34\n",
      "\n",
      "\n",
      "Checking out this node\n",
      "node35\n",
      "0            domestic_goose.3\n",
      "1                     fossa.1\n",
      "2               fallow_deer.1\n",
      "3     northern_house-martin.1\n",
      "4              domestic_cat.2\n",
      "5            dwarf_mongoose.1\n",
      "6                     human.3\n",
      "7           banded_mongoose.1\n",
      "8          pygmy_slow_loris.2\n",
      "9                  kinkajou.1\n",
      "10             king_vulture.3\n",
      "11                  meerkat.1\n",
      "12        southern_tamandua.1\n",
      "13                  red_fox.2\n",
      "Name: species_id, dtype: object\n",
      "This node made it!\n",
      "\n",
      "\n",
      "skipped this node because of less than 3 leaves!\n",
      "Lepus-europaeus_SAMEA6809601.ebi_filtered_r1r2combined_sampleCombined\n",
      "\n",
      "\n",
      "skipped this node because of less than 3 leaves!\n",
      "Lepus-europaeus_SAMEA6809631.ebi_filtered_r1r2combined_sampleCombined\n",
      "\n",
      "\n",
      "skipped this node because of less than 3 leaves!\n",
      "Colobus-guereza_BWC2115_CGTACG_L002_001_filtered_r1r2combined\n",
      "\n",
      "\n",
      "skipped this node because of less than 3 leaves!\n",
      "Suricata-suricatta_S_S_Temp_D701-AK1681_filtered_r1r2combined\n",
      "\n",
      "\n",
      "skipped this node because of less than 3 leaves!\n",
      "node36\n",
      "\n",
      "\n",
      "Checking out this node\n",
      "node37\n",
      "0    mantled_guereza.5\n",
      "1      european_hare.3\n",
      "2            meerkat.2\n",
      "Name: species_id, dtype: object\n",
      "This node made it!\n",
      "\n",
      "\n",
      "Checking out this node\n",
      "node38\n",
      "0    mantled_guereza.5\n",
      "1      european_hare.2\n",
      "2            meerkat.2\n",
      "Name: species_id, dtype: object\n",
      "This node made it!\n",
      "\n",
      "\n",
      "Checking out this node\n",
      "node39\n",
      "0            domestic_goose.3\n",
      "1           mantled_guereza.5\n",
      "2                     fossa.1\n",
      "3               fallow_deer.1\n",
      "4     northern_house-martin.1\n",
      "5              domestic_cat.2\n",
      "6            dwarf_mongoose.1\n",
      "7                     human.3\n",
      "8             european_hare.3\n",
      "9           banded_mongoose.1\n",
      "10         pygmy_slow_loris.1\n",
      "11                 kinkajou.1\n",
      "12             king_vulture.2\n",
      "13                  meerkat.1\n",
      "14        southern_tamandua.1\n",
      "15                  red_fox.2\n",
      "Name: species_id, dtype: object\n",
      "This node made it!\n",
      "\n",
      "\n",
      "Checking out this node\n",
      "node40\n",
      "0                      domestic_goose.3\n",
      "1                     mantled_guereza.5\n",
      "2                               fossa.1\n",
      "3                         fallow_deer.1\n",
      "4               northern_house-martin.1\n",
      "5                        domestic_cat.2\n",
      "6                      dwarf_mongoose.2\n",
      "7                               human.2\n",
      "8                       european_hare.3\n",
      "9                     banded_mongoose.1\n",
      "10                   pygmy_slow_loris.1\n",
      "11                           kinkajou.1\n",
      "12                       king_vulture.2\n",
      "13                            meerkat.2\n",
      "14                  southern_tamandua.1\n",
      "15    southern_three-banded_armadillo.1\n",
      "16                            red_fox.2\n",
      "Name: species_id, dtype: object\n",
      "This node made it!\n",
      "\n",
      "\n",
      "Checking out this node\n",
      "node41\n",
      "0                      domestic_goose.3\n",
      "1                     mantled_guereza.5\n",
      "2                               fossa.1\n",
      "3                         fallow_deer.1\n",
      "4               northern_house-martin.1\n",
      "5                        domestic_cat.2\n",
      "6                      dwarf_mongoose.2\n",
      "7                               human.2\n",
      "8                       european_hare.3\n",
      "9                     banded_mongoose.1\n",
      "10                        raccoon_dog.1\n",
      "11                   pygmy_slow_loris.2\n",
      "12                           kinkajou.1\n",
      "13                       king_vulture.3\n",
      "14                            meerkat.2\n",
      "15                  southern_tamandua.1\n",
      "16    southern_three-banded_armadillo.1\n",
      "17                            red_fox.2\n",
      "Name: species_id, dtype: object\n",
      "This node made it!\n",
      "\n",
      "\n",
      "skipped this node because of less than 3 leaves!\n",
      "Callosciurus-prevosti_Song51_24754_host_filtered_r1r2combined\n",
      "\n",
      "\n",
      "Checking out this node\n",
      "root\n",
      "0                      domestic_goose.3\n",
      "1                  prevost's_squirrel.1\n",
      "2           hoffmann's_two-toed_sloth.1\n",
      "3                     mantled_guereza.5\n",
      "4                               fossa.1\n",
      "5                         fallow_deer.1\n",
      "6               northern_house-martin.1\n",
      "7             elegant_crested_tinamou.2\n",
      "8                        domestic_cat.2\n",
      "9                     western_gorilla.1\n",
      "10                     dwarf_mongoose.2\n",
      "11                              human.4\n",
      "12                   ringtailed_lemur.1\n",
      "13                      european_hare.1\n",
      "14                    banded_mongoose.1\n",
      "15                        raccoon_dog.1\n",
      "16                   pygmy_slow_loris.1\n",
      "17             thick-tailed_bush_baby.1\n",
      "18                           kinkajou.1\n",
      "19                            raccoon.1\n",
      "20                       glass_lizard.1\n",
      "21           siberian_flying_squirrel.1\n",
      "22         new_caledonian_giant_gecko.1\n",
      "23                               rhea.1\n",
      "24                       king_vulture.3\n",
      "25                            meerkat.1\n",
      "26                  southern_tamandua.1\n",
      "27    southern_three-banded_armadillo.1\n",
      "28                  delacour's_langur.1\n",
      "29                            red_fox.2\n",
      "Name: species_id, dtype: object\n",
      "This node made it!\n",
      "\n",
      "\n"
     ]
    }
   ],
   "source": [
    "dm_host=host_tree_orig.tip_tip_distances()\n",
    "sample_node_dict=recursive_mantel_sample(sample_tree,host_md_orig,\"TimeTree_returned\",\"SampleID2\",dm_host)"
   ]
  },
  {
   "cell_type": "code",
   "execution_count": 178,
   "metadata": {
    "scrolled": true
   },
   "outputs": [
    {
     "data": {
      "text/plain": [
       "{'node4': (0.19964123884621948, 0.383),\n",
       " 'node5': (0.2598379671947494, 0.584),\n",
       " 'node6': (0.017072521383876257, 0.952),\n",
       " 'node8': (0.30592647175696214, 0.009),\n",
       " 'node9': (0.3303494051506864, 0.033),\n",
       " 'node12': (-0.9999338583898293, 0.337),\n",
       " 'node13': (-0.44473704364652555, 0.344),\n",
       " 'node14': (0.3975285882213688, 0.021),\n",
       " 'node15': (0.39703693385209055, 0.018),\n",
       " 'node16': (0.41670159286459096, 0.014),\n",
       " 'node20': (-0.32323815643556464, 1.0),\n",
       " 'node21': (-0.3690244367572667, 0.403),\n",
       " 'node22': (-0.11341385028158926, 0.888),\n",
       " 'node27': (0.14333202371659573, 0.565),\n",
       " 'node28': (0.16873555066680854, 0.416),\n",
       " 'node29': (0.16873555066680854, 0.412),\n",
       " 'node31': (0.056145452193303, 0.853),\n",
       " 'node32': (0.10225100640422312, 0.721),\n",
       " 'node33': (0.10686603928813611, 0.639),\n",
       " 'node35': (0.23603978877163145, 0.23),\n",
       " 'node37': (-0.9933300896766428, 0.334),\n",
       " 'node38': (-0.9991267042626484, 0.384),\n",
       " 'node39': (0.18337669332681047, 0.338),\n",
       " 'node40': (0.08606921959419757, 0.629),\n",
       " 'node41': (0.12197312406091593, 0.456),\n",
       " 'root': (0.36083494640156416, 0.006)}"
      ]
     },
     "execution_count": 178,
     "metadata": {},
     "output_type": "execute_result"
    }
   ],
   "source": [
    "sample_node_dict"
   ]
  },
  {
   "cell_type": "markdown",
   "metadata": {},
   "source": [
    "### Write nodes associated with full sample tree to file for visualizaation on subsequent ITOL tree \n",
    "##### Remember the sample tree with annotated nodes itself have already been created and saved"
   ]
  },
  {
   "cell_type": "code",
   "execution_count": 179,
   "metadata": {},
   "outputs": [],
   "source": [
    "want_to_save_file = True"
   ]
  },
  {
   "cell_type": "code",
   "execution_count": 180,
   "metadata": {},
   "outputs": [],
   "source": [
    "if want_to_save_file:\n",
    "    node_df =  pd.DataFrame.from_dict(sample_node_dict, orient='index')\n",
    "    node_df.columns = ['r','p']\n",
    "    node_df.to_csv(join(tree_dir, \"mantel_patristic_sampleTreeNodes_\" +marker_threshold+\"_\"+correlation_type+ category +\".csv\"))"
   ]
  },
  {
   "cell_type": "markdown",
   "metadata": {},
   "source": [
    "## Host tree mantel node calculation\n",
    "### Subset metadata to only those samples in sample tree then subset to one per species"
   ]
  },
  {
   "cell_type": "code",
   "execution_count": 338,
   "metadata": {},
   "outputs": [],
   "source": [
    "sample_tips = [x.name for x in sample_tree.tips()] ## find nodes\n",
    "host_md_bacteria=host_md_orig.loc[(host_md_orig['SampleID2'].isin(sample_tips)),] ## subset metadata"
   ]
  },
  {
   "cell_type": "code",
   "execution_count": 339,
   "metadata": {},
   "outputs": [],
   "source": [
    "one_per_species = True"
   ]
  },
  {
   "cell_type": "code",
   "execution_count": 340,
   "metadata": {},
   "outputs": [],
   "source": [
    "if one_per_species: \n",
    "    host_md_bacteria_1s = host_md_bacteria.loc[(host_md_bacteria['SampleID2'].isin(sample_tips)),].groupby('TimeTree_returned').first().reset_index()\n",
    "    host_md_bacteria = host_md_bacteria_1s ## resave the image for clarity sake"
   ]
  },
  {
   "cell_type": "markdown",
   "metadata": {},
   "source": [
    "### Prune sample and host tree with new subset  then convert to distance matrices "
   ]
  },
  {
   "cell_type": "code",
   "execution_count": 341,
   "metadata": {},
   "outputs": [],
   "source": [
    "sheared_sample_tree = sample_tree.shear(host_md_bacteria['SampleID2'])\n",
    "sheared_host_tree = host_tree_orig.shear(host_md_bacteria['TimeTree_returned'])"
   ]
  },
  {
   "cell_type": "code",
   "execution_count": 342,
   "metadata": {},
   "outputs": [
    {
     "name": "stdout",
     "output_type": "stream",
     "text": [
      "['Choloepus_hoffmanni', 'Eudromia_elegans', 'Lepus_europaeus', 'Anser_anser', 'Nycticebus_pygmaeus', 'Delichon_urbicum', 'Helogale_parvula', 'Sarcoramphus_papa', 'Potos_flavus', 'Homo_sapiens', 'Tamandua_tetradactyla', 'Dama_dama', 'Suricata_suricatta', 'Colobus_guereza', 'Vulpes_vulpes', 'Mungos_mungo', 'Nyctereutes_procyonoides', 'Tolypeutes_matacus', 'Callosciurus_prevostii']\n",
      "<class 'list'>\n",
      "('Choloepus-hoffmanni_Song51_25173_host_filtered_r1r2combined', 'Eudromia-elegans_S_S_Temp_D710-AK1682_filtered_r1r2combined', 'Lepus-europaeus_SAMEA6809601.ebi_filtered_r1r2combined_sampleCombined', 'Anser-anser_SAMEA6809432.ebi_filtered_r1r2combined_sampleCombined', 'Nycticebus-pygmaeus_SAMEA6809443.ebi_filtered_r1r2combined_sampleCombined', 'Delichon-urbicum_SAMEA6809453.ebi_filtered_r1r2combined_sampleCombined', 'Helogale-parvula_S_S_Temp_D704-AK1544_filtered_r1r2combined', 'Sarcoramphus-papa_S_S_Temp_D705-AK1780_filtered_r1r2combined', 'Potos-flavus_SAMEA6809525.ebi_filtered_r1r2combined_sampleCombined', 'Homo-sapiens_SAMEA6809423.ebi_filtered_r1r2combined_sampleCombined', 'Tamandua-tetradactyla_Song51_24661_host_filtered_r1r2combined', 'Dama-dama_SAMEA6809642.ebi_filtered_r1r2combined_sampleCombined', 'Suricata-suricatta_S_S_Temp_D705-AK1681_filtered_r1r2combined', 'Colobus-guereza_BWC2115_CGTACG_L002_001_filtered_r1r2combined', 'Vulpes-vulpes_SAMEA6809599.ebi_filtered_r1r2combined_sampleCombined', 'Mungos-mungo_Song51_24742_host_filtered_r1r2combined', 'Nyctereutes-procyonoides_Song51_24065_host_filtered_r1r2combined', 'Tolypeutes-matacus_Song51_24740_host_filtered_r1r2combined', 'Callosciurus-prevosti_Song51_24754_host_filtered_r1r2combined')\n",
      "<class 'tuple'>\n"
     ]
    }
   ],
   "source": [
    "host_patristic_dm = sheared_host_tree.tip_tip_distances() ## create host dm\n",
    "bacteria_patristic_dm =sheared_sample_tree.tip_tip_distances() ## Create bacteria dm \n",
    "\n",
    "## Change tip names of bacteria_patristic_dm \n",
    "# acquire sample tip from each tree\n",
    "sample_tips = [x.name for x in sheared_sample_tree.tips()]\n",
    "\n",
    "# ## Change label of sample dm \n",
    "# ## get corresponding name of the ids\n",
    "rename_df = host_md_bacteria.loc[host_md_bacteria['SampleID2'].isin(sample_tips),\n",
    "                             ['SampleID2','TimeTree_returned']].set_index('SampleID2')\n",
    "rename_ids = [rename_df.loc[x, 'TimeTree_returned'] for x in sample_tips]\n",
    "print(rename_ids)\n",
    "print(type(rename_ids))\n",
    "\n",
    "print(bacteria_patristic_dm.ids)\n",
    "print(type(bacteria_patristic_dm.ids))\n",
    "\n",
    "# ## Change label of distance matrix \n",
    "bacteria_patristic_dm.ids = tuple(rename_ids)"
   ]
  },
  {
   "cell_type": "code",
   "execution_count": 343,
   "metadata": {},
   "outputs": [],
   "source": [
    "# assign internal node names, non-integer (e.g 268 --> node 268)\n",
    "sheared_host_tree.assign_ids()\n",
    "\n",
    "for n in sheared_host_tree.postorder():\n",
    "    if n.is_tip():\n",
    "        continue\n",
    "    elif n.name[0].isdigit(): \n",
    "        n.name = \"node%s\" % n.name"
   ]
  },
  {
   "cell_type": "code",
   "execution_count": 344,
   "metadata": {},
   "outputs": [
    {
     "name": "stdout",
     "output_type": "stream",
     "text": [
      "1.0\n"
     ]
    }
   ],
   "source": [
    "node_dict = recursive_mantel_host( sheared_host_tree, host_patristic_dm, bacteria_patristic_dm, method=correlation_type)"
   ]
  },
  {
   "cell_type": "code",
   "execution_count": 345,
   "metadata": {},
   "outputs": [
    {
     "data": {
      "text/plain": [
       "{'node227': (0.753702346348183, 0.227),\n",
       " 'node523': (-0.03692744729379982, 0.949),\n",
       " 'node312': (0.0537923237370915, 0.755),\n",
       " 'node397': (0.052847951887584725, 0.91),\n",
       " 'node517': (0.16402458687611404, 0.313),\n",
       " 'node527': (0.45793550804619343, 0.007),\n",
       " 'node526': (0.3073903085717003, 0.032)}"
      ]
     },
     "execution_count": 345,
     "metadata": {},
     "output_type": "execute_result"
    }
   ],
   "source": [
    "node_dict\n"
   ]
  },
  {
   "cell_type": "markdown",
   "metadata": {},
   "source": [
    "### Write nodes associated with host tree as well as sheared host tree to file for visualization on subsequent ITOL tree "
   ]
  },
  {
   "cell_type": "code",
   "execution_count": 346,
   "metadata": {},
   "outputs": [],
   "source": [
    "want_to_save_file = True"
   ]
  },
  {
   "cell_type": "code",
   "execution_count": 347,
   "metadata": {},
   "outputs": [],
   "source": [
    "if want_to_save_file:\n",
    "    ## Save the host tree\n",
    "    sheared_host_tree.write(join(tree_dir,'sheared_host_tree' + category +\".tre\"), format='newick')\n",
    "    \n",
    "    ## Save the nodes \n",
    "    node_df =  pd.DataFrame.from_dict(node_dict, orient='index')\n",
    "    node_df.columns = ['r','p']\n",
    "    node_df.to_csv(join(tree_dir, \"mantel_patristic_hostTreeNodes_\" +marker_threshold+\"_\"+correlation_type+ category +\".csv\"))"
   ]
  },
  {
   "cell_type": "markdown",
   "metadata": {},
   "source": [
    "### Plot linear relationship of the dm of entire tree; present mantel test results on the same plot\n",
    "#### Extract stored value of mantel test over 100 iteration "
   ]
  },
  {
   "cell_type": "code",
   "execution_count": 348,
   "metadata": {},
   "outputs": [
    {
     "name": "stdout",
     "output_type": "stream",
     "text": [
      "mantel_patristic_50_spearman_100repititions_GTRGAMMA.csv\n"
     ]
    },
    {
     "data": {
      "text/html": [
       "<div>\n",
       "<style scoped>\n",
       "    .dataframe tbody tr th:only-of-type {\n",
       "        vertical-align: middle;\n",
       "    }\n",
       "\n",
       "    .dataframe tbody tr th {\n",
       "        vertical-align: top;\n",
       "    }\n",
       "\n",
       "    .dataframe thead th {\n",
       "        text-align: right;\n",
       "    }\n",
       "</style>\n",
       "<table border=\"1\" class=\"dataframe\">\n",
       "  <thead>\n",
       "    <tr style=\"text-align: right;\">\n",
       "      <th></th>\n",
       "      <th>r</th>\n",
       "      <th>p</th>\n",
       "      <th>n</th>\n",
       "    </tr>\n",
       "  </thead>\n",
       "  <tbody>\n",
       "    <tr>\n",
       "      <th>Akkermansia_muciniphila</th>\n",
       "      <td>0.2531</td>\n",
       "      <td>0.0220</td>\n",
       "      <td>18</td>\n",
       "    </tr>\n",
       "    <tr>\n",
       "      <th>Bacteroides_dorei</th>\n",
       "      <td>0.0054</td>\n",
       "      <td>0.8620</td>\n",
       "      <td>15</td>\n",
       "    </tr>\n",
       "    <tr>\n",
       "      <th>Bacteroides_fragilis</th>\n",
       "      <td>0.0589</td>\n",
       "      <td>0.7248</td>\n",
       "      <td>18</td>\n",
       "    </tr>\n",
       "    <tr>\n",
       "      <th>Bacteroides_thetaiotaomicron</th>\n",
       "      <td>0.3552</td>\n",
       "      <td>0.0109</td>\n",
       "      <td>14</td>\n",
       "    </tr>\n",
       "    <tr>\n",
       "      <th>Bacteroides_uniformis</th>\n",
       "      <td>-0.0062</td>\n",
       "      <td>0.9313</td>\n",
       "      <td>25</td>\n",
       "    </tr>\n",
       "    <tr>\n",
       "      <th>Bacteroides_vulgatus</th>\n",
       "      <td>0.3369</td>\n",
       "      <td>0.0287</td>\n",
       "      <td>19</td>\n",
       "    </tr>\n",
       "    <tr>\n",
       "      <th>Clostridium_perfringens</th>\n",
       "      <td>0.1587</td>\n",
       "      <td>0.0220</td>\n",
       "      <td>35</td>\n",
       "    </tr>\n",
       "    <tr>\n",
       "      <th>Escherichia_coli</th>\n",
       "      <td>-0.0380</td>\n",
       "      <td>0.3770</td>\n",
       "      <td>68</td>\n",
       "    </tr>\n",
       "    <tr>\n",
       "      <th>Enterococcus_faecalis</th>\n",
       "      <td>-0.0125</td>\n",
       "      <td>0.9155</td>\n",
       "      <td>15</td>\n",
       "    </tr>\n",
       "    <tr>\n",
       "      <th>Parabacteroides_distasonis</th>\n",
       "      <td>0.2162</td>\n",
       "      <td>0.2721</td>\n",
       "      <td>13</td>\n",
       "    </tr>\n",
       "    <tr>\n",
       "      <th>Prevotella_copri</th>\n",
       "      <td>0.2302</td>\n",
       "      <td>0.1555</td>\n",
       "      <td>15</td>\n",
       "    </tr>\n",
       "    <tr>\n",
       "      <th>Pseudomonas_yamanorum</th>\n",
       "      <td>-0.2085</td>\n",
       "      <td>0.1688</td>\n",
       "      <td>17</td>\n",
       "    </tr>\n",
       "  </tbody>\n",
       "</table>\n",
       "</div>"
      ],
      "text/plain": [
       "                                   r       p   n\n",
       "Akkermansia_muciniphila       0.2531  0.0220  18\n",
       "Bacteroides_dorei             0.0054  0.8620  15\n",
       "Bacteroides_fragilis          0.0589  0.7248  18\n",
       "Bacteroides_thetaiotaomicron  0.3552  0.0109  14\n",
       "Bacteroides_uniformis        -0.0062  0.9313  25\n",
       "Bacteroides_vulgatus          0.3369  0.0287  19\n",
       "Clostridium_perfringens       0.1587  0.0220  35\n",
       "Escherichia_coli             -0.0380  0.3770  68\n",
       "Enterococcus_faecalis        -0.0125  0.9155  15\n",
       "Parabacteroides_distasonis    0.2162  0.2721  13\n",
       "Prevotella_copri              0.2302  0.1555  15\n",
       "Pseudomonas_yamanorum        -0.2085  0.1688  17"
      ]
     },
     "execution_count": 348,
     "metadata": {},
     "output_type": "execute_result"
    }
   ],
   "source": [
    "file_name=\"mantel_patristic\"+category+\"_\"+marker_threshold+\"_\" +correlation_type+\"_\"+ str(number_of_iterations) +\"repititions_GTRGAMMA.csv\"\n",
    "print(file_name)\n",
    "mantel_df = pd.read_csv(join(output_mantel_dir, file_name),index_col=0)\n",
    "mantel_df"
   ]
  },
  {
   "cell_type": "code",
   "execution_count": 349,
   "metadata": {},
   "outputs": [
    {
     "data": {
      "text/plain": [
       "True"
      ]
     },
     "execution_count": 349,
     "metadata": {},
     "output_type": "execute_result"
    }
   ],
   "source": [
    "## Checking if the two dm is the same\n",
    "host_patristic_dm.shape == bacteria_patristic_dm.shape"
   ]
  },
  {
   "cell_type": "markdown",
   "metadata": {},
   "source": [
    "#### Plot distance matrixes"
   ]
  },
  {
   "cell_type": "code",
   "execution_count": 278,
   "metadata": {},
   "outputs": [
    {
     "name": "stderr",
     "output_type": "stream",
     "text": [
      "/home/jhc103/miniconda3/envs/jupyter-general/lib/python3.6/site-packages/seaborn/_decorators.py:43: FutureWarning: Pass the following variables as keyword args: x, y, data. From version 0.12, the only valid positional argument will be `data`, and passing other arguments without an explicit keyword will result in an error or misinterpretation.\n",
      "  FutureWarning\n"
     ]
    },
    {
     "name": "stdout",
     "output_type": "stream",
     "text": [
      "r: -0.038\n",
      "p: 0.377\n",
      "m: 0.0000272\n",
      "\n"
     ]
    },
    {
     "data": {
      "image/png": "[encoded data removed]",
      "text/plain": [
       "<Figure size 432x288 with 1 Axes>"
      ]
     },
     "metadata": {
      "needs_background": "light"
     },
     "output_type": "display_data"
    }
   ],
   "source": [
    "fig, ax1 = plt.subplots(1,1)\n",
    "# node_values(tips, host_tree_subset, node_df_spearson, patristic_dm, dm_subset)\n",
    "ax1, m, r, p = node_values(mantel_df, bacteria, host_patristic_dm, bacteria_patristic_dm,ax1)\n",
    "ax1.set_xlabel(\"Estimated divergence time \\n between hosts (MA)\")\n",
    "ax1.set_ylabel(\"Patristic distance between \\n\" + bacteria+\" strains\")\n",
    "ax1.text(0.05,0.85,'Average mantel result over '+str(number_of_iterations)+' iterations\\n'+correlation_type+' correlation: ' + str(round(r,3)) + \"\\np-value: \" + str(round(p,3)),horizontalalignment='left',\n",
    "     verticalalignment='center', transform = ax1.transAxes)\n",
    "ax1.text(0.05,0.30,\"slope: \" + str(round(m,10)),horizontalalignment='left',\n",
    "     verticalalignment='center', transform = ax1.transAxes)\n",
    "\n",
    "plt.savefig(output_fig_dir+\"phylosymbiosis_\"+marker_threshold+\"_\"+bacteria+\"_\"+correlation_type+\"_\"+str(number_of_iterations)+\"repititions.png\",dpi=900, bbox_inches=\"tight\")\n",
    "fig.show()"
   ]
  },
  {
   "cell_type": "markdown",
   "metadata": {},
   "source": [
    "# Create itol tree color file and annotations taken from Jon Sander's notebook"
   ]
  },
  {
   "cell_type": "markdown",
   "metadata": {},
   "source": [
    "### Choose which tree & nodes we are interested in. Host or sample/bacteria tree? "
   ]
  },
  {
   "cell_type": "code",
   "execution_count": 181,
   "metadata": {},
   "outputs": [],
   "source": [
    "## Choose which tree ==> \"host\" for host tree, \"bacteria\" for sample tree \n",
    "    ## Remember: we are more interested in the subsetted sample tree than the subsetted sample tree \n",
    "    ## used to calculate the phylosymbiosis level for the host tree\n",
    "decision = \"bacteria\"\n",
    "save_sample_tree = True\n",
    "if decision == \"host\": \n",
    "    ## Get corresponding tree\n",
    "    tree_interested =  TreeNode.read(join(tree_dir,'sheared_host_tree' + category +\".tre\"), format='newick', convert_underscores=False)\n",
    "    ## Get tree tips \n",
    "    tree_tips = [x.name for x in tree_interested.tips()]\n",
    "    ## Get node and associated p and r values \n",
    "    node_df = pd.read_csv(join(tree_dir, \"mantel_patristic_hostTreeNodes_\" +marker_threshold+\"_\"+correlation_type+ category +\".csv\"), index_col=0)\n",
    "    ## Get annotation for saving\n",
    "    annotation = \"hostTree_\"\n",
    "    ## Save associated dataframe\n",
    "    subset_md=host_md_bacteria\n",
    "    \n",
    "elif decision == \"bacteria\":\n",
    "    tree_sampleID2 = TreeNode.read(join(tree_dir, 'RAxML_bestTree.s__'+bacteria+'.StrainPhlAn3.node.tre'),format='newick', convert_underscores=False)\n",
    "    tree_tips_sampleID2 = [x.name for x in tree_sampleID2.tips()]\n",
    "    subset_md = host_md_orig.loc[host_md_orig['SampleID2'].isin(tree_tips_sampleID2),]\n",
    "    \n",
    "    # Change leaf name to corresponding TimeTree_returned value\n",
    "    for n in tree_sampleID2.tips():\n",
    "        if n.name != bacteria and n.name != \"Escherichia_coli_o157_h7\":\n",
    "            n.name = str(subset_md.loc[subset_md['SampleID2'] == n.name, 'species_id'].values[0])\n",
    "    \n",
    "    if save_sample_tree: \n",
    "        tree_sampleID2.write(join(tree_dir, 'RAxML_bestTree.s__'+bacteria+'.StrainPhlAn3.node_leafName.tre'))\n",
    "    \n",
    "    tree_interested=tree_sampleID2\n",
    "    tree_tips=[x.name for x in tree_interested.tips()]\n",
    "    \n",
    "    node_df=pd.read_csv(join(tree_dir, \"mantel_patristic_sampleTreeNodes_\" +marker_threshold+\"_\"+correlation_type+ category +\".csv\"), index_col=0)\n",
    "    annotation = \"sampleTree_\"\n"
   ]
  },
  {
   "cell_type": "markdown",
   "metadata": {},
   "source": [
    "### Phylosymbiosis color bar"
   ]
  },
  {
   "cell_type": "code",
   "execution_count": 351,
   "metadata": {},
   "outputs": [],
   "source": [
    "itol_annotation_dir=tree_dir+\"/itol\"\n",
    "makedirs(itol_annotation_dir, exist_ok=True)"
   ]
  },
  {
   "cell_type": "code",
   "execution_count": 352,
   "metadata": {},
   "outputs": [
    {
     "data": {
      "text/plain": [
       "0.9817453545482834"
      ]
     },
     "execution_count": 352,
     "metadata": {},
     "output_type": "execute_result"
    }
   ],
   "source": [
    "node_df['r'].max()"
   ]
  },
  {
   "cell_type": "code",
   "execution_count": 353,
   "metadata": {},
   "outputs": [],
   "source": [
    "import matplotlib as mpl"
   ]
  },
  {
   "cell_type": "code",
   "execution_count": 354,
   "metadata": {
    "scrolled": true
   },
   "outputs": [
    {
     "data": {
      "text/plain": [
       "<matplotlib.colorbar.Colorbar at 0x7f1afa31eb70>"
      ]
     },
     "execution_count": 354,
     "metadata": {},
     "output_type": "execute_result"
    },
    {
     "data": {
      "image/png": "[encoded data removed]",
      "text/plain": [
       "<Figure size 432x288 with 2 Axes>"
      ]
     },
     "metadata": {
      "needs_background": "light"
     },
     "output_type": "display_data"
    }
   ],
   "source": [
    "cmax = node_df['r'].max()\n",
    "img = plt.imshow(np.array([[0,cmax]]), cmap=mpl.cm.plasma)\n",
    "img.set_visible(False)\n",
    "\n",
    "plt.colorbar(orientation=\"vertical\")"
   ]
  },
  {
   "cell_type": "code",
   "execution_count": 355,
   "metadata": {},
   "outputs": [],
   "source": [
    "def colorbar(fp,\n",
    "             cmax=1,\n",
    "             size=(4,.7)):\n",
    "    a = np.array([[0,cmax]])\n",
    "    pl.figure(figsize=size)\n",
    "    img = pl.imshow(a, cmap=mpl.cm.plasma)\n",
    "    pl.gca().set_visible(False)\n",
    "    cax = pl.axes([0.1, 0.4, 0.8, 0.5])\n",
    "    pl.colorbar(orientation='horizontal', cax=cax)\n",
    "    pl.savefig(fp)"
   ]
  },
  {
   "cell_type": "code",
   "execution_count": 356,
   "metadata": {},
   "outputs": [
    {
     "data": {
      "image/png": "[encoded data removed]",
      "text/plain": [
       "<Figure size 180x43.2 with 2 Axes>"
      ]
     },
     "metadata": {
      "needs_background": "light"
     },
     "output_type": "display_data"
    }
   ],
   "source": [
    "colorbar(join(itol_annotation_dir, annotation+\"mantel_\"+ correlation_type +\"_itol-r_colorbar.pdf\"),\n",
    "         cmax=node_df['r'].max(),\n",
    "         size=(2.5,.6))"
   ]
  },
  {
   "cell_type": "markdown",
   "metadata": {},
   "source": [
    "### Phylosymbiosis color gradient"
   ]
  },
  {
   "cell_type": "code",
   "execution_count": 357,
   "metadata": {},
   "outputs": [],
   "source": [
    "def get_colors(vals, col, cmap=mpl.cm.plasma):\n",
    "    norm = mpl.colors.Normalize(vmin=0, vmax=np.max(vals))\n",
    "    \n",
    "    colors = []\n",
    "    \n",
    "    for i in vals:\n",
    "        rgb = mpl.cm.ScalarMappable(norm=norm,\n",
    "                                    cmap=cmap).to_rgba(i)\n",
    "        hex_val = mpl.colors.rgb2hex(rgb)\n",
    "        colors.append(hex_val)\n",
    "\n",
    "    return(colors)\n",
    "\n",
    "def write_itol_colors(node_df, col, fp, label='branch_colors'):\n",
    "    out = ('DATASET_STYLE\\n\\n'\n",
    "           'SEPARATOR SPACE\\n\\n'\n",
    "           'COLOR #ffff00\\n\\n'\n",
    "           'DATASET_LABEL %s\\n\\n'\n",
    "           'DATA\\n'\n",
    "           '#NODE_ID TYPE COLOR LABEL_OR_STYLE SIZE_FACTOR\\n' % label)\n",
    "\n",
    "    for i, row in node_df.iterrows():\n",
    "        out += '{0} branch node {1} 2 normal\\n'.format(i, row[col])\n",
    "\n",
    "    with open(fp, 'w') as f:\n",
    "        f.write(out)"
   ]
  },
  {
   "cell_type": "code",
   "execution_count": 360,
   "metadata": {},
   "outputs": [
    {
     "data": {
      "text/html": [
       "<div>\n",
       "<style scoped>\n",
       "    .dataframe tbody tr th:only-of-type {\n",
       "        vertical-align: middle;\n",
       "    }\n",
       "\n",
       "    .dataframe tbody tr th {\n",
       "        vertical-align: top;\n",
       "    }\n",
       "\n",
       "    .dataframe thead th {\n",
       "        text-align: right;\n",
       "    }\n",
       "</style>\n",
       "<table border=\"1\" class=\"dataframe\">\n",
       "  <thead>\n",
       "    <tr style=\"text-align: right;\">\n",
       "      <th></th>\n",
       "      <th>r</th>\n",
       "      <th>p</th>\n",
       "      <th>r_color</th>\n",
       "    </tr>\n",
       "  </thead>\n",
       "  <tbody>\n",
       "    <tr>\n",
       "      <th>node4</th>\n",
       "      <td>-0.315813</td>\n",
       "      <td>1.000</td>\n",
       "      <td>#0d0887</td>\n",
       "    </tr>\n",
       "    <tr>\n",
       "      <th>node5</th>\n",
       "      <td>0.669152</td>\n",
       "      <td>0.069</td>\n",
       "      <td>#ef7e50</td>\n",
       "    </tr>\n",
       "    <tr>\n",
       "      <th>node6</th>\n",
       "      <td>0.722748</td>\n",
       "      <td>0.031</td>\n",
       "      <td>#f79044</td>\n",
       "    </tr>\n",
       "    <tr>\n",
       "      <th>node9</th>\n",
       "      <td>-0.341436</td>\n",
       "      <td>1.000</td>\n",
       "      <td>#0d0887</td>\n",
       "    </tr>\n",
       "    <tr>\n",
       "      <th>node10</th>\n",
       "      <td>-0.374155</td>\n",
       "      <td>0.418</td>\n",
       "      <td>#0d0887</td>\n",
       "    </tr>\n",
       "    <tr>\n",
       "      <th>node14</th>\n",
       "      <td>-0.295536</td>\n",
       "      <td>1.000</td>\n",
       "      <td>#0d0887</td>\n",
       "    </tr>\n",
       "    <tr>\n",
       "      <th>node15</th>\n",
       "      <td>-0.147550</td>\n",
       "      <td>0.466</td>\n",
       "      <td>#0d0887</td>\n",
       "    </tr>\n",
       "    <tr>\n",
       "      <th>node17</th>\n",
       "      <td>0.981745</td>\n",
       "      <td>0.330</td>\n",
       "      <td>#f0f921</td>\n",
       "    </tr>\n",
       "    <tr>\n",
       "      <th>node18</th>\n",
       "      <td>-0.034977</td>\n",
       "      <td>0.880</td>\n",
       "      <td>#0d0887</td>\n",
       "    </tr>\n",
       "    <tr>\n",
       "      <th>node19</th>\n",
       "      <td>0.033181</td>\n",
       "      <td>0.845</td>\n",
       "      <td>#220690</td>\n",
       "    </tr>\n",
       "    <tr>\n",
       "      <th>node20</th>\n",
       "      <td>0.285930</td>\n",
       "      <td>0.055</td>\n",
       "      <td>#8d0ba5</td>\n",
       "    </tr>\n",
       "    <tr>\n",
       "      <th>node21</th>\n",
       "      <td>0.317481</td>\n",
       "      <td>0.021</td>\n",
       "      <td>#9814a0</td>\n",
       "    </tr>\n",
       "    <tr>\n",
       "      <th>node22</th>\n",
       "      <td>0.274536</td>\n",
       "      <td>0.079</td>\n",
       "      <td>#8808a6</td>\n",
       "    </tr>\n",
       "    <tr>\n",
       "      <th>node23</th>\n",
       "      <td>0.155013</td>\n",
       "      <td>0.375</td>\n",
       "      <td>#5901a5</td>\n",
       "    </tr>\n",
       "    <tr>\n",
       "      <th>root</th>\n",
       "      <td>0.191876</td>\n",
       "      <td>0.093</td>\n",
       "      <td>#6900a8</td>\n",
       "    </tr>\n",
       "  </tbody>\n",
       "</table>\n",
       "</div>"
      ],
      "text/plain": [
       "               r      p  r_color\n",
       "node4  -0.315813  1.000  #0d0887\n",
       "node5   0.669152  0.069  #ef7e50\n",
       "node6   0.722748  0.031  #f79044\n",
       "node9  -0.341436  1.000  #0d0887\n",
       "node10 -0.374155  0.418  #0d0887\n",
       "node14 -0.295536  1.000  #0d0887\n",
       "node15 -0.147550  0.466  #0d0887\n",
       "node17  0.981745  0.330  #f0f921\n",
       "node18 -0.034977  0.880  #0d0887\n",
       "node19  0.033181  0.845  #220690\n",
       "node20  0.285930  0.055  #8d0ba5\n",
       "node21  0.317481  0.021  #9814a0\n",
       "node22  0.274536  0.079  #8808a6\n",
       "node23  0.155013  0.375  #5901a5\n",
       "root    0.191876  0.093  #6900a8"
      ]
     },
     "execution_count": 360,
     "metadata": {},
     "output_type": "execute_result"
    }
   ],
   "source": [
    "node_df['r_color'] = get_colors(node_df['r'], col='r')\n",
    "node_df"
   ]
  },
  {
   "cell_type": "code",
   "execution_count": 359,
   "metadata": {},
   "outputs": [],
   "source": [
    "write_itol_colors(node_df, \n",
    "                  'r_color', \n",
    "                  join(itol_annotation_dir, annotation+'mantel_patristic_' + correlation_type+ '_itol-r_colors.txt'),\n",
    "                  label=correlation_type+'_r')"
   ]
  },
  {
   "cell_type": "markdown",
   "metadata": {},
   "source": [
    "### Category highlighting"
   ]
  },
  {
   "cell_type": "code",
   "execution_count": 289,
   "metadata": {},
   "outputs": [],
   "source": [
    "def write_clade_highlights(md_df, tree, tax_col, tree_col, fp,\n",
    "                           label='category_highlights',\n",
    "                           colors=None, alpha=0.4, cmap=mpl.cm.Set3):\n",
    "    out = ('DATASET_COLORSTRIP\\n\\n'\n",
    "           'SEPARATOR SPACE\\n\\n'\n",
    "           'COLOR #b2df8a\\n\\n'\n",
    "           'DATASET_LABEL %s\\n\\n'% label)\n",
    "    \n",
    "    taxa = md_df[tax_col].unique()\n",
    "    \n",
    "    if colors is None:\n",
    "        clist = cmap(range(len(taxa)), alpha=alpha)\n",
    "        rgblist = ['rgba(%s,%s,%s,%s)' % (int(x[0]*255),\n",
    "                                          int(x[1]*255),\n",
    "                                          int(x[2]*255),\n",
    "                                          x[3]) for x in clist]\n",
    "        colors = {x: rgblist[i] for i, x in enumerate(taxa)}\n",
    "    else:\n",
    "        colors = { clade: colors[clade] for clade in taxa}\n",
    "    \n",
    "    legend_shapes = ' '.join(['1']*len(taxa))\n",
    "    legend_colors = ''\n",
    "    legend_labels = ''\n",
    "    \n",
    "    ## Add annotations you may want with regards to this annotation  \n",
    "    out += ('SHOW_INTERNAL 1\\n'\n",
    "            'STRIP_WIDTH 50\\n'\n",
    "           )\n",
    "    \n",
    "    for x in colors:\n",
    "        legend_colors += ' %s' % colors[x]\n",
    "        legend_labels += ' %s' % x\n",
    "    \n",
    "    out += ('LEGEND_TITLE '+ tax_col +'\\n'\n",
    "            'LEGEND_SHAPES {0}\\n'\n",
    "            'LEGEND_COLORS{1}\\n'\n",
    "            'LEGEND_LABELS{2}\\n\\nDATA\\n').format(legend_shapes,\n",
    "                                            legend_colors,\n",
    "                                            legend_labels)\n",
    "    \n",
    "        \n",
    "    for taxon in taxa:\n",
    "        print(taxon)\n",
    "        tips = list(set(md_df.loc[md_df[tax_col] == taxon, tree_col]))\n",
    "#         node = tree.lowest_common_ancestor(tips)\n",
    "        for tip in tips: \n",
    "            out += \"{0} {1}\\n\".format(tip, colors[taxon])\n",
    "        \n",
    "    with open(fp, 'w') as f:\n",
    "        f.write(out)"
   ]
  },
  {
   "cell_type": "code",
   "execution_count": 290,
   "metadata": {},
   "outputs": [
    {
     "name": "stdout",
     "output_type": "stream",
     "text": [
      "Aves\n",
      "Mammalia\n",
      "Reptilia\n"
     ]
    }
   ],
   "source": [
    "class_colors = {'Amphibia': '#b2df8a',\n",
    "                 'Reptilia': '#33a02c',\n",
    "                 'Hyperoartia': '#fb9a99',\n",
    "                 'Actinopterygii': '#e31a1c',\n",
    "                 'Aves': '#EACB47',\n",
    "                 'Mammalia': '#6a3d9a'}\n",
    "\n",
    "write_clade_highlights(subset_md, \n",
    "                       tree_interested, \n",
    "                        'host_class', \n",
    "                        'species_id',\n",
    "                        join(itol_annotation_dir, annotation+'mantel_itol-Class_colors.txt'),\n",
    "                        colors=class_colors)"
   ]
  },
  {
   "cell_type": "code",
   "execution_count": 291,
   "metadata": {},
   "outputs": [
    {
     "name": "stdout",
     "output_type": "stream",
     "text": [
      "captive\n",
      "wild\n"
     ]
    }
   ],
   "source": [
    "wc_colors = {'captive': '#808080',\n",
    "                'wild': '#000000',\n",
    "                 'human': '#3973ac'}\n",
    "\n",
    "write_clade_highlights(subset_md, \n",
    "                        tree_interested, \n",
    "                        'captive_wild', \n",
    "                        'species_id',\n",
    "                        join(itol_annotation_dir, annotation+'mantel_itol-WildCaptive_colors.txt'),\n",
    "                        colors=wc_colors)"
   ]
  },
  {
   "cell_type": "code",
   "execution_count": 296,
   "metadata": {},
   "outputs": [
    {
     "name": "stdout",
     "output_type": "stream",
     "text": [
      "scavenger\n",
      "carnivore\n",
      "frugivore\n",
      "sanguivore\n",
      "omnivore\n",
      "insectivore\n",
      "carnivore, scavenger\n",
      "herbivore\n",
      "folivore\n",
      "omnivore, frugivore\n",
      "granivore\n",
      "carnivore, omnivore\n",
      "omnivore, insectivore\n"
     ]
    }
   ],
   "source": [
    "wc_colors = {'folivore': '#7acb4b',\n",
    "            'frugivore': '#eb4c42',\n",
    "            'herbivore': '#bbdc86',\n",
    "            'granivore': '#986960',\n",
    "            'omnivore, gummivore': '#967117',\n",
    "            'omnivore, frugivore': '#ed872d',\n",
    "             'carnivore, scavenger': '#483c32',\n",
    "             'carnivore, omnivore': '#a9203e',\n",
    "             'omnivore, insectivore': '#555555',\n",
    "            'omnivore': '#ffa56a',\n",
    "            'insectivore': '#4d3400',\n",
    "            'scavenger': '#ff7a72',\n",
    "            'carnivore': '#a52a2a',\n",
    "             'sanguivore':'#ff4040',\n",
    "            'filter_feeder':'#7fffd4',\n",
    "            'insectivore, frugivore, nectarivore':'#fdee00',\n",
    "            'insectivore, frugivore, folivore':'#87a96b',\n",
    "            'omnivore, scavenger':'#de5d83'}\n",
    "\n",
    "# herbivore                              237\n",
    "# carnivore                              105\n",
    "# omnivore                               104\n",
    "# insectivore                             56\n",
    "# folivore                                46\n",
    "# sanguivore                              30\n",
    "# frugivore                               24\n",
    "# filter_feeder                           21\n",
    "# scavenger                               10\n",
    "# granivore                                9\n",
    "# herbivore, frugivore                     5\n",
    "# omnivore, insectivore                    3\n",
    "# omnivore, gummivore                      2\n",
    "# carnivore, scavenger                     2\n",
    "# omnivore, frugivore                      2\n",
    "# insectivore, granivore                   2\n",
    "# carnivore, omnivore                      2\n",
    "# omnivore, scavenger                      2\n",
    "# frugivore, folivore                      1\n",
    "# insectivore, frugivore, nectarivore      1\n",
    "# insectivore, frugivore, folivore \n",
    "write_clade_highlights(subset_md, \n",
    "                        tree_interested, \n",
    "                        'diet_category_12', \n",
    "                        'species_id',\n",
    "                        join(itol_annotation_dir, annotation+'mantel_itol-DietCategory12_colors.txt'),\n",
    "                        colors=wc_colors)"
   ]
  },
  {
   "cell_type": "code",
   "execution_count": 297,
   "metadata": {},
   "outputs": [
    {
     "name": "stdout",
     "output_type": "stream",
     "text": [
      "carnivore\n",
      "herbivore\n",
      "omnivore\n"
     ]
    }
   ],
   "source": [
    "wc_colors = {'herbivore': '#bbdc86',\n",
    "            'omnivore': '#bd8d43',\n",
    "            'carnivore': '#a52a2a'}\n",
    "\n",
    "write_clade_highlights(subset_md, \n",
    "                        tree_interested, \n",
    "                        'diet_category_3', \n",
    "                        'species_id',\n",
    "                        join(itol_annotation_dir, annotation+'mantel_itol-DietCategory3_colors.txt'),\n",
    "                        colors=wc_colors,\n",
    "                          )"
   ]
  },
  {
   "cell_type": "markdown",
   "metadata": {},
   "source": [
    "### Bar chart "
   ]
  },
  {
   "cell_type": "code",
   "execution_count": 298,
   "metadata": {},
   "outputs": [],
   "source": [
    "def write_bar_highlights(md_df, tax_col, bar_col, fp, legend_title,\n",
    "                           label='marker_percent_bar',\n",
    "                           colors=None, cmap=mpl.cm.Set3):\n",
    "    out = ('DATASET_SIMPLEBAR\\n\\n'\n",
    "           'SEPARATOR SPACE\\n\\n'\n",
    "           'COLOR #6699cc\\n\\n'\n",
    "           'DATASET_LABEL %s\\n\\n'% label)\n",
    "    \n",
    "#     taxa = md_df[tax_col].unique()\n",
    "    \n",
    "#     if colors is None:\n",
    "#         clist = cmap(range(len(taxa)), alpha=alpha)\n",
    "#         rgblist = ['rgba(%s,%s,%s,%s)' % (int(x[0]*255),\n",
    "#                                           int(x[1]*255),\n",
    "#                                           int(x[2]*255),\n",
    "#                                           x[3]) for x in clist]\n",
    "#         colors = {x: rgblist[i] for i, x in enumerate(taxa)}\n",
    "#     else:\n",
    "#         colors = { clade: colors[clade] for clade in taxa}\n",
    "    \n",
    "#     legend_shapes = ' '.join(['1']*len(taxa))\n",
    "#     legend_colors = ''\n",
    "#     legend_labels = ''\n",
    "    \n",
    "#     ## Add annotations you may want with regards to this annotation  \n",
    "#     out += ('SHOW_INTERNAL 1\\n'\n",
    "#             'STRIP_WIDTH 50\\n'\n",
    "#            )\n",
    "    \n",
    "#     for x in colors:\n",
    "#         legend_colors += ' %s' % colors[x]\n",
    "#         legend_labels += ' %s' % x\n",
    "    \n",
    "    out += ('LEGEND_TITLE '+ legend_title +'\\n'\n",
    "            'LEGEND_SHAPES 1 \\n'\n",
    "            'LEGEND_COLORS #6699cc\\n'\n",
    "            'LEGEND_LABELS % \\n')\n",
    "\n",
    "    out += ('DATA\\n')\n",
    "        \n",
    "    for index, row in md_df.iterrows():\n",
    "        out += \"{0} {1}\\n\".format(row[tax_col], row[bar_col])\n",
    "        \n",
    "    with open(fp, 'w') as f:\n",
    "        f.write(out)"
   ]
  },
  {
   "cell_type": "code",
   "execution_count": 185,
   "metadata": {},
   "outputs": [
    {
     "name": "stdout",
     "output_type": "stream",
     "text": [
      "/panfs/panfs1.ucsd.edu/panscratch/jhc103/VertMetaphlan-frmerged/strain-trees-output/output_20_B_vulgatus/GAMMA/Bacteroides_vulgatus_sample_marker_percent.tsv\n"
     ]
    },
    {
     "ename": "FileNotFoundError",
     "evalue": "[Errno 2] No such file or directory: '/panfs/panfs1.ucsd.edu/panscratch/jhc103/VertMetaphlan-frmerged/strain-trees-output/output_20_B_vulgatus/GAMMA/Bacteroides_vulgatus_sample_marker_percent.tsv'",
     "output_type": "error",
     "traceback": [
      "\u001b[0;31m---------------------------------------------------------------------------\u001b[0m",
      "\u001b[0;31mFileNotFoundError\u001b[0m                         Traceback (most recent call last)",
      "\u001b[0;32m<ipython-input-185-8d594926f0fa>\u001b[0m in \u001b[0;36m<module>\u001b[0;34m()\u001b[0m\n\u001b[1;32m      1\u001b[0m \u001b[0mprint\u001b[0m\u001b[0;34m(\u001b[0m\u001b[0mjoin\u001b[0m\u001b[0;34m(\u001b[0m\u001b[0mtree_dir\u001b[0m\u001b[0;34m,\u001b[0m\u001b[0mbacteria\u001b[0m\u001b[0;34m+\u001b[0m\u001b[0;34m\"_sample_marker_percent.tsv\"\u001b[0m\u001b[0;34m)\u001b[0m\u001b[0;34m)\u001b[0m\u001b[0;34m\u001b[0m\u001b[0;34m\u001b[0m\u001b[0m\n\u001b[0;32m----> 2\u001b[0;31m \u001b[0mmarker_df\u001b[0m \u001b[0;34m=\u001b[0m \u001b[0mpd\u001b[0m\u001b[0;34m.\u001b[0m\u001b[0mread_csv\u001b[0m\u001b[0;34m(\u001b[0m\u001b[0mjoin\u001b[0m\u001b[0;34m(\u001b[0m\u001b[0mtree_dir\u001b[0m\u001b[0;34m,\u001b[0m\u001b[0mbacteria\u001b[0m\u001b[0;34m+\u001b[0m\u001b[0;34m\"_sample_marker_percent.tsv\"\u001b[0m\u001b[0;34m)\u001b[0m\u001b[0;34m,\u001b[0m \u001b[0mindex_col\u001b[0m\u001b[0;34m=\u001b[0m\u001b[0;36m0\u001b[0m\u001b[0;34m)\u001b[0m\u001b[0;34m\u001b[0m\u001b[0;34m\u001b[0m\u001b[0m\n\u001b[0m",
      "\u001b[0;32m/home/jhc103/miniconda3/envs/jupyter-general/lib/python3.6/site-packages/pandas/io/parsers.py\u001b[0m in \u001b[0;36mread_csv\u001b[0;34m(filepath_or_buffer, sep, delimiter, header, names, index_col, usecols, squeeze, prefix, mangle_dupe_cols, dtype, engine, converters, true_values, false_values, skipinitialspace, skiprows, skipfooter, nrows, na_values, keep_default_na, na_filter, verbose, skip_blank_lines, parse_dates, infer_datetime_format, keep_date_col, date_parser, dayfirst, cache_dates, iterator, chunksize, compression, thousands, decimal, lineterminator, quotechar, quoting, doublequote, escapechar, comment, encoding, dialect, error_bad_lines, warn_bad_lines, delim_whitespace, low_memory, memory_map, float_precision)\u001b[0m\n\u001b[1;32m    686\u001b[0m     )\n\u001b[1;32m    687\u001b[0m \u001b[0;34m\u001b[0m\u001b[0m\n\u001b[0;32m--> 688\u001b[0;31m     \u001b[0;32mreturn\u001b[0m \u001b[0m_read\u001b[0m\u001b[0;34m(\u001b[0m\u001b[0mfilepath_or_buffer\u001b[0m\u001b[0;34m,\u001b[0m \u001b[0mkwds\u001b[0m\u001b[0;34m)\u001b[0m\u001b[0;34m\u001b[0m\u001b[0;34m\u001b[0m\u001b[0m\n\u001b[0m\u001b[1;32m    689\u001b[0m \u001b[0;34m\u001b[0m\u001b[0m\n\u001b[1;32m    690\u001b[0m \u001b[0;34m\u001b[0m\u001b[0m\n",
      "\u001b[0;32m/home/jhc103/miniconda3/envs/jupyter-general/lib/python3.6/site-packages/pandas/io/parsers.py\u001b[0m in \u001b[0;36m_read\u001b[0;34m(filepath_or_buffer, kwds)\u001b[0m\n\u001b[1;32m    452\u001b[0m \u001b[0;34m\u001b[0m\u001b[0m\n\u001b[1;32m    453\u001b[0m     \u001b[0;31m# Create the parser.\u001b[0m\u001b[0;34m\u001b[0m\u001b[0;34m\u001b[0m\u001b[0;34m\u001b[0m\u001b[0m\n\u001b[0;32m--> 454\u001b[0;31m     \u001b[0mparser\u001b[0m \u001b[0;34m=\u001b[0m \u001b[0mTextFileReader\u001b[0m\u001b[0;34m(\u001b[0m\u001b[0mfp_or_buf\u001b[0m\u001b[0;34m,\u001b[0m \u001b[0;34m**\u001b[0m\u001b[0mkwds\u001b[0m\u001b[0;34m)\u001b[0m\u001b[0;34m\u001b[0m\u001b[0;34m\u001b[0m\u001b[0m\n\u001b[0m\u001b[1;32m    455\u001b[0m \u001b[0;34m\u001b[0m\u001b[0m\n\u001b[1;32m    456\u001b[0m     \u001b[0;32mif\u001b[0m \u001b[0mchunksize\u001b[0m \u001b[0;32mor\u001b[0m \u001b[0miterator\u001b[0m\u001b[0;34m:\u001b[0m\u001b[0;34m\u001b[0m\u001b[0;34m\u001b[0m\u001b[0m\n",
      "\u001b[0;32m/home/jhc103/miniconda3/envs/jupyter-general/lib/python3.6/site-packages/pandas/io/parsers.py\u001b[0m in \u001b[0;36m__init__\u001b[0;34m(self, f, engine, **kwds)\u001b[0m\n\u001b[1;32m    946\u001b[0m             \u001b[0mself\u001b[0m\u001b[0;34m.\u001b[0m\u001b[0moptions\u001b[0m\u001b[0;34m[\u001b[0m\u001b[0;34m\"has_index_names\"\u001b[0m\u001b[0;34m]\u001b[0m \u001b[0;34m=\u001b[0m \u001b[0mkwds\u001b[0m\u001b[0;34m[\u001b[0m\u001b[0;34m\"has_index_names\"\u001b[0m\u001b[0;34m]\u001b[0m\u001b[0;34m\u001b[0m\u001b[0;34m\u001b[0m\u001b[0m\n\u001b[1;32m    947\u001b[0m \u001b[0;34m\u001b[0m\u001b[0m\n\u001b[0;32m--> 948\u001b[0;31m         \u001b[0mself\u001b[0m\u001b[0;34m.\u001b[0m\u001b[0m_make_engine\u001b[0m\u001b[0;34m(\u001b[0m\u001b[0mself\u001b[0m\u001b[0;34m.\u001b[0m\u001b[0mengine\u001b[0m\u001b[0;34m)\u001b[0m\u001b[0;34m\u001b[0m\u001b[0;34m\u001b[0m\u001b[0m\n\u001b[0m\u001b[1;32m    949\u001b[0m \u001b[0;34m\u001b[0m\u001b[0m\n\u001b[1;32m    950\u001b[0m     \u001b[0;32mdef\u001b[0m \u001b[0mclose\u001b[0m\u001b[0;34m(\u001b[0m\u001b[0mself\u001b[0m\u001b[0;34m)\u001b[0m\u001b[0;34m:\u001b[0m\u001b[0;34m\u001b[0m\u001b[0;34m\u001b[0m\u001b[0m\n",
      "\u001b[0;32m/home/jhc103/miniconda3/envs/jupyter-general/lib/python3.6/site-packages/pandas/io/parsers.py\u001b[0m in \u001b[0;36m_make_engine\u001b[0;34m(self, engine)\u001b[0m\n\u001b[1;32m   1178\u001b[0m     \u001b[0;32mdef\u001b[0m \u001b[0m_make_engine\u001b[0m\u001b[0;34m(\u001b[0m\u001b[0mself\u001b[0m\u001b[0;34m,\u001b[0m \u001b[0mengine\u001b[0m\u001b[0;34m=\u001b[0m\u001b[0;34m\"c\"\u001b[0m\u001b[0;34m)\u001b[0m\u001b[0;34m:\u001b[0m\u001b[0;34m\u001b[0m\u001b[0;34m\u001b[0m\u001b[0m\n\u001b[1;32m   1179\u001b[0m         \u001b[0;32mif\u001b[0m \u001b[0mengine\u001b[0m \u001b[0;34m==\u001b[0m \u001b[0;34m\"c\"\u001b[0m\u001b[0;34m:\u001b[0m\u001b[0;34m\u001b[0m\u001b[0;34m\u001b[0m\u001b[0m\n\u001b[0;32m-> 1180\u001b[0;31m             \u001b[0mself\u001b[0m\u001b[0;34m.\u001b[0m\u001b[0m_engine\u001b[0m \u001b[0;34m=\u001b[0m \u001b[0mCParserWrapper\u001b[0m\u001b[0;34m(\u001b[0m\u001b[0mself\u001b[0m\u001b[0;34m.\u001b[0m\u001b[0mf\u001b[0m\u001b[0;34m,\u001b[0m \u001b[0;34m**\u001b[0m\u001b[0mself\u001b[0m\u001b[0;34m.\u001b[0m\u001b[0moptions\u001b[0m\u001b[0;34m)\u001b[0m\u001b[0;34m\u001b[0m\u001b[0;34m\u001b[0m\u001b[0m\n\u001b[0m\u001b[1;32m   1181\u001b[0m         \u001b[0;32melse\u001b[0m\u001b[0;34m:\u001b[0m\u001b[0;34m\u001b[0m\u001b[0;34m\u001b[0m\u001b[0m\n\u001b[1;32m   1182\u001b[0m             \u001b[0;32mif\u001b[0m \u001b[0mengine\u001b[0m \u001b[0;34m==\u001b[0m \u001b[0;34m\"python\"\u001b[0m\u001b[0;34m:\u001b[0m\u001b[0;34m\u001b[0m\u001b[0;34m\u001b[0m\u001b[0m\n",
      "\u001b[0;32m/home/jhc103/miniconda3/envs/jupyter-general/lib/python3.6/site-packages/pandas/io/parsers.py\u001b[0m in \u001b[0;36m__init__\u001b[0;34m(self, src, **kwds)\u001b[0m\n\u001b[1;32m   2008\u001b[0m         \u001b[0mkwds\u001b[0m\u001b[0;34m[\u001b[0m\u001b[0;34m\"usecols\"\u001b[0m\u001b[0;34m]\u001b[0m \u001b[0;34m=\u001b[0m \u001b[0mself\u001b[0m\u001b[0;34m.\u001b[0m\u001b[0musecols\u001b[0m\u001b[0;34m\u001b[0m\u001b[0;34m\u001b[0m\u001b[0m\n\u001b[1;32m   2009\u001b[0m \u001b[0;34m\u001b[0m\u001b[0m\n\u001b[0;32m-> 2010\u001b[0;31m         \u001b[0mself\u001b[0m\u001b[0;34m.\u001b[0m\u001b[0m_reader\u001b[0m \u001b[0;34m=\u001b[0m \u001b[0mparsers\u001b[0m\u001b[0;34m.\u001b[0m\u001b[0mTextReader\u001b[0m\u001b[0;34m(\u001b[0m\u001b[0msrc\u001b[0m\u001b[0;34m,\u001b[0m \u001b[0;34m**\u001b[0m\u001b[0mkwds\u001b[0m\u001b[0;34m)\u001b[0m\u001b[0;34m\u001b[0m\u001b[0;34m\u001b[0m\u001b[0m\n\u001b[0m\u001b[1;32m   2011\u001b[0m         \u001b[0mself\u001b[0m\u001b[0;34m.\u001b[0m\u001b[0munnamed_cols\u001b[0m \u001b[0;34m=\u001b[0m \u001b[0mself\u001b[0m\u001b[0;34m.\u001b[0m\u001b[0m_reader\u001b[0m\u001b[0;34m.\u001b[0m\u001b[0munnamed_cols\u001b[0m\u001b[0;34m\u001b[0m\u001b[0;34m\u001b[0m\u001b[0m\n\u001b[1;32m   2012\u001b[0m \u001b[0;34m\u001b[0m\u001b[0m\n",
      "\u001b[0;32mpandas/_libs/parsers.pyx\u001b[0m in \u001b[0;36mpandas._libs.parsers.TextReader.__cinit__\u001b[0;34m()\u001b[0m\n",
      "\u001b[0;32mpandas/_libs/parsers.pyx\u001b[0m in \u001b[0;36mpandas._libs.parsers.TextReader._setup_parser_source\u001b[0;34m()\u001b[0m\n",
      "\u001b[0;31mFileNotFoundError\u001b[0m: [Errno 2] No such file or directory: '/panfs/panfs1.ucsd.edu/panscratch/jhc103/VertMetaphlan-frmerged/strain-trees-output/output_20_B_vulgatus/GAMMA/Bacteroides_vulgatus_sample_marker_percent.tsv'"
     ]
    }
   ],
   "source": [
    "print(join(tree_dir,bacteria+\"_sample_marker_percent.tsv\"))\n",
    "marker_df = pd.read_csv(join(tree_dir,bacteria+\"_sample_marker_percent.tsv\"), index_col=0)"
   ]
  },
  {
   "cell_type": "code",
   "execution_count": 183,
   "metadata": {},
   "outputs": [],
   "source": [
    "## This subset_df_marker metadata could be used to plot bar but also later plot a scatterplot visualizing marker and sequencing depth\n",
    "subset_df_marker = subset_md.merge(marker_df, how='left', left_on='SampleID2', right_on ='sample')\n",
    "subset_df_marker[\"Qiita_study\"] = [str(int(value)) for value in subset_df_marker[\"studyID\"]]"
   ]
  },
  {
   "cell_type": "code",
   "execution_count": 184,
   "metadata": {
    "scrolled": true
   },
   "outputs": [
    {
     "name": "stdout",
     "output_type": "stream",
     "text": [
      "(43, 33)\n"
     ]
    },
    {
     "data": {
      "text/html": [
       "<div>\n",
       "<style scoped>\n",
       "    .dataframe tbody tr th:only-of-type {\n",
       "        vertical-align: middle;\n",
       "    }\n",
       "\n",
       "    .dataframe tbody tr th {\n",
       "        vertical-align: top;\n",
       "    }\n",
       "\n",
       "    .dataframe thead th {\n",
       "        text-align: right;\n",
       "    }\n",
       "</style>\n",
       "<table border=\"1\" class=\"dataframe\">\n",
       "  <thead>\n",
       "    <tr style=\"text-align: right;\">\n",
       "      <th></th>\n",
       "      <th>sample_name</th>\n",
       "      <th>studyID</th>\n",
       "      <th>SampleID3</th>\n",
       "      <th>SampleID2</th>\n",
       "      <th>file_filtered_r1r2_combined</th>\n",
       "      <th>reads_per_unfiltered_file</th>\n",
       "      <th>reads_per_file</th>\n",
       "      <th>species_id</th>\n",
       "      <th>host_phylum</th>\n",
       "      <th>host_class</th>\n",
       "      <th>...</th>\n",
       "      <th>sample_type</th>\n",
       "      <th>diet_category_12</th>\n",
       "      <th>diet_category_3</th>\n",
       "      <th>captive_wild</th>\n",
       "      <th>Unnamed: 27</th>\n",
       "      <th>Unnamed: 28</th>\n",
       "      <th>Unnamed: 29</th>\n",
       "      <th>sample</th>\n",
       "      <th>percent_marker_detected</th>\n",
       "      <th>Qiita_study</th>\n",
       "    </tr>\n",
       "  </thead>\n",
       "  <tbody>\n",
       "    <tr>\n",
       "      <th>0</th>\n",
       "      <td>11166.NATL.25075.mongoose</td>\n",
       "      <td>11166.0</td>\n",
       "      <td>Helogale-parvula_S_S_Temp_D704-AK1544_filtered...</td>\n",
       "      <td>Helogale-parvula_S_S_Temp_D704-AK1544_filtered...</td>\n",
       "      <td>Helogale-parvula_S_S_Temp_D704-AK1544_filtered...</td>\n",
       "      <td>83622188.0</td>\n",
       "      <td>83617234.0</td>\n",
       "      <td>dwarf_mongoose.2</td>\n",
       "      <td>Chordata</td>\n",
       "      <td>Mammalia</td>\n",
       "      <td>...</td>\n",
       "      <td>NaN</td>\n",
       "      <td>insectivore</td>\n",
       "      <td>carnivore</td>\n",
       "      <td>captive</td>\n",
       "      <td>NaN</td>\n",
       "      <td>NaN</td>\n",
       "      <td>NaN</td>\n",
       "      <td>Helogale-parvula_S_S_Temp_D704-AK1544_filtered...</td>\n",
       "      <td>73.0</td>\n",
       "      <td>11166</td>\n",
       "    </tr>\n",
       "    <tr>\n",
       "      <th>1</th>\n",
       "      <td>11166.FD.0441.tinamou</td>\n",
       "      <td>11166.0</td>\n",
       "      <td>Eudromia-elegans_S_S_Temp_D710-AK1682_filtered...</td>\n",
       "      <td>Eudromia-elegans_S_S_Temp_D710-AK1682_filtered...</td>\n",
       "      <td>Eudromia-elegans_S_S_Temp_D710-AK1682_filtered...</td>\n",
       "      <td>32487128.0</td>\n",
       "      <td>32448674.0</td>\n",
       "      <td>elegant_crested_tinamou.1</td>\n",
       "      <td>Chordata</td>\n",
       "      <td>Aves</td>\n",
       "      <td>...</td>\n",
       "      <td>NaN</td>\n",
       "      <td>omnivore</td>\n",
       "      <td>omnivore</td>\n",
       "      <td>captive</td>\n",
       "      <td>NaN</td>\n",
       "      <td>NaN</td>\n",
       "      <td>NaN</td>\n",
       "      <td>Eudromia-elegans_S_S_Temp_D710-AK1682_filtered...</td>\n",
       "      <td>28.0</td>\n",
       "      <td>11166</td>\n",
       "    </tr>\n",
       "    <tr>\n",
       "      <th>2</th>\n",
       "      <td>11166.NATL.24094.tinamou</td>\n",
       "      <td>11166.0</td>\n",
       "      <td>Eudromia-elegans_S_S_Temp_D706-AK1680_filtered...</td>\n",
       "      <td>Eudromia-elegans_S_S_Temp_D706-AK1680_filtered...</td>\n",
       "      <td>Eudromia-elegans_S_S_Temp_D706-AK1680_filtered...</td>\n",
       "      <td>40795214.0</td>\n",
       "      <td>40582464.0</td>\n",
       "      <td>elegant_crested_tinamou.2</td>\n",
       "      <td>Chordata</td>\n",
       "      <td>Aves</td>\n",
       "      <td>...</td>\n",
       "      <td>NaN</td>\n",
       "      <td>omnivore</td>\n",
       "      <td>omnivore</td>\n",
       "      <td>captive</td>\n",
       "      <td>NaN</td>\n",
       "      <td>NaN</td>\n",
       "      <td>NaN</td>\n",
       "      <td>NaN</td>\n",
       "      <td>NaN</td>\n",
       "      <td>11166</td>\n",
       "    </tr>\n",
       "    <tr>\n",
       "      <th>3</th>\n",
       "      <td>11166.ATL.25136.fossa</td>\n",
       "      <td>11166.0</td>\n",
       "      <td>Cryptoprocta-ferox_S_S_Temp_D704-AK1546_filter...</td>\n",
       "      <td>Cryptoprocta-ferox_S_S_Temp_D704-AK1546_filter...</td>\n",
       "      <td>Cryptoprocta-ferox_S_S_Temp_D704-AK1546_filter...</td>\n",
       "      <td>64530078.0</td>\n",
       "      <td>64527584.0</td>\n",
       "      <td>fossa.1</td>\n",
       "      <td>Chordata</td>\n",
       "      <td>Mammalia</td>\n",
       "      <td>...</td>\n",
       "      <td>NaN</td>\n",
       "      <td>carnivore</td>\n",
       "      <td>carnivore</td>\n",
       "      <td>captive</td>\n",
       "      <td>NaN</td>\n",
       "      <td>NaN</td>\n",
       "      <td>NaN</td>\n",
       "      <td>NaN</td>\n",
       "      <td>NaN</td>\n",
       "      <td>11166</td>\n",
       "    </tr>\n",
       "    <tr>\n",
       "      <th>4</th>\n",
       "      <td>11166.NATL.24241.vulture</td>\n",
       "      <td>11166.0</td>\n",
       "      <td>Sarcoramphus-papa_S_S_Temp_D705-AK1682_filtere...</td>\n",
       "      <td>Sarcoramphus-papa_S_S_Temp_D705-AK1682_filtere...</td>\n",
       "      <td>Sarcoramphus-papa_S_S_Temp_D705-AK1682_filtere...</td>\n",
       "      <td>108846910.0</td>\n",
       "      <td>108823702.0</td>\n",
       "      <td>king_vulture.2</td>\n",
       "      <td>Chordata</td>\n",
       "      <td>Aves</td>\n",
       "      <td>...</td>\n",
       "      <td>NaN</td>\n",
       "      <td>scavenger</td>\n",
       "      <td>carnivore</td>\n",
       "      <td>captive</td>\n",
       "      <td>NaN</td>\n",
       "      <td>NaN</td>\n",
       "      <td>NaN</td>\n",
       "      <td>NaN</td>\n",
       "      <td>NaN</td>\n",
       "      <td>11166</td>\n",
       "    </tr>\n",
       "  </tbody>\n",
       "</table>\n",
       "<p>5 rows × 33 columns</p>\n",
       "</div>"
      ],
      "text/plain": [
       "                 sample_name  studyID  \\\n",
       "0  11166.NATL.25075.mongoose  11166.0   \n",
       "1      11166.FD.0441.tinamou  11166.0   \n",
       "2   11166.NATL.24094.tinamou  11166.0   \n",
       "3      11166.ATL.25136.fossa  11166.0   \n",
       "4   11166.NATL.24241.vulture  11166.0   \n",
       "\n",
       "                                           SampleID3  \\\n",
       "0  Helogale-parvula_S_S_Temp_D704-AK1544_filtered...   \n",
       "1  Eudromia-elegans_S_S_Temp_D710-AK1682_filtered...   \n",
       "2  Eudromia-elegans_S_S_Temp_D706-AK1680_filtered...   \n",
       "3  Cryptoprocta-ferox_S_S_Temp_D704-AK1546_filter...   \n",
       "4  Sarcoramphus-papa_S_S_Temp_D705-AK1682_filtere...   \n",
       "\n",
       "                                           SampleID2  \\\n",
       "0  Helogale-parvula_S_S_Temp_D704-AK1544_filtered...   \n",
       "1  Eudromia-elegans_S_S_Temp_D710-AK1682_filtered...   \n",
       "2  Eudromia-elegans_S_S_Temp_D706-AK1680_filtered...   \n",
       "3  Cryptoprocta-ferox_S_S_Temp_D704-AK1546_filter...   \n",
       "4  Sarcoramphus-papa_S_S_Temp_D705-AK1682_filtere...   \n",
       "\n",
       "                         file_filtered_r1r2_combined  \\\n",
       "0  Helogale-parvula_S_S_Temp_D704-AK1544_filtered...   \n",
       "1  Eudromia-elegans_S_S_Temp_D710-AK1682_filtered...   \n",
       "2  Eudromia-elegans_S_S_Temp_D706-AK1680_filtered...   \n",
       "3  Cryptoprocta-ferox_S_S_Temp_D704-AK1546_filter...   \n",
       "4  Sarcoramphus-papa_S_S_Temp_D705-AK1682_filtere...   \n",
       "\n",
       "   reads_per_unfiltered_file  reads_per_file                 species_id  \\\n",
       "0                 83622188.0      83617234.0           dwarf_mongoose.2   \n",
       "1                 32487128.0      32448674.0  elegant_crested_tinamou.1   \n",
       "2                 40795214.0      40582464.0  elegant_crested_tinamou.2   \n",
       "3                 64530078.0      64527584.0                    fossa.1   \n",
       "4                108846910.0     108823702.0             king_vulture.2   \n",
       "\n",
       "  host_phylum host_class  ... sample_type diet_category_12 diet_category_3  \\\n",
       "0    Chordata   Mammalia  ...         NaN      insectivore       carnivore   \n",
       "1    Chordata       Aves  ...         NaN         omnivore        omnivore   \n",
       "2    Chordata       Aves  ...         NaN         omnivore        omnivore   \n",
       "3    Chordata   Mammalia  ...         NaN        carnivore       carnivore   \n",
       "4    Chordata       Aves  ...         NaN        scavenger       carnivore   \n",
       "\n",
       "  captive_wild Unnamed: 27 Unnamed: 28 Unnamed: 29  \\\n",
       "0      captive         NaN         NaN         NaN   \n",
       "1      captive         NaN         NaN         NaN   \n",
       "2      captive         NaN         NaN         NaN   \n",
       "3      captive         NaN         NaN         NaN   \n",
       "4      captive         NaN         NaN         NaN   \n",
       "\n",
       "                                              sample percent_marker_detected  \\\n",
       "0  Helogale-parvula_S_S_Temp_D704-AK1544_filtered...                    73.0   \n",
       "1  Eudromia-elegans_S_S_Temp_D710-AK1682_filtered...                    28.0   \n",
       "2                                                NaN                     NaN   \n",
       "3                                                NaN                     NaN   \n",
       "4                                                NaN                     NaN   \n",
       "\n",
       "  Qiita_study  \n",
       "0       11166  \n",
       "1       11166  \n",
       "2       11166  \n",
       "3       11166  \n",
       "4       11166  \n",
       "\n",
       "[5 rows x 33 columns]"
      ]
     },
     "execution_count": 184,
     "metadata": {},
     "output_type": "execute_result"
    }
   ],
   "source": [
    "print(subset_df_marker.shape)\n",
    "subset_df_marker.head()"
   ]
  },
  {
   "cell_type": "code",
   "execution_count": 150,
   "metadata": {},
   "outputs": [
    {
     "ename": "NameError",
     "evalue": "name 'write_bar_highlights' is not defined",
     "output_type": "error",
     "traceback": [
      "\u001b[0;31m---------------------------------------------------------------------------\u001b[0m",
      "\u001b[0;31mNameError\u001b[0m                                 Traceback (most recent call last)",
      "\u001b[0;32m<ipython-input-150-eeedac5045c6>\u001b[0m in \u001b[0;36m<module>\u001b[0;34m()\u001b[0m\n\u001b[0;32m----> 1\u001b[0;31m write_bar_highlights(subset_df_marker, \"species_id\", \"percent_marker_detected\", \n\u001b[0m\u001b[1;32m      2\u001b[0m                      \u001b[0mjoin\u001b[0m\u001b[0;34m(\u001b[0m\u001b[0mitol_annotation_dir\u001b[0m\u001b[0;34m,\u001b[0m \u001b[0mannotation\u001b[0m\u001b[0;34m+\u001b[0m\u001b[0;34m'mantel_itol-markerPercent_bar.txt'\u001b[0m\u001b[0;34m)\u001b[0m\u001b[0;34m,\u001b[0m\u001b[0;34m\u001b[0m\u001b[0;34m\u001b[0m\u001b[0m\n\u001b[1;32m      3\u001b[0m                      \"Marker_availability\")\n",
      "\u001b[0;31mNameError\u001b[0m: name 'write_bar_highlights' is not defined"
     ]
    }
   ],
   "source": [
    "write_bar_highlights(subset_df_marker, \"species_id\", \"percent_marker_detected\", \n",
    "                     join(itol_annotation_dir, annotation+'mantel_itol-markerPercent_bar.txt'),\n",
    "                     \"Marker_availability\")"
   ]
  },
  {
   "cell_type": "markdown",
   "metadata": {},
   "source": [
    "### Plot number of markers and sequencing depth using subset_df_marker"
   ]
  },
  {
   "cell_type": "code",
   "execution_count": 174,
   "metadata": {},
   "outputs": [
    {
     "name": "stdout",
     "output_type": "stream",
     "text": [
      "25\n",
      "Bacteroides_vulgatus\n"
     ]
    },
    {
     "data": {
      "image/png": "[encoded data removed]",
      "text/plain": [
       "<Figure size 432x288 with 1 Axes>"
      ]
     },
     "metadata": {
      "needs_background": "light"
     },
     "output_type": "display_data"
    }
   ],
   "source": [
    "fig, ax1 = plt.subplots(1,1)\n",
    "\n",
    "sns.scatterplot(data=subset_df_marker, x=\"reads_per_file\", y=\"percent_marker_detected\", hue = \"Qiita_study\", ax=ax1)\n",
    "x_values = subset_df_marker[\"reads_per_file\"]\n",
    "y_values = subset_df_marker[\"percent_marker_detected\"]\n",
    "print(len(x_values))\n",
    "slope, inter, r, p, stderr = linregress(x_values, y_values)\n",
    "plt.plot(x_values, inter + slope*x_values,'black')\n",
    "ax1.text(0.5,0.5,'Slope: ' + str(round(slope,8)) + \n",
    "         \"\\nr: \" + str(round(r,3)) +\n",
    "         \"\\np: \" + str(round(p,3)), \n",
    "         horizontalalignment='left', \n",
    "         verticalalignment='center', \n",
    "         transform = ax1.transAxes)\n",
    "\n",
    "plt.savefig(output_fig_dir+\"reads_percent_marker_detected_\"+marker_threshold+\"_\"+bacteria+\"_\"+correlation_type+\"_\"+str(number_of_iterations)+\"repititions.png\",dpi=900)\n",
    "print(bacteria)"
   ]
  },
  {
   "cell_type": "code",
   "execution_count": null,
   "metadata": {},
   "outputs": [],
   "source": [
    "    slope, _, _, _, _ = linregress(x, y)\n",
    "    \n",
    "    plot = sns.regplot('x',\n",
    "                      'y',\n",
    "                      pd.DataFrame({'x': x, 'y': y}).reset_index(),\n",
    "                      scatter_kws={'alpha':0.1},\n",
    "                      ax= ax1)\n",
    "    plt.ylim(0, 1.0)\n",
    "    plt.xlim(0, max(x)+20)\n",
    "\n",
    "    print((\"r: {r}\\n\"\n",
    "       \"p: {p}\\n\"\n",
    "       \"m: {m:8.7f}\\n\").format(r=r, p=p, m=slope))"
   ]
  },
  {
   "cell_type": "code",
   "execution_count": 46,
   "metadata": {},
   "outputs": [
    {
     "name": "stderr",
     "output_type": "stream",
     "text": [
      "/home/jhc103/miniconda3/envs/jupyter-general/lib/python3.6/site-packages/seaborn/_decorators.py:43: FutureWarning: Pass the following variables as keyword args: x, y. From version 0.12, the only valid positional argument will be `data`, and passing other arguments without an explicit keyword will result in an error or misinterpretation.\n",
      "  FutureWarning\n"
     ]
    },
    {
     "data": {
      "image/png": "[encoded data removed]",
      "text/plain": [
       "<Figure size 432x288 with 1 Axes>"
      ]
     },
     "metadata": {
      "needs_background": "light"
     },
     "output_type": "display_data"
    }
   ],
   "source": [
    "fig, ax1 = plt.subplots(1,1)\n",
    "\n",
    "x_values = subset_df_marker[\"reads_per_file\"]\n",
    "y_values = subset_df_marker[\"percent_marker_detected\"]\n",
    "slope, inter, r, p, stderr = linregress(x_values, y_values)\n",
    "plot = sns.regplot(x_values, y_values)\n",
    "#     'x',\n",
    "#                    'y',\n",
    "#                     pd.DataFrame({'x': x, 'y': y}).reset_index(),\n",
    "#                     scatter_kws={'alpha':0.1},\n",
    "#                     ax= ax1)"
   ]
  },
  {
   "cell_type": "markdown",
   "metadata": {},
   "source": [
    "# Tanglegarm visualization"
   ]
  },
  {
   "cell_type": "code",
   "execution_count": 875,
   "metadata": {},
   "outputs": [],
   "source": [
    "import tanglegram as tg\n",
    "import matplotlib.pyplot as plt\n",
    "import pandas as pd"
   ]
  },
  {
   "cell_type": "code",
   "execution_count": 876,
   "metadata": {
    "scrolled": true
   },
   "outputs": [
    {
     "name": "stdout",
     "output_type": "stream",
     "text": [
      "<class 'skbio.stats.distance._base.DistanceMatrix'>\n",
      "<class 'pandas.core.frame.DataFrame'>\n",
      "                        Trichechus_manatus  Helogale_parvula  \\\n",
      "Trichechus_manatus                0.000000          0.604288   \n",
      "Helogale_parvula                  0.604288          0.000000   \n",
      "Suricata_suricatta                0.631557          0.089644   \n",
      "Mungos_mungo                      0.643597          0.101684   \n",
      "Homo_sapiens                      0.615347          0.073433   \n",
      "Nycticebus_pygmaeus               0.571545          0.152470   \n",
      "Callosciurus_prevostii            0.572166          0.153092   \n",
      "\n",
      "                        Suricata_suricatta  Mungos_mungo  Homo_sapiens  \\\n",
      "Trichechus_manatus                0.631557      0.643597      0.615347   \n",
      "Helogale_parvula                  0.089644      0.101684      0.073433   \n",
      "Suricata_suricatta                0.000000      0.068585      0.062594   \n",
      "Mungos_mungo                      0.068585      0.000000      0.074634   \n",
      "Homo_sapiens                      0.062594      0.074634      0.000000   \n",
      "Nycticebus_pygmaeus               0.179739      0.191779      0.163529   \n",
      "Callosciurus_prevostii            0.180361      0.192401      0.164150   \n",
      "\n",
      "                        Nycticebus_pygmaeus  Callosciurus_prevostii  \n",
      "Trichechus_manatus                 0.571545                0.572166  \n",
      "Helogale_parvula                   0.152470                0.153092  \n",
      "Suricata_suricatta                 0.179739                0.180361  \n",
      "Mungos_mungo                       0.191779                0.192401  \n",
      "Homo_sapiens                       0.163529                0.164150  \n",
      "Nycticebus_pygmaeus                0.000000                0.089388  \n",
      "Callosciurus_prevostii             0.089388                0.000000  \n"
     ]
    }
   ],
   "source": [
    "mat1 = host_patristic_dm.to_data_frame()\n",
    "\n",
    "\n",
    "mat2 = sample_patristic_dm.to_data_frame()\n",
    "\n",
    "print(type(sample_patristic_dm))\n",
    "print(type(mat2))\n",
    "print(mat2)"
   ]
  },
  {
   "cell_type": "code",
   "execution_count": 318,
   "metadata": {},
   "outputs": [
    {
     "name": "stderr",
     "output_type": "stream",
     "text": [
      "INFO  : Generating linkage from dataframe (tanglegram.tangle)\n",
      "INFO  : Generating linkage from dataframe (tanglegram.tangle)\n"
     ]
    },
    {
     "data": {
      "application/vnd.jupyter.widget-view+json": {
       "model_id": "324443e682744441bafe7cc66f90df7b",
       "version_major": 2,
       "version_minor": 0
      },
      "text/plain": [
       "  0%|          | 0/1 [00:00<?, ?it/s]"
      ]
     },
     "metadata": {},
     "output_type": "display_data"
    },
    {
     "name": "stderr",
     "output_type": "stream",
     "text": [
      "INFO  : Finished optimising at entanglement 3.8333 (tanglegram.tangle)\n",
      "/home/jhc103/miniconda3/envs/jupyter-general/lib/python3.6/site-packages/tanglegram/tangle.py:146: UserWarning: FixedFormatter should only be used together with FixedLocator\n",
      "  ax1.set_xticklabels(ax1.get_xticklabels(), fontsize=8)\n",
      "/home/jhc103/miniconda3/envs/jupyter-general/lib/python3.6/site-packages/tanglegram/tangle.py:147: UserWarning: FixedFormatter should only be used together with FixedLocator\n",
      "  ax2.set_xticklabels(ax2.get_xticklabels(), fontsize=8)\n",
      "INFO  : Done. Use matplotlib.pyplot.show() to show plot. (tanglegram.tangle)\n"
     ]
    },
    {
     "data": {
      "image/png": "[encoded data removed]",
      "text/plain": [
       "<Figure size 576x576 with 3 Axes>"
      ]
     },
     "metadata": {},
     "output_type": "display_data"
    }
   ],
   "source": [
    "# Plot tanglegram\n",
    "fig = tg.gen_tangle(mat1, mat2, optimize_order=True)\n",
    "\n",
    "plt.savefig(output_fig_dir+\"tanglegram_P_copri.png\",dpi=900, bbox_inches=\"tight\")\n",
    "plt.show()"
   ]
  },
  {
   "cell_type": "code",
   "execution_count": 48,
   "metadata": {},
   "outputs": [
    {
     "data": {
      "text/plain": [
       "matplotlib.figure.Figure"
      ]
     },
     "execution_count": 48,
     "metadata": {},
     "output_type": "execute_result"
    }
   ],
   "source": [
    "type(fig)"
   ]
  },
  {
   "cell_type": "code",
   "execution_count": 39,
   "metadata": {},
   "outputs": [
    {
     "name": "stderr",
     "output_type": "stream",
     "text": [
      "INFO  : Generating linkage from dataframe (tanglegram.tangle)\n",
      "INFO  : Generating linkage from dataframe (tanglegram.tangle)\n",
      "/home/jhc103/miniconda3/envs/jupyter-general/lib/python3.6/site-packages/tanglegram/tangle.py:146: UserWarning: FixedFormatter should only be used together with FixedLocator\n",
      "  ax1.set_xticklabels(ax1.get_xticklabels(), fontsize=8)\n",
      "/home/jhc103/miniconda3/envs/jupyter-general/lib/python3.6/site-packages/tanglegram/tangle.py:147: UserWarning: FixedFormatter should only be used together with FixedLocator\n",
      "  ax2.set_xticklabels(ax2.get_xticklabels(), fontsize=8)\n",
      "INFO  : Done. Use matplotlib.pyplot.show() to show plot. (tanglegram.tangle)\n"
     ]
    },
    {
     "name": "stdout",
     "output_type": "stream",
     "text": [
      "<class 'list'>\n",
      "<class 'pandas.core.frame.DataFrame'>\n"
     ]
    },
    {
     "data": {
      "image/png": "[encoded data removed]",
      "text/plain": [
       "<Figure size 576x576 with 3 Axes>"
      ]
     },
     "metadata": {},
     "output_type": "display_data"
    }
   ],
   "source": [
    "labelsA= ['A', 'B', 'C', 'D']\n",
    "labelsB= ['B', 'A', 'C', 'D']\n",
    "data = [[ 0,  .1,  .4, .3],\n",
    "        [.1,   0,  .5, .6],\n",
    "        [ .4, .5,   0, .2],\n",
    "        [ .3, .6,  .2,  0]]\n",
    "\n",
    "print(type(data))\n",
    "\n",
    "mat1 = pd.DataFrame(data,\n",
    "                    columns=labelsA,\n",
    "                    index=labelsA)\n",
    "\n",
    "mat2 = pd.DataFrame(data,\n",
    "                    columns=labelsB,\n",
    "                    index=labelsB)\n",
    "print(type(mat2))\n",
    "\n",
    "# Plot tanglegram\n",
    "fig = tg.gen_tangle(mat1, mat2, optimize_order=False)\n",
    "plt.show()"
   ]
  },
  {
   "cell_type": "code",
   "execution_count": 115,
   "metadata": {},
   "outputs": [
    {
     "name": "stdout",
     "output_type": "stream",
     "text": [
      "Help on function gen_tangle in module tanglegram.tangle:\n",
      "\n",
      "gen_tangle(a, b, labelsA=None, labelsB=None, optimize_order=10000, color_by_diff=True, link_kwargs={}, dend_kwargs={})\n",
      "    Plots a tanglegram from two dendrograms.\n",
      "    \n",
      "    Parameters\n",
      "    ----------\n",
      "    (a,b) :                 pandas.DataFrame | scipy.cluster.hierarchy.linkage\n",
      "                            Dendrograms to be compared. If DataFrame, will be\n",
      "                            considered a distance matrix and linkage is\n",
      "                            generated (see ``link_kwargs``).\n",
      "    (labelsA,labelsB) :     list of str\n",
      "                            If not provided and a/b are pandas Dataframes,\n",
      "                            will try to extract from columns.\n",
      "    optimize_order :        bool | int, optional\n",
      "                            If not False, will try rearranging dendrogram to\n",
      "                            optimise pairing of similar values. Currently uses\n",
      "                            brute force approach -> might give varying results\n",
      "                            on each iteration.\n",
      "    link_kwargs :           dict, optional\n",
      "                            Keyword arguments to be passed on to ``scipy.cluster.hierarchy.linkage``\n",
      "    dend_kwargs :           dict, optional\n",
      "                            Keyword arguments to be passed on to ``scipy.cluster.hierarchy.dendrogram``\n",
      "    \n",
      "    Returns\n",
      "    -------\n",
      "    matplotlib figure\n",
      "\n"
     ]
    }
   ],
   "source": [
    "help(tg.gen_tangle)"
   ]
  }
 ],
 "metadata": {
  "kernelspec": {
   "display_name": "jupyter-general",
   "language": "python",
   "name": "jupyter-general"
  },
  "language_info": {
   "codemirror_mode": {
    "name": "ipython",
    "version": 3
   },
   "file_extension": ".py",
   "mimetype": "text/x-python",
   "name": "python",
   "nbconvert_exporter": "python",
   "pygments_lexer": "ipython3",
   "version": "3.6.13"
  }
 },
 "nbformat": 4,
 "nbformat_minor": 2
}
