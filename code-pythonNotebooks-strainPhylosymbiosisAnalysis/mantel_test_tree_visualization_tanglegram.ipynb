{
 "cells": [
  {
   "cell_type": "code",
   "execution_count": 1,
   "metadata": {},
   "outputs": [],
   "source": [
    "import skbio as skb\n",
    "import numpy as np\n",
    "import pandas as pd\n",
    "import seaborn as sns\n",
    "from ecopy import Mantel\n",
    "\n",
    "from matplotlib import pyplot as plt\n",
    "import pylab as pl\n",
    "from skbio import TreeNode\n",
    "from skbio.stats.distance import mantel\n",
    "from scipy.stats import linregress\n",
    "from scipy.spatial.distance import squareform, pdist\n",
    "from os.path import abspath, join\n",
    "from os import makedirs\n",
    "from Bio import Phylo\n",
    "from Bio.Phylo.Consensus import *"
   ]
  },
  {
   "cell_type": "code",
   "execution_count": 2,
   "metadata": {},
   "outputs": [],
   "source": [
    "output_fig_dir=\"/panfs/panfs1.ucsd.edu/panscratch/jhc103/VertMetaphlan-frmerged/figures/\""
   ]
  },
  {
   "cell_type": "markdown",
   "metadata": {},
   "source": [
    "# Import data"
   ]
  },
  {
   "cell_type": "markdown",
   "metadata": {},
   "source": [
    "## Host tree"
   ]
  },
  {
   "cell_type": "code",
   "execution_count": 341,
   "metadata": {},
   "outputs": [],
   "source": [
    "tree_dir = abspath('/panfs/panfs1.ucsd.edu/panscratch/jhc103/VertMetaphlan-frmerged')\n",
    "host_tree_fp = join(tree_dir, 'host_tree_list.nwk')\n",
    "host_tree= skb.io.read(host_tree_fp, format='newick', \n",
    "                       into=TreeNode,\n",
    "                       convert_underscores=False)\n",
    "\n",
    "host_tips = [x.name for x in host_tree.tips()]"
   ]
  },
  {
   "cell_type": "markdown",
   "metadata": {},
   "source": [
    "## bacteria tree"
   ]
  },
  {
   "cell_type": "markdown",
   "metadata": {},
   "source": [
    "### Insert name of bacteria you want to investigate"
   ]
  },
  {
   "cell_type": "code",
   "execution_count": 342,
   "metadata": {},
   "outputs": [],
   "source": [
    "bacteria=\"Parabacteroides_distasonis\""
   ]
  },
  {
   "cell_type": "code",
   "execution_count": 343,
   "metadata": {},
   "outputs": [],
   "source": [
    "bacteria_trimmed=bacteria[0]+bacteria[bacteria.find(\"_\"):len(bacteria)]\n",
    "tree_dir = abspath('/panfs/panfs1.ucsd.edu/panscratch/jhc103/VertMetaphlan-frmerged/output_'+bacteria_trimmed+\"_mammallianHost/\")\n",
    "#sample_tree_fp = join(tree_dir, 'strain_tree_GTR_200reps.nwk')\n",
    "sample_tree_fp = join(tree_dir, 'RAxML_bestTree.s__'+bacteria+'.StrainPhlAn3.tre')\n",
    "sample_tree= skb.io.read(sample_tree_fp, format='newick', \n",
    "                       into=TreeNode,\n",
    "                       convert_underscores=False)\n",
    "\n",
    "sample_tips = [x.name for x in sample_tree.tips()]"
   ]
  },
  {
   "cell_type": "code",
   "execution_count": 344,
   "metadata": {},
   "outputs": [
    {
     "name": "stdout",
     "output_type": "stream",
     "text": [
      "sample tips ------> \n",
      "10\n",
      "['Helogale-parvula_Song51_24713_host_filtered_r1r2combined', 'Callosciurus-prevosti_Song51_24754_host_filtered_r1r2combined', 'Helogale-parvula_S_S_Temp_D704-AK1544_filtered_r1r2combined', 'Suricata-suricatta_S_S_Temp_D705-AK1681_filtered_r1r2combined', 'Mungos-mungo_Song51_24742_host_filtered_r1r2combined', 'Parabacteroides_distasonis', 'Homo-sapiens_SAMEA6809425.ebi_filtered_r1r2combined_sampleCombined', 'Suricata-suricatta_S_S_Temp_D701-AK1681_filtered_r1r2combined', 'Trichechus-manatus_Song75_ace_host_filtered_r1r2combined', 'Nycticebus-pygmaeus_SAMEA6809444.ebi_filtered_r1r2combined_sampleCombined']\n",
      "host tips ------> \n",
      "271\n",
      "['Perca_fluviatilis', 'Gymnocephalus_cernua', 'Sander_lucioperca', 'Zingel_zingel', 'Esox_lucius', 'Salmo_trutta', 'Salvelinus_fontinalis', 'Oncorhynchus_mykiss', 'Chondrostoma_nasus', 'Squalius_cephalus', 'Rutilus_rutilus', 'Alburnus_alburnus', 'Scardinius_erythrophthalmus', 'Leuciscus_idus', 'Blicca_bjoerkna', 'Abramis_brama', 'Cyprinus_carpio', 'Carassius_gibelio', 'Salamandra_atra', 'Rana_temporaria', 'Rana_dalmatina', 'Cornufer_guentheri', 'Pedostibes_hosii', 'Bufo_bufo', 'Bufotes_viridis', 'Lepidobatrachus_laevis', 'Trachycephalus_resinifictrix', 'Zamenis_longissimus', 'Natrix_natrix', 'Vipera_ursinii', 'Eunectes_murinus', 'Pogona_vitticeps', 'Pseudopus_apodus', 'Anguis_fragilis', 'Varanus_albigularis', 'Varanus_acanthurus', 'Lacerta_agilis', 'Podarcis_siculus', 'Hemidactylus_frenatus', 'Uroplatus_lineatus', 'Rhacodactylus_leachianus', 'Apteryx_australis', 'Dromaius_novaehollandiae', 'Casuarius_casuarius', 'Pterocnemia_pennata', 'Rhea_americana', 'Struthio_camelus', 'Eudromia_elegans', 'Coturnix_coturnix', 'Meleagris_gallopavo', 'Lyrurus_tetrix', 'Lagopus_muta', 'Gallus_gallus', 'Chrysolophus_pictus', 'Phasianus_colchicus', 'Acryllium_vulturinum', 'Numida_meleagris', 'Dendrocygna_viduata', 'Cygnus_olor', 'Branta_leucopsis', 'Anser_anser', 'Tachyeres_pteneres', 'Speculanas_specularis', 'Anas_crecca', 'Anas_platyrhynchos', 'Chalcites_basalis', 'Dendrocopos_major', 'Rhyticeros_undulatus', 'Eolophus_roseicapillus', 'Asio_otus', 'Strix_uralensis', 'Strix_aluco', 'Phylloscopus_collybita', 'Delichon_urbicum', 'Turdus_merula', 'Turdus_philomelos', 'Sylvia_atricapilla', 'Acrocephalus_scirpaceus', 'Parus_major', 'Geospiza_difficilis', 'Prunella_modularis', 'Carduelis_chloris', 'Calamanthus_cautus', 'Pica_pica', 'Corvus_corone', 'Corvus_frugilegus', 'Acanthiza_uropygialis', 'Grus_americana', 'Rallus_aquaticus', 'Ardeotis_kori', 'Ciconia_ciconia', 'Sarcoramphus_papa', 'Ardea_cinerea', 'Phalacrocorax_carbo', 'Aptenodytes_patagonicus', 'Tringa_glareola', 'Scolopax_rusticola', 'Falco_tinnunculus', 'Falco_biarmicus', 'Buteo_jamaicensis', 'Parabuteo_unicinctus', 'Accipiter_nisus', 'Haliaeetus_leucocephalus', 'Haliaeetus_albicilla', 'Circus_aeruginosus', 'Torgos_tracheliotos', 'Necrosyrtes_monachus', 'Caprimulgus_europaeus', 'Crocodylus_rhombifer', 'Crocodylus_moreletii', 'Crocodylus_niloticus', 'Alligator_mississippiensis', 'Testudo_hermanni', 'Astrochelys_radiata', 'Pyxis_arachnoides', 'Aldabrachelys_gigantea', 'Didelphis_marsupialis', 'Philander_opossum', 'Phascolarctos_cinereus', 'Macropus_eugenii', 'Macropus_giganteus', 'Macropus_fuliginosus', 'Trichosurus_vulpecula', 'Erinaceus_europaeus', 'Crocidura_suaveolens', 'Sorex_alpinus', 'Cryptoprocta_ferox', 'Mungos_mungo', 'Suricata_suricatta', 'Helogale_parvula', 'Crocuta_crocuta', 'Hyaena_hyaena', 'Parahyaena_brunnea', 'Panthera_pardus', 'Panthera_leo', 'Lynx_lynx', 'Felis_catus', 'Felis_margarita', 'Canis_lupus', 'Canis_aureus', 'Nyctereutes_procyonoides', 'Vulpes_vulpes', 'Potos_flavus', 'Procyon_lotor', 'Pteronura_brasiliensis', 'Aonyx_cinerea', 'Lutra_lutra', 'Mustela_nivalis', 'Mustela_eversmannii', 'Mustela_putorius', 'Martes_martes', 'Martes_foina', 'Meles_meles', 'Phoca_vitulina', 'Halichoerus_grypus', 'Ursus_arctos', 'Melursus_ursinus', 'Manis_temminckii', 'Equus_caballus', 'Equus_przewalskii', 'Equus_hemionus', 'Equus_burchellii', 'Diceros_bicornis', 'Ceratotherium_simum', 'Rhinoceros_unicornis', 'Camelus_dromedarius', 'Camelus_ferus', 'Hippopotamus_amphibius', 'Eubalaena_glacialis', 'Balaenoptera_borealis', 'Balaenoptera_physalus', 'Megaptera_novaeangliae', 'Mesoplodon_bidens', 'Phocoena_phocoena', 'Lagenorhynchus_albirostris', 'Syncerus_caffer', 'Bos_frontalis', 'Bos_taurus', 'Connochaetes_taurinus', 'Rupicapra_rupicapra', 'Capra_hircus', 'Capra_ibex', 'Ovis_aries', 'Gazella_subgutturosa', 'Gazella_bennettii', 'Aepyceros_melampus', 'Giraffa_camelopardalis', 'Odocoileus_virginianus', 'Capreolus_capreolus', 'Dama_dama', 'Cervus_elaphus', 'Rusa_unicolor', 'Sus_scrofa', 'Carollia_perspicillata', 'Carollia_sowelli', 'Artibeus_intermedius', 'Glossophaga_morenoi', 'Desmodus_rotundus', 'Nyctalus_noctula', 'Pipistrellus_pipistrellus', 'Eptesicus_sagittula', 'Balantiopteryx_plicata', 'Oryctolagus_cuniculus', 'Lepus_europaeus', 'Lepus_tolai', 'Proechimys_guairae', 'Apodemus_flavicollis', 'Apodemus_sylvaticus', 'Mus_musculus', 'Psammomys_obesus', 'Phodopus_sungorus', 'Cricetus_cricetus', 'Myodes_glareolus', 'Melanomys_caliginosus', 'Rheomys_raptor', 'Reithrodontomys_fulvescens', 'Hypogeomys_antimena', 'Heteromys_desmarestianus', 'Castor_fiber', 'Sciurus_vulgaris', 'Pteromys_volans', 'Spermophilus_citellus', 'Cynomys_ludovicianus', 'Marmota_marmota', 'Callosciurus_prevostii', 'Eliomys_quercinus', 'Glis_glis', 'Nycticebus_pygmaeus', 'Otolemur_crassicaudatus', 'Propithecus_verreauxi', 'Lemur_catta', 'Eulemur_rubriventer', 'Alouatta_pigra', 'Alouatta_palliata', 'Alouatta_seniculus', 'Alouatta_caraya', 'Ateles_hybridus', 'Ateles_belzebuth', 'Lagothrix_lagotricha', 'Mandrillus_leucophaeus', 'Papio_ursinus', 'Papio_hamadryas', 'Papio_anubis', 'Theropithecus_gelada', 'Chlorocebus_pygerythrus', 'Cercopithecus_ascanius', 'Pygathrix_nemaeus', 'Trachypithecus_delacouri', 'Trachypithecus_hatinhensis', 'Piliocolobus_badius', 'Colobus_guereza', 'Nomascus_siki', 'Nomascus_gabriellae', 'Gorilla_gorilla', 'Pan_troglodytes', 'Homo_sapiens', 'Tupaia_belangeri', 'Tolypeutes_matacus', 'Tamandua_tetradactyla', 'Tamandua_mexicana', 'Myrmecophaga_tridactyla', 'Bradypus_variegatus', 'Choloepus_didactylus', 'Choloepus_hoffmanni', 'Trichechus_manatus', 'Loxodonta_africana', 'Echinops_telfairi', 'Tachyglossus_aculeatus', 'Ichthyomyzon_fossor', 'Lampetra_appendix', 'Petromyzon_marinus']\n"
     ]
    }
   ],
   "source": [
    "print(\"sample tips ------> \")\n",
    "print(len(sample_tips))\n",
    "print(sample_tips)\n",
    "print(\"host tips ------> \")\n",
    "print(len(host_tips))\n",
    "print(host_tips)\n"
   ]
  },
  {
   "cell_type": "markdown",
   "metadata": {},
   "source": [
    "## Metadata"
   ]
  },
  {
   "cell_type": "code",
   "execution_count": 345,
   "metadata": {},
   "outputs": [
    {
     "name": "stdout",
     "output_type": "stream",
     "text": [
      "283\n",
      "{'Mandrillus leucophaeus', 'Crocuta crocuta', 'Salmo trutta fario', 'Meleagris gallopavo', 'Notamacropus eugenii', 'Eudromia elegans', 'Megaptera novaeangliae', 'Phodopus sungorus', 'Testudo hermanni boettgeri', 'Ciconia ciconia', 'Lacerta agilis', 'Connochaetes taurinus', 'Philander opossum', 'Myrmecophaga tridactyla', 'Propithecus verreauxi', 'Sciurus vulgaris', 'Aepyceros melampus', 'Lepus europaeus', 'Scardinius erythrophthalmus', 'Rupicapra rupicapra', 'Cercopithecus ascanius', 'Pipistrellus pipistrellus', 'Aonyx cinerea', 'Theropithecus gelada', 'Dendrocygna viduata', 'Trachypithecus delacouri', 'Carollia perspicillata', 'Grus americana', 'Mus musculus', 'Tachyglossus aculeatus', 'Anas platyrhynchos', 'Circus aeruginosus', 'Anser anser', 'Natrix natrix', 'Rhyticeros undulatus', 'Cryptoprocta ferox', 'Eolophus roseicapilla', 'Ovis aries', 'Trachypithecus hatinhensis', 'Podarcis siculus', 'Anguis fragilis', 'Hyaena hyaena', 'Apteryx australis', 'Equus ferus przewalskii', 'Giraffa camelopardalis reticulata', 'Crocodylus rhombifer', 'Oncorhynchus mykiss', 'Vipera ursinii', 'Alouatta caraya', 'Prunella modularis', 'Lepidobatrachus asper', 'Corvus frugilegus', 'Papio ursinus', 'Squalius cephalus', 'Equus przewalskii', 'Calamanthus cautus', 'Trachycephalus resinifictrix', 'Bos frontalis', 'Cygnus olor', 'Phylloscopus collybita', 'Hypogeomys antimena', 'Helogale parvula', 'Phalacrocorax carbo', 'Camelus ferus', 'Tolypeutes matacus', 'Rhacodactylus leachianus', 'Capra ibex', 'Corvus corone', 'Cynomys ludovicianus', 'Tupaia belangeri', 'Glossophaga morenoi', 'Gallus gallus', 'Didelphis marsupialis', 'Uroplatus lineatus', 'Caprimulgus europaeus', 'Gazella bennettii', 'Salmo trutta', 'Salvelinus fontinalis', 'Asio otus', 'Choloepus hoffmanni', 'Canis lupus familiaris', 'Vulpes vulpes', 'Canis lupus arctos', 'Alburnus alburnus', 'Petromyzon marinus', 'Lagopus muta', 'Mustela eversmannii', 'Alligator mississippiensis', 'Parus major', 'Spermophilus citellus', 'Esox lucius', 'Martes foina', 'Manis temminckii', 'Oryctolagus cuniculus', 'Bos taurus', 'Felis catus', 'Macropus fuliginosus', 'Phocoena phocoena', 'Tringa glareola', 'Nyctereutes procyonoides', 'Ichthyomyzon fossor', 'Felis margarita', 'Chloris chloris', 'Giraffa camelopardalis', 'Coturnix coturnix', 'Carassius gibelio', 'Ceratotherium simum', 'Nomascus siki', 'Varanus albigularis', 'Rhinoceros unicornis', 'Ophisaurus apodus', 'Chrysolophus pictus', 'Trichosurus vulpecula', 'Canis lupus', 'Phoca vitulina', 'Chlorocebus pygerythrus', 'Nomascus gabriellae', 'Odocoileus virginianus', 'Myodes glareolus', 'Rusa unicolor', 'Tachyeres pteneres', 'Pteronura brasiliensis', 'Hemidactylus frenatus', 'Chalcites basalis', 'Alouatta palliata', 'Accipiter nisus', 'Melursus ursinus', 'Lyrurus tetrix', 'Macropus giganteus', 'Dendrocopos major', 'Lynx lynx', 'Abramis brama', 'Bufo bufo', 'Phascolarctos cinereus', 'Martes martes', 'Aldabrachelys gigantea', 'Pica pica', 'Turdus merula', 'Apodemus sylvaticus', 'Pedostibes hosii', 'Falco tinnunculus', 'Hippopotamus amphibius', 'Equus burchellii quagga', 'Pteromys volans', 'Gorilla gorilla', 'Balaenoptera physalus', 'Eubalaena glacialis', 'Aptenodytes patagonicus', 'Homo sapiens', 'Piliocolobus badius', 'Psammomys obesus', 'Lemur catta', 'Cornufer guentheri', 'Ursus arctos', 'Desmodus rotundus', 'Cyprinus carpio', 'Sorex alpinus', 'Falco biarmicus', 'Equus burchellii', 'Lepus tolai', 'Apodemus flavicollis', 'Alouatta pigra', 'Loxodonta africana africana', 'Rana dalmatina', 'Equus hemionus', 'Diceros bicornis michaeli', 'Panthera leo', 'Apteryx mantelli', 'Rana temporaria', 'Procyon lotor', 'Ardeotis kori', 'Salamandra atra', 'Melanomys caliginosus', 'Marmota marmota', 'Casuarius casuarius', 'Loxodonta africana', 'Rheomys raptor', 'Crocidura suaveolens', 'Perca fluviatilis', 'Dama dama', 'Syncerus caffer', 'Nyctalus noctula', 'Lampetra appendix', 'Mungos mungo', 'Acryllium vulturinum', 'Sarcoramphus papa', 'Necrosyrtes monachus', 'Meles meles', 'Buteo jamaicensis', 'Pan troglodytes', 'Acrocephalus scirpaceus', 'Camelus dromedarius', 'Bufotes viridis', 'Dromaius novaehollandiae', 'Lagothrix lagotricha', 'Crocodylus moreletii', 'Tamandua mexicana', 'Sander lucioperca', 'Trichechus manatus latirostris', 'Cervus elaphus', 'Phasianus colchicus', 'Papio anubis', 'Pygathrix nemaeus', 'Geochelone radiata', 'Suricata suricatta', 'Carollia sowelli', 'Bradypus variegatus', 'Eliomys quercinus', 'Canis aureus', 'Lagenorhynchus albirostris', 'Parabuteo unicinctus', 'Delichon urbicum', 'Blicca bjoerkna', 'Glis glis', 'Pogona vitticeps', 'Potos flavus', 'Chondrostoma nasus', 'Artibeus intermedius', 'Mesoplodon bidens', 'Capreolus capreolus', 'Speculanas specularis', 'Castor fiber', 'Leuciscus idus', 'Balaenoptera borealis', 'Colobus guereza', 'Panthera pardus', 'Geospiza difficilis', 'Tamandua tetradactyla', 'Choloepus didactylus', 'Strix aluco', 'Halichoerus grypus', 'Equus hemionus kulan', 'Ateles belzebuth', 'Numida meleagris', 'Varanus acanthurus acanthurus', 'Nycticebus pygmaeus', 'Alouatta seniculus', 'Branta leucopsis', 'Gazella subgutturosa', 'Capra hircus', 'Eulemur rubriventer', 'Proechimys semispinosus', 'Anas crecca', 'Cricetus cricetus', 'Acanthiza uropygialis', 'Strix uralensis', 'Rallus aquaticus', 'Rhea pennata', 'Torgos tracheliotus', 'Gorilla gorilla gorilla', 'Pyxis arachnoides', 'Mustela nivalis', 'Ardea cinerea', 'Callosciurus prevostii', 'Echinops telfairi', 'Sylvia atricapilla', 'Turdus philomelos', 'Heteromys desmarestianus', 'Balantiopteryx plicata', 'Ovis aries musimon', 'Crocodylus niloticus', 'Gymnocephalus cernua', 'Mustela putorius', 'Sus scrofa domesticus', 'Hyaena brunnea', 'Scolopax rusticola', 'Lutra lutra', 'Erinaceus europaeus', 'Haliaeetus albicilla', 'Zamenis longissimus', 'Sus scrofa', 'Rhea americana', 'Eptesicus sagittula', 'Otolemur crassicaudatus', 'Zingel zingel', 'Eunectes murinus', 'Struthio camelus', 'Reithrodontomys fulvescens', 'Equus caballus', 'Ateles hybridus', 'Haliaeetus leucocephalus', 'Papio hamadryas', 'Rutilus rutilus'}\n",
      "(657, 28)\n"
     ]
    }
   ],
   "source": [
    "## read in metadata\n",
    "md_dir = '/panfs/panfs1.ucsd.edu/panscratch/jhc103/VertMetaphlan-frmerged/metadata'\n",
    "host_md_fp = join(md_dir, 'vert_metadata_new.txt')\n",
    "host_md = pd.read_csv(host_md_fp, sep='\\t', encoding='windows-1252')\n",
    "\n",
    "\n",
    "## filter metadata based on available value from timetree! \n",
    "## Five samples were lost \n",
    "## These hosts were missing from timetree\n",
    "#(Geospiza acutirostris (2 samples), Aspius aspius (2 samples), Cervus canadensis canadensis)\n",
    "host_md = host_md.loc[(host_md['TimeTree_returned'].isin(host_tips))]\n",
    "hosts_that_are_not_in_timetree=set(host_md['host_species'])-set(host_md['TimeTree_returned'])\n",
    "print(str(len(hosts_that_are_not_in_timetree)))\n",
    "print(str(hosts_that_are_not_in_timetree))\n",
    "\n",
    "# filter to just these host classes\n",
    "include_classes = ['Amphibia',\n",
    "                    'Mammalia',\n",
    "                    'Aves',\n",
    "                    'Reptilia',\n",
    "                  'Hyperoartia',\n",
    "                  'Actinopterygii']\n",
    "\n",
    "host_md = host_md.loc[host_md['host_class'].isin(include_classes)]\n",
    "\n",
    "print(host_md.shape)\n"
   ]
  },
  {
   "cell_type": "markdown",
   "metadata": {},
   "source": [
    "### Do you want to see the host_species that is missing in TimeTree?"
   ]
  },
  {
   "cell_type": "code",
   "execution_count": 346,
   "metadata": {},
   "outputs": [
    {
     "name": "stdout",
     "output_type": "stream",
     "text": [
      "These are host_species that have different names as species represented in TimeTree\n",
      "{'Salmo trutta fario', 'Notamacropus eugenii', 'Equus burchellii quagga', 'Testudo hermanni boettgeri', 'Equus hemionus kulan', 'Varanus acanthurus acanthurus', 'Canis lupus familiaris', 'Canis lupus arctos', 'Proechimys semispinosus', 'Loxodonta africana africana', 'Diceros bicornis michaeli', 'Rhea pennata', 'Apteryx mantelli', 'Torgos tracheliotus', 'Gorilla gorilla gorilla', 'Chloris chloris', 'Ovis aries musimon', 'Sus scrofa domesticus', 'Hyaena brunnea', 'Eolophus roseicapilla', 'Ophisaurus apodus', 'Equus ferus przewalskii', 'Giraffa camelopardalis reticulata', 'Trichechus manatus latirostris', 'Lepidobatrachus asper', 'Geochelone radiata'}\n",
      "These are host species that are not represented in TimeTree: \n"
     ]
    }
   ],
   "source": [
    "i_do=True\n",
    "if i_do:\n",
    "    timetreeV=[value.replace('_',\" \") for value in host_md['TimeTree_returned']]\n",
    "#     diffTimeTree=set(timetreeV) - set(host_md['host_species'])\n",
    "    diffHostSpecies=set(host_md['host_species']) - set(timetreeV) \n",
    "    diffTimeTreeSpecies=set(timetreeV) - set(host_tips)\n",
    "    print( \"These are host_species that have different names as species represented in TimeTree\")\n",
    "    print(diffHostSpecies)\n",
    "    print( \"These are host species that are not represented in TimeTree: \")\n",
    "    "
   ]
  },
  {
   "cell_type": "markdown",
   "metadata": {},
   "source": [
    "## Filter metadata based on the overlapping host tree and sample tree"
   ]
  },
  {
   "cell_type": "code",
   "execution_count": 347,
   "metadata": {},
   "outputs": [
    {
     "name": "stdout",
     "output_type": "stream",
     "text": [
      "0      Artibeus-intermedius_S_S_Temp_D709-AK1780_filt...\n",
      "1      Carollia-perspicillata_S_S_Temp_D709-AK1682_fi...\n",
      "2      Carollia-perspicillata_S_S_Temp_D712-AK1544_fi...\n",
      "3      Carollia-perspicillata_S_S_Temp_D712-AK1546_fi...\n",
      "4      Carollia-perspicillata_S_S_Temp_D709-AK1681_fi...\n",
      "                             ...                        \n",
      "657    Tringa-glareola_SAMEA6809633.ebi_filtered_r1r2...\n",
      "658    Tringa-glareola_SAMEA6809634.ebi_filtered_r1r2...\n",
      "659    Apodemus-flavicollis_SAMEA6809435.ebi_filtered...\n",
      "660    Apodemus-flavicollis_SAMEA6809456.ebi_filtered...\n",
      "661    Zingel-zingel_SAMEA6809475.ebi_filtered_r1r2co...\n",
      "Name: SampleID, Length: 657, dtype: object\n"
     ]
    }
   ],
   "source": [
    "print(host_md['SampleID'])\n"
   ]
  },
  {
   "cell_type": "code",
   "execution_count": 348,
   "metadata": {},
   "outputs": [
    {
     "name": "stdout",
     "output_type": "stream",
     "text": [
      "The number of samples we have for Parabacteroides_distasonis are: 10\n",
      "The number of samples we have filtered out for Parabacteroides_distasonis are: 1\n",
      "{'Parabacteroides_distasonis'}\n",
      "The number of samples we have for Parabacteroides_distasonis are in the metadata are: 9\n"
     ]
    }
   ],
   "source": [
    "## Print how how many unique animals we have in our sample tree if we take out the duplicate \n",
    "print(\"The number of samples we have for \" +bacteria + \" are: \" + str(len(sample_tips)))\n",
    "md_sampleID_ids = set(host_md['SampleID']) ## all sampleID from metadata\n",
    "sample_ids_missing_in_metadata = set(sample_tips) - md_sampleID_ids\n",
    "print(\"The number of samples we have filtered out for \" + bacteria+ \" are: \"+ str(len(sample_ids_missing_in_metadata)))\n",
    "print(str(sample_ids_missing_in_metadata))\n",
    "shared_sample_ids=set(sample_tips) & md_sampleID_ids\n",
    "print(\"The number of samples we have for \" +bacteria + \" are in the metadata are: \" + str(len(shared_sample_ids)))\n",
    "# host_md = host_md.loc[(host_md['SampleID'].isin(shared_sample_ids))]\n",
    "# print(\"After removing , the number of samples we have for \"+ bacteria +\"are: \" str(len()))"
   ]
  },
  {
   "cell_type": "code",
   "execution_count": 349,
   "metadata": {},
   "outputs": [
    {
     "name": "stdout",
     "output_type": "stream",
     "text": [
      " First lengths of ids & shape of metadata\n",
      "657\n",
      "271\n",
      "(657, 28)\n",
      "-----------------\n",
      "Filtering metadata with shared_ids......\n",
      "-----------------\n",
      " Final lengths of ids & shape of metadata\n",
      "9\n",
      "7\n",
      "(9, 28)\n"
     ]
    }
   ],
   "source": [
    "md_sampleID_ids = set(host_md['SampleID'])\n",
    "md_timeTree_ids = set(host_md['TimeTree_returned'])\n",
    "\n",
    "print(\" First lengths of ids & shape of metadata\")\n",
    "print(len(md_sampleID_ids))\n",
    "print(len(md_timeTree_ids))\n",
    "print(host_md.shape)\n",
    "print('-----------------')\n",
    "\n",
    "sample_tips_ids=set(sample_tips)\n",
    "host_tips_ids=set(host_tips)\n",
    "\n",
    "shared_sample_ids=sample_tips_ids & md_sampleID_ids\n",
    "shared_host_ids=host_tips_ids & md_timeTree_ids\n",
    "\n",
    "print(\"Filtering metadata with shared_ids......\")\n",
    "host_md = host_md.loc[(host_md['SampleID'].isin(shared_sample_ids))]\n",
    "host_md = host_md.loc[(host_md['TimeTree_returned'].isin(shared_host_ids))]\n",
    "\n",
    "\n",
    "md_sampleID_ids = set(host_md['SampleID'])\n",
    "md_timeTree_ids = set(host_md['TimeTree_returned'])\n",
    "\n",
    "print('-----------------')\n",
    "print(\" Final lengths of ids & shape of metadata\")\n",
    "print(len(md_sampleID_ids))\n",
    "print(len(md_timeTree_ids))\n",
    "print(host_md.shape)\n"
   ]
  },
  {
   "cell_type": "markdown",
   "metadata": {},
   "source": [
    "### filter host tree:"
   ]
  },
  {
   "cell_type": "code",
   "execution_count": 350,
   "metadata": {},
   "outputs": [
    {
     "name": "stdout",
     "output_type": "stream",
     "text": [
      " original host_tree width--> \n",
      "271\n",
      " pruned host_tree width--> \n",
      "7\n"
     ]
    }
   ],
   "source": [
    "# Prune host tree \n",
    "print(\" original host_tree width--> \")\n",
    "print(len(host_tips))\n",
    "host_tree = host_tree.shear(host_md['TimeTree_returned'])\n",
    "host_tips = [x.name for x in host_tree.tips()]\n",
    "print(\" pruned host_tree width--> \")\n",
    "print(len(host_tips))"
   ]
  },
  {
   "cell_type": "markdown",
   "metadata": {},
   "source": [
    "### filter & prune sample tree:"
   ]
  },
  {
   "cell_type": "markdown",
   "metadata": {},
   "source": [
    "##### We will subset to a single arbitrarily-chosen individual sample per species (if one_per_sp == True) for our sample tree to enable mantel correlation comparisons"
   ]
  },
  {
   "cell_type": "code",
   "execution_count": 351,
   "metadata": {},
   "outputs": [],
   "source": [
    "one_per_sp = True\n",
    "number_of_iterations=10"
   ]
  },
  {
   "cell_type": "code",
   "execution_count": 352,
   "metadata": {},
   "outputs": [
    {
     "data": {
      "text/html": [
       "<div>\n",
       "<style scoped>\n",
       "    .dataframe tbody tr th:only-of-type {\n",
       "        vertical-align: middle;\n",
       "    }\n",
       "\n",
       "    .dataframe tbody tr th {\n",
       "        vertical-align: top;\n",
       "    }\n",
       "\n",
       "    .dataframe thead th {\n",
       "        text-align: right;\n",
       "    }\n",
       "</style>\n",
       "<table border=\"1\" class=\"dataframe\">\n",
       "  <thead>\n",
       "    <tr style=\"text-align: right;\">\n",
       "      <th></th>\n",
       "      <th>sample_name</th>\n",
       "      <th>studyID</th>\n",
       "      <th>SampleID</th>\n",
       "      <th>file_filtered_r1r2_combined</th>\n",
       "      <th>reads_per_unfiltered_file</th>\n",
       "      <th>reads_per_file</th>\n",
       "      <th>species_id</th>\n",
       "      <th>host_phylum</th>\n",
       "      <th>host_class</th>\n",
       "      <th>host_family</th>\n",
       "      <th>...</th>\n",
       "      <th>reference_host_for_filtering</th>\n",
       "      <th>host_modality</th>\n",
       "      <th>host_diet</th>\n",
       "      <th>country</th>\n",
       "      <th>habitat</th>\n",
       "      <th>sample_type</th>\n",
       "      <th>diet_category_12</th>\n",
       "      <th>diet_category_3</th>\n",
       "      <th>captive_wild</th>\n",
       "      <th>Unnamed: 27</th>\n",
       "    </tr>\n",
       "  </thead>\n",
       "  <tbody>\n",
       "    <tr>\n",
       "      <th>26</th>\n",
       "      <td>11166.NATL.25075.mongoose</td>\n",
       "      <td>11166</td>\n",
       "      <td>Helogale-parvula_S_S_Temp_D704-AK1544_filtered...</td>\n",
       "      <td>Helogale-parvula_S_S_Temp_D704-AK1544_filtered...</td>\n",
       "      <td>83622188</td>\n",
       "      <td>83617234</td>\n",
       "      <td>dwarf_mongoose.2</td>\n",
       "      <td>Chordata</td>\n",
       "      <td>Mammalia</td>\n",
       "      <td>Herpestidae</td>\n",
       "      <td>...</td>\n",
       "      <td>Helogale parvula</td>\n",
       "      <td>NaN</td>\n",
       "      <td>NaN</td>\n",
       "      <td>USA</td>\n",
       "      <td>NaN</td>\n",
       "      <td>NaN</td>\n",
       "      <td>insectivore</td>\n",
       "      <td>carnivore</td>\n",
       "      <td>captive</td>\n",
       "      <td>NaN</td>\n",
       "    </tr>\n",
       "    <tr>\n",
       "      <th>47</th>\n",
       "      <td>11166.ATL.24564.meerkat</td>\n",
       "      <td>11166</td>\n",
       "      <td>Suricata-suricatta_S_S_Temp_D705-AK1681_filter...</td>\n",
       "      <td>Suricata-suricatta_S_S_Temp_D705-AK1681_filter...</td>\n",
       "      <td>28835276</td>\n",
       "      <td>27018442</td>\n",
       "      <td>meerkat.1</td>\n",
       "      <td>Chordata</td>\n",
       "      <td>Mammalia</td>\n",
       "      <td>Herpestidae</td>\n",
       "      <td>...</td>\n",
       "      <td>Suricata suricatta</td>\n",
       "      <td>NaN</td>\n",
       "      <td>NaN</td>\n",
       "      <td>USA</td>\n",
       "      <td>NaN</td>\n",
       "      <td>NaN</td>\n",
       "      <td>insectivore</td>\n",
       "      <td>carnivore</td>\n",
       "      <td>captive</td>\n",
       "      <td>NaN</td>\n",
       "    </tr>\n",
       "    <tr>\n",
       "      <th>48</th>\n",
       "      <td>11166.FD.0198.meerkat</td>\n",
       "      <td>11166</td>\n",
       "      <td>Suricata-suricatta_S_S_Temp_D701-AK1681_filter...</td>\n",
       "      <td>Suricata-suricatta_S_S_Temp_D701-AK1681_filter...</td>\n",
       "      <td>86193986</td>\n",
       "      <td>66215826</td>\n",
       "      <td>meerkat.2</td>\n",
       "      <td>Chordata</td>\n",
       "      <td>Mammalia</td>\n",
       "      <td>Herpestidae</td>\n",
       "      <td>...</td>\n",
       "      <td>Suricata suricatta</td>\n",
       "      <td>NaN</td>\n",
       "      <td>NaN</td>\n",
       "      <td>France</td>\n",
       "      <td>NaN</td>\n",
       "      <td>NaN</td>\n",
       "      <td>insectivore</td>\n",
       "      <td>carnivore</td>\n",
       "      <td>captive</td>\n",
       "      <td>NaN</td>\n",
       "    </tr>\n",
       "    <tr>\n",
       "      <th>327</th>\n",
       "      <td>13114.song.51.s009</td>\n",
       "      <td>13114</td>\n",
       "      <td>Helogale-parvula_Song51_24713_host_filtered_r1...</td>\n",
       "      <td>Helogale-parvula_Song51_24713_host_filtered_r1...</td>\n",
       "      <td>19822812</td>\n",
       "      <td>18792480</td>\n",
       "      <td>dwarf_mongoose.1</td>\n",
       "      <td>Chordata</td>\n",
       "      <td>Mammalia</td>\n",
       "      <td>Herpestidae</td>\n",
       "      <td>...</td>\n",
       "      <td>Helogale parvula</td>\n",
       "      <td>terrestrial, flightless</td>\n",
       "      <td>insectivore</td>\n",
       "      <td>USA</td>\n",
       "      <td>NaN</td>\n",
       "      <td>NaN</td>\n",
       "      <td>insectivore</td>\n",
       "      <td>carnivore</td>\n",
       "      <td>captive</td>\n",
       "      <td>NaN</td>\n",
       "    </tr>\n",
       "    <tr>\n",
       "      <th>330</th>\n",
       "      <td>13114.song.51.s012</td>\n",
       "      <td>13114</td>\n",
       "      <td>Mungos-mungo_Song51_24742_host_filtered_r1r2co...</td>\n",
       "      <td>Mungos-mungo_Song51_24742_host_filtered_r1r2co...</td>\n",
       "      <td>23173316</td>\n",
       "      <td>22718274</td>\n",
       "      <td>banded_mongoose.1</td>\n",
       "      <td>Chordata</td>\n",
       "      <td>Mammalia</td>\n",
       "      <td>Herpestidae</td>\n",
       "      <td>...</td>\n",
       "      <td>Mungos mungo</td>\n",
       "      <td>terrestrial, flightless</td>\n",
       "      <td>carnivore</td>\n",
       "      <td>USA</td>\n",
       "      <td>NaN</td>\n",
       "      <td>NaN</td>\n",
       "      <td>herbivore</td>\n",
       "      <td>herbivore</td>\n",
       "      <td>captive</td>\n",
       "      <td>NaN</td>\n",
       "    </tr>\n",
       "    <tr>\n",
       "      <th>331</th>\n",
       "      <td>13114.song.51.s013</td>\n",
       "      <td>13114</td>\n",
       "      <td>Callosciurus-prevosti_Song51_24754_host_filter...</td>\n",
       "      <td>Callosciurus-prevosti_Song51_24754_host_filter...</td>\n",
       "      <td>15756000</td>\n",
       "      <td>15731890</td>\n",
       "      <td>prevost's_squirrel.1</td>\n",
       "      <td>Chordata</td>\n",
       "      <td>Mammalia</td>\n",
       "      <td>Sciuridae</td>\n",
       "      <td>...</td>\n",
       "      <td>Sciurus vulgaris</td>\n",
       "      <td>terrestrial, flightless</td>\n",
       "      <td>omnivore</td>\n",
       "      <td>USA</td>\n",
       "      <td>NaN</td>\n",
       "      <td>NaN</td>\n",
       "      <td>frugivore</td>\n",
       "      <td>herbivore</td>\n",
       "      <td>captive</td>\n",
       "      <td>NaN</td>\n",
       "    </tr>\n",
       "    <tr>\n",
       "      <th>371</th>\n",
       "      <td>13114.song.75.s003</td>\n",
       "      <td>13114</td>\n",
       "      <td>Trichechus-manatus_Song75_ace_host_filtered_r1...</td>\n",
       "      <td>Trichechus-manatus_Song75_ace_host_filtered_r1...</td>\n",
       "      <td>28571758</td>\n",
       "      <td>28490842</td>\n",
       "      <td>florida_manatee.1</td>\n",
       "      <td>Chordata</td>\n",
       "      <td>Mammalia</td>\n",
       "      <td>Trichechidae</td>\n",
       "      <td>...</td>\n",
       "      <td>Trichechus manatus latirostris</td>\n",
       "      <td>terrestrial, flightless</td>\n",
       "      <td>herbivore</td>\n",
       "      <td>USA</td>\n",
       "      <td>NaN</td>\n",
       "      <td>NaN</td>\n",
       "      <td>herbivore</td>\n",
       "      <td>herbivore</td>\n",
       "      <td>captive</td>\n",
       "      <td>NaN</td>\n",
       "    </tr>\n",
       "    <tr>\n",
       "      <th>543</th>\n",
       "      <td>13881.SAMEA6809425</td>\n",
       "      <td>13881</td>\n",
       "      <td>Homo-sapiens_SAMEA6809425.ebi_filtered_r1r2com...</td>\n",
       "      <td>Homo-sapiens_SAMEA6809425.ebi_filtered_r1r2com...</td>\n",
       "      <td>55200616</td>\n",
       "      <td>55172154</td>\n",
       "      <td>human.3</td>\n",
       "      <td>Chordata</td>\n",
       "      <td>Mammalia</td>\n",
       "      <td>Hominidae</td>\n",
       "      <td>...</td>\n",
       "      <td>Homo sapiens</td>\n",
       "      <td>NaN</td>\n",
       "      <td>omnivore</td>\n",
       "      <td>Austria</td>\n",
       "      <td>NaN</td>\n",
       "      <td>feces</td>\n",
       "      <td>omnivore</td>\n",
       "      <td>omnivore</td>\n",
       "      <td>human</td>\n",
       "      <td>NaN</td>\n",
       "    </tr>\n",
       "    <tr>\n",
       "      <th>587</th>\n",
       "      <td>13881.SAMEA6809444</td>\n",
       "      <td>13881</td>\n",
       "      <td>Nycticebus-pygmaeus_SAMEA6809444.ebi_filtered_...</td>\n",
       "      <td>Nycticebus-pygmaeus_SAMEA6809444.ebi_filtered_...</td>\n",
       "      <td>5192278</td>\n",
       "      <td>5117086</td>\n",
       "      <td>pygmy_slow_loris.2</td>\n",
       "      <td>Chordata</td>\n",
       "      <td>Mammalia</td>\n",
       "      <td>Lorisidae</td>\n",
       "      <td>...</td>\n",
       "      <td>Nycticebus coucang</td>\n",
       "      <td>NaN</td>\n",
       "      <td>omnivore</td>\n",
       "      <td>Viet Nam</td>\n",
       "      <td>NaN</td>\n",
       "      <td>feces</td>\n",
       "      <td>omnivore, gummivore</td>\n",
       "      <td>omnivore</td>\n",
       "      <td>wild</td>\n",
       "      <td>NaN</td>\n",
       "    </tr>\n",
       "  </tbody>\n",
       "</table>\n",
       "<p>9 rows × 28 columns</p>\n",
       "</div>"
      ],
      "text/plain": [
       "                   sample_name  studyID  \\\n",
       "26   11166.NATL.25075.mongoose    11166   \n",
       "47     11166.ATL.24564.meerkat    11166   \n",
       "48       11166.FD.0198.meerkat    11166   \n",
       "327         13114.song.51.s009    13114   \n",
       "330         13114.song.51.s012    13114   \n",
       "331         13114.song.51.s013    13114   \n",
       "371         13114.song.75.s003    13114   \n",
       "543         13881.SAMEA6809425    13881   \n",
       "587         13881.SAMEA6809444    13881   \n",
       "\n",
       "                                              SampleID  \\\n",
       "26   Helogale-parvula_S_S_Temp_D704-AK1544_filtered...   \n",
       "47   Suricata-suricatta_S_S_Temp_D705-AK1681_filter...   \n",
       "48   Suricata-suricatta_S_S_Temp_D701-AK1681_filter...   \n",
       "327  Helogale-parvula_Song51_24713_host_filtered_r1...   \n",
       "330  Mungos-mungo_Song51_24742_host_filtered_r1r2co...   \n",
       "331  Callosciurus-prevosti_Song51_24754_host_filter...   \n",
       "371  Trichechus-manatus_Song75_ace_host_filtered_r1...   \n",
       "543  Homo-sapiens_SAMEA6809425.ebi_filtered_r1r2com...   \n",
       "587  Nycticebus-pygmaeus_SAMEA6809444.ebi_filtered_...   \n",
       "\n",
       "                           file_filtered_r1r2_combined  \\\n",
       "26   Helogale-parvula_S_S_Temp_D704-AK1544_filtered...   \n",
       "47   Suricata-suricatta_S_S_Temp_D705-AK1681_filter...   \n",
       "48   Suricata-suricatta_S_S_Temp_D701-AK1681_filter...   \n",
       "327  Helogale-parvula_Song51_24713_host_filtered_r1...   \n",
       "330  Mungos-mungo_Song51_24742_host_filtered_r1r2co...   \n",
       "331  Callosciurus-prevosti_Song51_24754_host_filter...   \n",
       "371  Trichechus-manatus_Song75_ace_host_filtered_r1...   \n",
       "543  Homo-sapiens_SAMEA6809425.ebi_filtered_r1r2com...   \n",
       "587  Nycticebus-pygmaeus_SAMEA6809444.ebi_filtered_...   \n",
       "\n",
       "     reads_per_unfiltered_file  reads_per_file            species_id  \\\n",
       "26                    83622188        83617234      dwarf_mongoose.2   \n",
       "47                    28835276        27018442             meerkat.1   \n",
       "48                    86193986        66215826             meerkat.2   \n",
       "327                   19822812        18792480      dwarf_mongoose.1   \n",
       "330                   23173316        22718274     banded_mongoose.1   \n",
       "331                   15756000        15731890  prevost's_squirrel.1   \n",
       "371                   28571758        28490842     florida_manatee.1   \n",
       "543                   55200616        55172154               human.3   \n",
       "587                    5192278         5117086    pygmy_slow_loris.2   \n",
       "\n",
       "    host_phylum host_class   host_family  ...    reference_host_for_filtering  \\\n",
       "26     Chordata   Mammalia   Herpestidae  ...                Helogale parvula   \n",
       "47     Chordata   Mammalia   Herpestidae  ...              Suricata suricatta   \n",
       "48     Chordata   Mammalia   Herpestidae  ...              Suricata suricatta   \n",
       "327    Chordata   Mammalia   Herpestidae  ...                Helogale parvula   \n",
       "330    Chordata   Mammalia   Herpestidae  ...                    Mungos mungo   \n",
       "331    Chordata   Mammalia     Sciuridae  ...                Sciurus vulgaris   \n",
       "371    Chordata   Mammalia  Trichechidae  ...  Trichechus manatus latirostris   \n",
       "543    Chordata   Mammalia     Hominidae  ...                    Homo sapiens   \n",
       "587    Chordata   Mammalia     Lorisidae  ...              Nycticebus coucang   \n",
       "\n",
       "               host_modality    host_diet   country habitat sample_type  \\\n",
       "26                       NaN          NaN       USA     NaN         NaN   \n",
       "47                       NaN          NaN       USA     NaN         NaN   \n",
       "48                       NaN          NaN    France     NaN         NaN   \n",
       "327  terrestrial, flightless  insectivore       USA     NaN         NaN   \n",
       "330  terrestrial, flightless    carnivore       USA     NaN         NaN   \n",
       "331  terrestrial, flightless     omnivore       USA     NaN         NaN   \n",
       "371  terrestrial, flightless    herbivore       USA     NaN         NaN   \n",
       "543                      NaN     omnivore   Austria     NaN       feces   \n",
       "587                      NaN     omnivore  Viet Nam     NaN       feces   \n",
       "\n",
       "        diet_category_12 diet_category_3 captive_wild Unnamed: 27  \n",
       "26           insectivore       carnivore      captive         NaN  \n",
       "47           insectivore       carnivore      captive         NaN  \n",
       "48           insectivore       carnivore      captive         NaN  \n",
       "327          insectivore       carnivore      captive         NaN  \n",
       "330            herbivore       herbivore      captive         NaN  \n",
       "331            frugivore       herbivore      captive         NaN  \n",
       "371            herbivore       herbivore      captive         NaN  \n",
       "543             omnivore        omnivore        human         NaN  \n",
       "587  omnivore, gummivore        omnivore         wild         NaN  \n",
       "\n",
       "[9 rows x 28 columns]"
      ]
     },
     "execution_count": 352,
     "metadata": {},
     "output_type": "execute_result"
    }
   ],
   "source": [
    "host_md"
   ]
  },
  {
   "cell_type": "code",
   "execution_count": 353,
   "metadata": {},
   "outputs": [],
   "source": [
    "sampleID_subset_list=[]\n",
    "if one_per_sp:\n",
    "    for i in range(0, number_of_iterations):\n",
    "        host_md_subset =  host_md.loc[(host_md['SampleID'].isin(sample_tips)),].groupby('TimeTree_returned').sample(1).reset_index()\n",
    "        sampleID_subset_list.append(host_md_subset)\n",
    "        #     host_ids_subset = list(set(host_md['SampleID']))"
   ]
  },
  {
   "cell_type": "code",
   "execution_count": 354,
   "metadata": {},
   "outputs": [
    {
     "data": {
      "text/html": [
       "<div>\n",
       "<style scoped>\n",
       "    .dataframe tbody tr th:only-of-type {\n",
       "        vertical-align: middle;\n",
       "    }\n",
       "\n",
       "    .dataframe tbody tr th {\n",
       "        vertical-align: top;\n",
       "    }\n",
       "\n",
       "    .dataframe thead th {\n",
       "        text-align: right;\n",
       "    }\n",
       "</style>\n",
       "<table border=\"1\" class=\"dataframe\">\n",
       "  <thead>\n",
       "    <tr style=\"text-align: right;\">\n",
       "      <th></th>\n",
       "      <th>sample_name</th>\n",
       "      <th>studyID</th>\n",
       "      <th>SampleID</th>\n",
       "      <th>file_filtered_r1r2_combined</th>\n",
       "      <th>reads_per_unfiltered_file</th>\n",
       "      <th>reads_per_file</th>\n",
       "      <th>species_id</th>\n",
       "      <th>host_phylum</th>\n",
       "      <th>host_class</th>\n",
       "      <th>host_family</th>\n",
       "      <th>...</th>\n",
       "      <th>reference_host_for_filtering</th>\n",
       "      <th>host_modality</th>\n",
       "      <th>host_diet</th>\n",
       "      <th>country</th>\n",
       "      <th>habitat</th>\n",
       "      <th>sample_type</th>\n",
       "      <th>diet_category_12</th>\n",
       "      <th>diet_category_3</th>\n",
       "      <th>captive_wild</th>\n",
       "      <th>Unnamed: 27</th>\n",
       "    </tr>\n",
       "  </thead>\n",
       "  <tbody>\n",
       "    <tr>\n",
       "      <th>26</th>\n",
       "      <td>11166.NATL.25075.mongoose</td>\n",
       "      <td>11166</td>\n",
       "      <td>Helogale-parvula_S_S_Temp_D704-AK1544_filtered...</td>\n",
       "      <td>Helogale-parvula_S_S_Temp_D704-AK1544_filtered...</td>\n",
       "      <td>83622188</td>\n",
       "      <td>83617234</td>\n",
       "      <td>dwarf_mongoose.2</td>\n",
       "      <td>Chordata</td>\n",
       "      <td>Mammalia</td>\n",
       "      <td>Herpestidae</td>\n",
       "      <td>...</td>\n",
       "      <td>Helogale parvula</td>\n",
       "      <td>NaN</td>\n",
       "      <td>NaN</td>\n",
       "      <td>USA</td>\n",
       "      <td>NaN</td>\n",
       "      <td>NaN</td>\n",
       "      <td>insectivore</td>\n",
       "      <td>carnivore</td>\n",
       "      <td>captive</td>\n",
       "      <td>NaN</td>\n",
       "    </tr>\n",
       "    <tr>\n",
       "      <th>47</th>\n",
       "      <td>11166.ATL.24564.meerkat</td>\n",
       "      <td>11166</td>\n",
       "      <td>Suricata-suricatta_S_S_Temp_D705-AK1681_filter...</td>\n",
       "      <td>Suricata-suricatta_S_S_Temp_D705-AK1681_filter...</td>\n",
       "      <td>28835276</td>\n",
       "      <td>27018442</td>\n",
       "      <td>meerkat.1</td>\n",
       "      <td>Chordata</td>\n",
       "      <td>Mammalia</td>\n",
       "      <td>Herpestidae</td>\n",
       "      <td>...</td>\n",
       "      <td>Suricata suricatta</td>\n",
       "      <td>NaN</td>\n",
       "      <td>NaN</td>\n",
       "      <td>USA</td>\n",
       "      <td>NaN</td>\n",
       "      <td>NaN</td>\n",
       "      <td>insectivore</td>\n",
       "      <td>carnivore</td>\n",
       "      <td>captive</td>\n",
       "      <td>NaN</td>\n",
       "    </tr>\n",
       "    <tr>\n",
       "      <th>48</th>\n",
       "      <td>11166.FD.0198.meerkat</td>\n",
       "      <td>11166</td>\n",
       "      <td>Suricata-suricatta_S_S_Temp_D701-AK1681_filter...</td>\n",
       "      <td>Suricata-suricatta_S_S_Temp_D701-AK1681_filter...</td>\n",
       "      <td>86193986</td>\n",
       "      <td>66215826</td>\n",
       "      <td>meerkat.2</td>\n",
       "      <td>Chordata</td>\n",
       "      <td>Mammalia</td>\n",
       "      <td>Herpestidae</td>\n",
       "      <td>...</td>\n",
       "      <td>Suricata suricatta</td>\n",
       "      <td>NaN</td>\n",
       "      <td>NaN</td>\n",
       "      <td>France</td>\n",
       "      <td>NaN</td>\n",
       "      <td>NaN</td>\n",
       "      <td>insectivore</td>\n",
       "      <td>carnivore</td>\n",
       "      <td>captive</td>\n",
       "      <td>NaN</td>\n",
       "    </tr>\n",
       "    <tr>\n",
       "      <th>327</th>\n",
       "      <td>13114.song.51.s009</td>\n",
       "      <td>13114</td>\n",
       "      <td>Helogale-parvula_Song51_24713_host_filtered_r1...</td>\n",
       "      <td>Helogale-parvula_Song51_24713_host_filtered_r1...</td>\n",
       "      <td>19822812</td>\n",
       "      <td>18792480</td>\n",
       "      <td>dwarf_mongoose.1</td>\n",
       "      <td>Chordata</td>\n",
       "      <td>Mammalia</td>\n",
       "      <td>Herpestidae</td>\n",
       "      <td>...</td>\n",
       "      <td>Helogale parvula</td>\n",
       "      <td>terrestrial, flightless</td>\n",
       "      <td>insectivore</td>\n",
       "      <td>USA</td>\n",
       "      <td>NaN</td>\n",
       "      <td>NaN</td>\n",
       "      <td>insectivore</td>\n",
       "      <td>carnivore</td>\n",
       "      <td>captive</td>\n",
       "      <td>NaN</td>\n",
       "    </tr>\n",
       "    <tr>\n",
       "      <th>330</th>\n",
       "      <td>13114.song.51.s012</td>\n",
       "      <td>13114</td>\n",
       "      <td>Mungos-mungo_Song51_24742_host_filtered_r1r2co...</td>\n",
       "      <td>Mungos-mungo_Song51_24742_host_filtered_r1r2co...</td>\n",
       "      <td>23173316</td>\n",
       "      <td>22718274</td>\n",
       "      <td>banded_mongoose.1</td>\n",
       "      <td>Chordata</td>\n",
       "      <td>Mammalia</td>\n",
       "      <td>Herpestidae</td>\n",
       "      <td>...</td>\n",
       "      <td>Mungos mungo</td>\n",
       "      <td>terrestrial, flightless</td>\n",
       "      <td>carnivore</td>\n",
       "      <td>USA</td>\n",
       "      <td>NaN</td>\n",
       "      <td>NaN</td>\n",
       "      <td>herbivore</td>\n",
       "      <td>herbivore</td>\n",
       "      <td>captive</td>\n",
       "      <td>NaN</td>\n",
       "    </tr>\n",
       "    <tr>\n",
       "      <th>331</th>\n",
       "      <td>13114.song.51.s013</td>\n",
       "      <td>13114</td>\n",
       "      <td>Callosciurus-prevosti_Song51_24754_host_filter...</td>\n",
       "      <td>Callosciurus-prevosti_Song51_24754_host_filter...</td>\n",
       "      <td>15756000</td>\n",
       "      <td>15731890</td>\n",
       "      <td>prevost's_squirrel.1</td>\n",
       "      <td>Chordata</td>\n",
       "      <td>Mammalia</td>\n",
       "      <td>Sciuridae</td>\n",
       "      <td>...</td>\n",
       "      <td>Sciurus vulgaris</td>\n",
       "      <td>terrestrial, flightless</td>\n",
       "      <td>omnivore</td>\n",
       "      <td>USA</td>\n",
       "      <td>NaN</td>\n",
       "      <td>NaN</td>\n",
       "      <td>frugivore</td>\n",
       "      <td>herbivore</td>\n",
       "      <td>captive</td>\n",
       "      <td>NaN</td>\n",
       "    </tr>\n",
       "    <tr>\n",
       "      <th>371</th>\n",
       "      <td>13114.song.75.s003</td>\n",
       "      <td>13114</td>\n",
       "      <td>Trichechus-manatus_Song75_ace_host_filtered_r1...</td>\n",
       "      <td>Trichechus-manatus_Song75_ace_host_filtered_r1...</td>\n",
       "      <td>28571758</td>\n",
       "      <td>28490842</td>\n",
       "      <td>florida_manatee.1</td>\n",
       "      <td>Chordata</td>\n",
       "      <td>Mammalia</td>\n",
       "      <td>Trichechidae</td>\n",
       "      <td>...</td>\n",
       "      <td>Trichechus manatus latirostris</td>\n",
       "      <td>terrestrial, flightless</td>\n",
       "      <td>herbivore</td>\n",
       "      <td>USA</td>\n",
       "      <td>NaN</td>\n",
       "      <td>NaN</td>\n",
       "      <td>herbivore</td>\n",
       "      <td>herbivore</td>\n",
       "      <td>captive</td>\n",
       "      <td>NaN</td>\n",
       "    </tr>\n",
       "    <tr>\n",
       "      <th>543</th>\n",
       "      <td>13881.SAMEA6809425</td>\n",
       "      <td>13881</td>\n",
       "      <td>Homo-sapiens_SAMEA6809425.ebi_filtered_r1r2com...</td>\n",
       "      <td>Homo-sapiens_SAMEA6809425.ebi_filtered_r1r2com...</td>\n",
       "      <td>55200616</td>\n",
       "      <td>55172154</td>\n",
       "      <td>human.3</td>\n",
       "      <td>Chordata</td>\n",
       "      <td>Mammalia</td>\n",
       "      <td>Hominidae</td>\n",
       "      <td>...</td>\n",
       "      <td>Homo sapiens</td>\n",
       "      <td>NaN</td>\n",
       "      <td>omnivore</td>\n",
       "      <td>Austria</td>\n",
       "      <td>NaN</td>\n",
       "      <td>feces</td>\n",
       "      <td>omnivore</td>\n",
       "      <td>omnivore</td>\n",
       "      <td>human</td>\n",
       "      <td>NaN</td>\n",
       "    </tr>\n",
       "    <tr>\n",
       "      <th>587</th>\n",
       "      <td>13881.SAMEA6809444</td>\n",
       "      <td>13881</td>\n",
       "      <td>Nycticebus-pygmaeus_SAMEA6809444.ebi_filtered_...</td>\n",
       "      <td>Nycticebus-pygmaeus_SAMEA6809444.ebi_filtered_...</td>\n",
       "      <td>5192278</td>\n",
       "      <td>5117086</td>\n",
       "      <td>pygmy_slow_loris.2</td>\n",
       "      <td>Chordata</td>\n",
       "      <td>Mammalia</td>\n",
       "      <td>Lorisidae</td>\n",
       "      <td>...</td>\n",
       "      <td>Nycticebus coucang</td>\n",
       "      <td>NaN</td>\n",
       "      <td>omnivore</td>\n",
       "      <td>Viet Nam</td>\n",
       "      <td>NaN</td>\n",
       "      <td>feces</td>\n",
       "      <td>omnivore, gummivore</td>\n",
       "      <td>omnivore</td>\n",
       "      <td>wild</td>\n",
       "      <td>NaN</td>\n",
       "    </tr>\n",
       "  </tbody>\n",
       "</table>\n",
       "<p>9 rows × 28 columns</p>\n",
       "</div>"
      ],
      "text/plain": [
       "                   sample_name  studyID  \\\n",
       "26   11166.NATL.25075.mongoose    11166   \n",
       "47     11166.ATL.24564.meerkat    11166   \n",
       "48       11166.FD.0198.meerkat    11166   \n",
       "327         13114.song.51.s009    13114   \n",
       "330         13114.song.51.s012    13114   \n",
       "331         13114.song.51.s013    13114   \n",
       "371         13114.song.75.s003    13114   \n",
       "543         13881.SAMEA6809425    13881   \n",
       "587         13881.SAMEA6809444    13881   \n",
       "\n",
       "                                              SampleID  \\\n",
       "26   Helogale-parvula_S_S_Temp_D704-AK1544_filtered...   \n",
       "47   Suricata-suricatta_S_S_Temp_D705-AK1681_filter...   \n",
       "48   Suricata-suricatta_S_S_Temp_D701-AK1681_filter...   \n",
       "327  Helogale-parvula_Song51_24713_host_filtered_r1...   \n",
       "330  Mungos-mungo_Song51_24742_host_filtered_r1r2co...   \n",
       "331  Callosciurus-prevosti_Song51_24754_host_filter...   \n",
       "371  Trichechus-manatus_Song75_ace_host_filtered_r1...   \n",
       "543  Homo-sapiens_SAMEA6809425.ebi_filtered_r1r2com...   \n",
       "587  Nycticebus-pygmaeus_SAMEA6809444.ebi_filtered_...   \n",
       "\n",
       "                           file_filtered_r1r2_combined  \\\n",
       "26   Helogale-parvula_S_S_Temp_D704-AK1544_filtered...   \n",
       "47   Suricata-suricatta_S_S_Temp_D705-AK1681_filter...   \n",
       "48   Suricata-suricatta_S_S_Temp_D701-AK1681_filter...   \n",
       "327  Helogale-parvula_Song51_24713_host_filtered_r1...   \n",
       "330  Mungos-mungo_Song51_24742_host_filtered_r1r2co...   \n",
       "331  Callosciurus-prevosti_Song51_24754_host_filter...   \n",
       "371  Trichechus-manatus_Song75_ace_host_filtered_r1...   \n",
       "543  Homo-sapiens_SAMEA6809425.ebi_filtered_r1r2com...   \n",
       "587  Nycticebus-pygmaeus_SAMEA6809444.ebi_filtered_...   \n",
       "\n",
       "     reads_per_unfiltered_file  reads_per_file            species_id  \\\n",
       "26                    83622188        83617234      dwarf_mongoose.2   \n",
       "47                    28835276        27018442             meerkat.1   \n",
       "48                    86193986        66215826             meerkat.2   \n",
       "327                   19822812        18792480      dwarf_mongoose.1   \n",
       "330                   23173316        22718274     banded_mongoose.1   \n",
       "331                   15756000        15731890  prevost's_squirrel.1   \n",
       "371                   28571758        28490842     florida_manatee.1   \n",
       "543                   55200616        55172154               human.3   \n",
       "587                    5192278         5117086    pygmy_slow_loris.2   \n",
       "\n",
       "    host_phylum host_class   host_family  ...    reference_host_for_filtering  \\\n",
       "26     Chordata   Mammalia   Herpestidae  ...                Helogale parvula   \n",
       "47     Chordata   Mammalia   Herpestidae  ...              Suricata suricatta   \n",
       "48     Chordata   Mammalia   Herpestidae  ...              Suricata suricatta   \n",
       "327    Chordata   Mammalia   Herpestidae  ...                Helogale parvula   \n",
       "330    Chordata   Mammalia   Herpestidae  ...                    Mungos mungo   \n",
       "331    Chordata   Mammalia     Sciuridae  ...                Sciurus vulgaris   \n",
       "371    Chordata   Mammalia  Trichechidae  ...  Trichechus manatus latirostris   \n",
       "543    Chordata   Mammalia     Hominidae  ...                    Homo sapiens   \n",
       "587    Chordata   Mammalia     Lorisidae  ...              Nycticebus coucang   \n",
       "\n",
       "               host_modality    host_diet   country habitat sample_type  \\\n",
       "26                       NaN          NaN       USA     NaN         NaN   \n",
       "47                       NaN          NaN       USA     NaN         NaN   \n",
       "48                       NaN          NaN    France     NaN         NaN   \n",
       "327  terrestrial, flightless  insectivore       USA     NaN         NaN   \n",
       "330  terrestrial, flightless    carnivore       USA     NaN         NaN   \n",
       "331  terrestrial, flightless     omnivore       USA     NaN         NaN   \n",
       "371  terrestrial, flightless    herbivore       USA     NaN         NaN   \n",
       "543                      NaN     omnivore   Austria     NaN       feces   \n",
       "587                      NaN     omnivore  Viet Nam     NaN       feces   \n",
       "\n",
       "        diet_category_12 diet_category_3 captive_wild Unnamed: 27  \n",
       "26           insectivore       carnivore      captive         NaN  \n",
       "47           insectivore       carnivore      captive         NaN  \n",
       "48           insectivore       carnivore      captive         NaN  \n",
       "327          insectivore       carnivore      captive         NaN  \n",
       "330            herbivore       herbivore      captive         NaN  \n",
       "331            frugivore       herbivore      captive         NaN  \n",
       "371            herbivore       herbivore      captive         NaN  \n",
       "543             omnivore        omnivore        human         NaN  \n",
       "587  omnivore, gummivore        omnivore         wild         NaN  \n",
       "\n",
       "[9 rows x 28 columns]"
      ]
     },
     "execution_count": 354,
     "metadata": {},
     "output_type": "execute_result"
    }
   ],
   "source": [
    "host_md"
   ]
  },
  {
   "cell_type": "code",
   "execution_count": 355,
   "metadata": {},
   "outputs": [
    {
     "name": "stdout",
     "output_type": "stream",
     "text": [
      "0    Callosciurus-prevosti_Song51_24754_host_filter...\n",
      "1    Helogale-parvula_Song51_24713_host_filtered_r1...\n",
      "2    Homo-sapiens_SAMEA6809425.ebi_filtered_r1r2com...\n",
      "3    Mungos-mungo_Song51_24742_host_filtered_r1r2co...\n",
      "4    Nycticebus-pygmaeus_SAMEA6809444.ebi_filtered_...\n",
      "5    Suricata-suricatta_S_S_Temp_D701-AK1681_filter...\n",
      "6    Trichechus-manatus_Song75_ace_host_filtered_r1...\n",
      "Name: SampleID, dtype: object\n",
      "0    Callosciurus-prevosti_Song51_24754_host_filter...\n",
      "1    Helogale-parvula_Song51_24713_host_filtered_r1...\n",
      "2    Homo-sapiens_SAMEA6809425.ebi_filtered_r1r2com...\n",
      "3    Mungos-mungo_Song51_24742_host_filtered_r1r2co...\n",
      "4    Nycticebus-pygmaeus_SAMEA6809444.ebi_filtered_...\n",
      "5    Suricata-suricatta_S_S_Temp_D705-AK1681_filter...\n",
      "6    Trichechus-manatus_Song75_ace_host_filtered_r1...\n",
      "Name: SampleID, dtype: object\n",
      "0    Callosciurus-prevosti_Song51_24754_host_filter...\n",
      "1    Helogale-parvula_S_S_Temp_D704-AK1544_filtered...\n",
      "2    Homo-sapiens_SAMEA6809425.ebi_filtered_r1r2com...\n",
      "3    Mungos-mungo_Song51_24742_host_filtered_r1r2co...\n",
      "4    Nycticebus-pygmaeus_SAMEA6809444.ebi_filtered_...\n",
      "5    Suricata-suricatta_S_S_Temp_D701-AK1681_filter...\n",
      "6    Trichechus-manatus_Song75_ace_host_filtered_r1...\n",
      "Name: SampleID, dtype: object\n",
      "0    Callosciurus-prevosti_Song51_24754_host_filter...\n",
      "1    Helogale-parvula_S_S_Temp_D704-AK1544_filtered...\n",
      "2    Homo-sapiens_SAMEA6809425.ebi_filtered_r1r2com...\n",
      "3    Mungos-mungo_Song51_24742_host_filtered_r1r2co...\n",
      "4    Nycticebus-pygmaeus_SAMEA6809444.ebi_filtered_...\n",
      "5    Suricata-suricatta_S_S_Temp_D701-AK1681_filter...\n",
      "6    Trichechus-manatus_Song75_ace_host_filtered_r1...\n",
      "Name: SampleID, dtype: object\n",
      "0    Callosciurus-prevosti_Song51_24754_host_filter...\n",
      "1    Helogale-parvula_Song51_24713_host_filtered_r1...\n",
      "2    Homo-sapiens_SAMEA6809425.ebi_filtered_r1r2com...\n",
      "3    Mungos-mungo_Song51_24742_host_filtered_r1r2co...\n",
      "4    Nycticebus-pygmaeus_SAMEA6809444.ebi_filtered_...\n",
      "5    Suricata-suricatta_S_S_Temp_D701-AK1681_filter...\n",
      "6    Trichechus-manatus_Song75_ace_host_filtered_r1...\n",
      "Name: SampleID, dtype: object\n",
      "0    Callosciurus-prevosti_Song51_24754_host_filter...\n",
      "1    Helogale-parvula_S_S_Temp_D704-AK1544_filtered...\n",
      "2    Homo-sapiens_SAMEA6809425.ebi_filtered_r1r2com...\n",
      "3    Mungos-mungo_Song51_24742_host_filtered_r1r2co...\n",
      "4    Nycticebus-pygmaeus_SAMEA6809444.ebi_filtered_...\n",
      "5    Suricata-suricatta_S_S_Temp_D705-AK1681_filter...\n",
      "6    Trichechus-manatus_Song75_ace_host_filtered_r1...\n",
      "Name: SampleID, dtype: object\n",
      "0    Callosciurus-prevosti_Song51_24754_host_filter...\n",
      "1    Helogale-parvula_S_S_Temp_D704-AK1544_filtered...\n",
      "2    Homo-sapiens_SAMEA6809425.ebi_filtered_r1r2com...\n",
      "3    Mungos-mungo_Song51_24742_host_filtered_r1r2co...\n",
      "4    Nycticebus-pygmaeus_SAMEA6809444.ebi_filtered_...\n",
      "5    Suricata-suricatta_S_S_Temp_D701-AK1681_filter...\n",
      "6    Trichechus-manatus_Song75_ace_host_filtered_r1...\n",
      "Name: SampleID, dtype: object\n",
      "0    Callosciurus-prevosti_Song51_24754_host_filter...\n",
      "1    Helogale-parvula_Song51_24713_host_filtered_r1...\n",
      "2    Homo-sapiens_SAMEA6809425.ebi_filtered_r1r2com...\n",
      "3    Mungos-mungo_Song51_24742_host_filtered_r1r2co...\n",
      "4    Nycticebus-pygmaeus_SAMEA6809444.ebi_filtered_...\n",
      "5    Suricata-suricatta_S_S_Temp_D705-AK1681_filter...\n",
      "6    Trichechus-manatus_Song75_ace_host_filtered_r1...\n",
      "Name: SampleID, dtype: object\n",
      "0    Callosciurus-prevosti_Song51_24754_host_filter...\n",
      "1    Helogale-parvula_S_S_Temp_D704-AK1544_filtered...\n",
      "2    Homo-sapiens_SAMEA6809425.ebi_filtered_r1r2com...\n",
      "3    Mungos-mungo_Song51_24742_host_filtered_r1r2co...\n",
      "4    Nycticebus-pygmaeus_SAMEA6809444.ebi_filtered_...\n",
      "5    Suricata-suricatta_S_S_Temp_D705-AK1681_filter...\n",
      "6    Trichechus-manatus_Song75_ace_host_filtered_r1...\n",
      "Name: SampleID, dtype: object\n",
      "0    Callosciurus-prevosti_Song51_24754_host_filter...\n",
      "1    Helogale-parvula_S_S_Temp_D704-AK1544_filtered...\n",
      "2    Homo-sapiens_SAMEA6809425.ebi_filtered_r1r2com...\n",
      "3    Mungos-mungo_Song51_24742_host_filtered_r1r2co...\n",
      "4    Nycticebus-pygmaeus_SAMEA6809444.ebi_filtered_...\n",
      "5    Suricata-suricatta_S_S_Temp_D701-AK1681_filter...\n",
      "6    Trichechus-manatus_Song75_ace_host_filtered_r1...\n",
      "Name: SampleID, dtype: object\n"
     ]
    }
   ],
   "source": [
    "for i in range(0,10):\n",
    "    print(sampleID_subset_list[i]['SampleID'])"
   ]
  },
  {
   "cell_type": "code",
   "execution_count": 356,
   "metadata": {},
   "outputs": [
    {
     "name": "stdout",
     "output_type": "stream",
     "text": [
      " original sample_tree width--> \n",
      "10\n",
      " filtered sample_tree width--> \n",
      "7\n",
      " original sample_tree width--> \n",
      "10\n",
      " filtered sample_tree width--> \n",
      "7\n",
      " original sample_tree width--> \n",
      "10\n",
      " filtered sample_tree width--> \n",
      "7\n",
      " original sample_tree width--> \n",
      "10\n",
      " filtered sample_tree width--> \n",
      "7\n",
      " original sample_tree width--> \n",
      "10\n",
      " filtered sample_tree width--> \n",
      "7\n",
      " original sample_tree width--> \n",
      "10\n",
      " filtered sample_tree width--> \n",
      "7\n",
      " original sample_tree width--> \n",
      "10\n",
      " filtered sample_tree width--> \n",
      "7\n",
      " original sample_tree width--> \n",
      "10\n",
      " filtered sample_tree width--> \n",
      "7\n",
      " original sample_tree width--> \n",
      "10\n",
      " filtered sample_tree width--> \n",
      "7\n",
      " original sample_tree width--> \n",
      "10\n",
      " filtered sample_tree width--> \n",
      "7\n"
     ]
    }
   ],
   "source": [
    "# Filter sample tree \n",
    "sample_tree_list=[]\n",
    "for i in range(0,number_of_iterations):\n",
    "    print(\" original sample_tree width--> \")\n",
    "    print(len(sample_tips))\n",
    "    sheared_sample_tree = sample_tree.shear(sampleID_subset_list[i]['SampleID'])\n",
    "    new_sample_tips = [x.name for x in sheared_sample_tree.tips()]\n",
    "\n",
    "    sample_tree_list.append(sheared_sample_tree)\n",
    "    print(\" filtered sample_tree width--> \")\n",
    "    print(len(new_sample_tips))"
   ]
  },
  {
   "cell_type": "code",
   "execution_count": 357,
   "metadata": {},
   "outputs": [
    {
     "data": {
      "text/plain": [
       "True"
      ]
     },
     "execution_count": 357,
     "metadata": {},
     "output_type": "execute_result"
    }
   ],
   "source": [
    "## Check if number of tips in sample and host tree is the same \n",
    "one_sample_tips = [x.name for x in sample_tree_list[0].tips()]\n",
    "len(one_sample_tips) == len(host_tips)"
   ]
  },
  {
   "cell_type": "markdown",
   "metadata": {},
   "source": [
    "# Visualize trimmed host and sample tree"
   ]
  },
  {
   "cell_type": "code",
   "execution_count": 111,
   "metadata": {},
   "outputs": [],
   "source": [
    "import empress"
   ]
  },
  {
   "cell_type": "code",
   "execution_count": 44,
   "metadata": {},
   "outputs": [
    {
     "name": "stdout",
     "output_type": "stream",
     "text": [
      "Help on package empress:\n",
      "\n",
      "NAME\n",
      "    empress\n",
      "\n",
      "DESCRIPTION\n",
      "    # ----------------------------------------------------------------------------\n",
      "    # Copyright (c) 2016-2020, empress development team.\n",
      "    #\n",
      "    # Distributed under the terms of the Modified BSD License.\n",
      "    #\n",
      "    # The full license is in the file LICENSE, distributed with this software.\n",
      "    # ----------------------------------------------------------------------------\n",
      "\n",
      "PACKAGE CONTENTS\n",
      "    _parameter_descriptions\n",
      "    _plot\n",
      "    _plot_utils\n",
      "    compression_utils\n",
      "    core\n",
      "    plugin_setup\n",
      "    scripts (package)\n",
      "    taxonomy_utils\n",
      "    tools\n",
      "    tree\n",
      "\n",
      "CLASSES\n",
      "    builtins.object\n",
      "        empress.core.Empress\n",
      "    \n",
      "    class Empress(builtins.object)\n",
      "     |  Methods defined here:\n",
      "     |  \n",
      "     |  __init__(self, tree, table=None, sample_metadata=None, feature_metadata=None, ordination=None, ignore_missing_samples=False, filter_extra_samples=False, filter_missing_features=False, resource_path=None, shear_to_table=True, shear_to_feature_metadata=False)\n",
      "     |      Visualize a phylogenetic tree\n",
      "     |      \n",
      "     |      Use this object to interactively display a phylogenetic tree using the\n",
      "     |      Empress GUI.\n",
      "     |      \n",
      "     |      Note that the table and sample metadata must either both be specified\n",
      "     |      or both be None. If only one of them is None, this will raise a\n",
      "     |      ValueError. If both are None, then the values of the ordination,\n",
      "     |      ignore_missing_samples, filter_extra_samples, filter_missing_features,\n",
      "     |      and shear_to_table arguments will be ignored since no sample\n",
      "     |      information is available.\n",
      "     |      \n",
      "     |      Parameters\n",
      "     |      ----------\n",
      "     |      tree: bp.BP\n",
      "     |          The phylogenetic tree to visualize.\n",
      "     |      table: biom.Table, optional\n",
      "     |          The matrix to visualize paired with the phylogenetic tree.\n",
      "     |      sample_metadata: pd.DataFrame, optional\n",
      "     |          DataFrame object with the metadata associated to the samples in the\n",
      "     |          ``ordination`` object, should have an index set and it should match\n",
      "     |          the identifiers in the ``ordination`` object.\n",
      "     |      feature_metadata: pd.DataFrame, optional\n",
      "     |          DataFrame object with the metadata associated to the names of\n",
      "     |          tips and/or internal nodes in the  ``tree`` object, should have an\n",
      "     |          index set and it should match at least one of these nodes' names.\n",
      "     |      ordination: skbio.OrdinationResults, optional\n",
      "     |          Object containing the computed values for an ordination method in\n",
      "     |          scikit-bio. Currently supports skbio.stats.ordination.PCoA and\n",
      "     |          skbio.stats.ordination.RDA results.\n",
      "     |      ignore_missing_samples: bool, optional (default False)\n",
      "     |          If True, pads missing samples (i.e. samples in the table but not\n",
      "     |          the metadata) with placeholder metadata. If False, raises a\n",
      "     |          DataMatchingError if any such samples exist. (Note that in either\n",
      "     |          case, samples in the metadata but not in the table are filtered\n",
      "     |          out; and if no samples are shared between the table and metadata, a\n",
      "     |          DataMatchingError is raised regardless.) This is analogous to the\n",
      "     |          ignore_missing_samples flag in Emperor.\n",
      "     |      filter_extra_samples: bool, optional (default False)\n",
      "     |          If True, ignores samples in the feature table that are not present\n",
      "     |          in the ordination. If False, raises a DataMatchingError if such\n",
      "     |          samples exist.\n",
      "     |      filter_missing_features: bool, optional (default False)\n",
      "     |          If True, filters features from the table that aren't present as\n",
      "     |          tips in the tree. If False, raises a DataMatchingError if any such\n",
      "     |          features exist. (Note that in either case, features in the tree but\n",
      "     |          not in the table are preserved.)\n",
      "     |      resource_path: str, optional\n",
      "     |          Load the resources from a user-specified remote location. If set to\n",
      "     |          None resources are loaded from the current directory.\n",
      "     |      shear_to_table: bool, optional\n",
      "     |          If True, shears the tree to just the tips that are present as\n",
      "     |          features in the feature table. Otherwise, the tree is not shorn.\n",
      "     |      \n",
      "     |      \n",
      "     |      Attributes\n",
      "     |      ----------\n",
      "     |      tree:\n",
      "     |          Phylogenetic tree.\n",
      "     |      table:\n",
      "     |          Contingency matrix for the phylogeny.\n",
      "     |      samples:\n",
      "     |          Sample metadata.\n",
      "     |      features:\n",
      "     |          Feature metadata.\n",
      "     |      ordination:\n",
      "     |          Ordination matrix to visualize simultaneously with the tree.\n",
      "     |      base_url:\n",
      "     |          Base path to the remote resources.\n",
      "     |  \n",
      "     |  __str__(self)\n",
      "     |      Return str(self).\n",
      "     |  \n",
      "     |  copy_support_files(self, target=None)\n",
      "     |      Copies the support files to a target directory\n",
      "     |      \n",
      "     |      If an ordination is included Emperor's support files will also be\n",
      "     |      copied over (in a directory named emperor-resources).\n",
      "     |      \n",
      "     |      Parameters\n",
      "     |      ----------\n",
      "     |      target : str\n",
      "     |          The path where resources should be copied to. By default it copies\n",
      "     |          the files to ``self.base_url``.\n",
      "     |  \n",
      "     |  make_empress(self)\n",
      "     |      Build an empress plot\n",
      "     |      \n",
      "     |      Returns\n",
      "     |      -------\n",
      "     |      str\n",
      "     |          Formatted empress plot.\n",
      "     |      \n",
      "     |      Notes\n",
      "     |      -----\n",
      "     |      Once you generate the plot (and write it to a HTML file in a given\n",
      "     |      directory) you will need to copy the support files (the JS/CSS/etc.\n",
      "     |      code needed to view the visualization) to the same directory by calling\n",
      "     |      the ``copy_support_files`` method.\n",
      "     |      \n",
      "     |      See Also\n",
      "     |      --------\n",
      "     |      empress.core.Empress.copy_support_files\n",
      "     |  \n",
      "     |  to_dict(self)\n",
      "     |      Convert processed data into a dictionary\n",
      "     |      \n",
      "     |      Warning: the object returned by to_dict will contain references to\n",
      "     |      internal variables. Exercise caution if modifying the value of objects\n",
      "     |      returned by to_dict.\n",
      "     |      \n",
      "     |      Returns\n",
      "     |      -------\n",
      "     |      dict\n",
      "     |          A dictionary describing the plots contained in the ordination\n",
      "     |          object and the sample + feature metadata.\n",
      "     |  \n",
      "     |  ----------------------------------------------------------------------\n",
      "     |  Data descriptors defined here:\n",
      "     |  \n",
      "     |  __dict__\n",
      "     |      dictionary for instance variables (if defined)\n",
      "     |  \n",
      "     |  __weakref__\n",
      "     |      list of weak references to the object (if defined)\n",
      "\n",
      "DATA\n",
      "    __all__ = ['Empress']\n",
      "\n",
      "FILE\n",
      "    /home/jhc103/miniconda3/envs/jupyter-general/lib/python3.6/site-packages/empress/__init__.py\n",
      "\n",
      "\n"
     ]
    }
   ],
   "source": [
    "help(empress)"
   ]
  },
  {
   "cell_type": "code",
   "execution_count": 338,
   "metadata": {},
   "outputs": [
    {
     "name": "stdout",
     "output_type": "stream",
     "text": [
      "                              /-Callosciurus_prevostii\n",
      "                    /523-----|\n",
      "                   |         |          /-Nycticebus_pygmaeus\n",
      "                   |          \\520-----|\n",
      "          /517-----|                    \\-Homo_sapiens\n",
      "         |         |\n",
      "         |         |                    /-Mungos_mungo\n",
      "         |         |          /268-----|\n",
      "-527-----|          \\264-----|          \\-Suricata_suricatta\n",
      "         |                   |\n",
      "         |                    \\-Helogale_parvula\n",
      "         |\n",
      "          \\-Trichechus_manatus\n"
     ]
    }
   ],
   "source": [
    "print(host_tree.ascii_art())"
   ]
  },
  {
   "cell_type": "code",
   "execution_count": 339,
   "metadata": {},
   "outputs": [
    {
     "name": "stdout",
     "output_type": "stream",
     "text": [
      "                    /-Helogale-parvula_Song51_24713_host_filtered_r1r2combined\n",
      "          /--------|\n",
      "         |          \\-Callosciurus-prevosti_Song51_24754_host_filtered_r1r2combined\n",
      "         |\n",
      "         |                              /-Helogale-parvula_S_S_Temp_D704-AK1544_filtered_r1r2combined\n",
      "         |                             |\n",
      "         |                    /--------|                    /-Suricata-suricatta_S_S_Temp_D705-AK1681_filtered_r1r2combined\n",
      "         |                   |         |          /--------|\n",
      "         |                   |         |         |         |          /-Mungos-mungo_Song51_24742_host_filtered_r1r2combined\n",
      "---------|                   |          \\--------|          \\--------|\n",
      "         |          /--------|                   |                    \\-Parabacteroides_distasonis\n",
      "         |         |         |                   |\n",
      "         |         |         |                    \\-Homo-sapiens_SAMEA6809425.ebi_filtered_r1r2combined_sampleCombined\n",
      "         |---------|         |\n",
      "         |         |          \\-Suricata-suricatta_S_S_Temp_D701-AK1681_filtered_r1r2combined\n",
      "         |         |\n",
      "         |          \\-Trichechus-manatus_Song75_ace_host_filtered_r1r2combined\n",
      "         |\n",
      "          \\-Nycticebus-pygmaeus_SAMEA6809444.ebi_filtered_r1r2combined_sampleCombined\n"
     ]
    }
   ],
   "source": [
    "print(sample_tree.ascii_art())"
   ]
  },
  {
   "cell_type": "code",
   "execution_count": null,
   "metadata": {},
   "outputs": [],
   "source": [
    "empress(host_"
   ]
  },
  {
   "cell_type": "markdown",
   "metadata": {},
   "source": [
    "# Calculate patristic distances"
   ]
  },
  {
   "cell_type": "code",
   "execution_count": 358,
   "metadata": {},
   "outputs": [],
   "source": [
    "host_patristic_dm = host_tree.tip_tip_distances()"
   ]
  },
  {
   "cell_type": "code",
   "execution_count": 359,
   "metadata": {},
   "outputs": [
    {
     "data": {
      "text/plain": [
       "<TreeNode, name: unnamed, internal node count: 4, tips count: 7>"
      ]
     },
     "execution_count": 359,
     "metadata": {},
     "output_type": "execute_result"
    }
   ],
   "source": [
    "sample_tree_list[9]"
   ]
  },
  {
   "cell_type": "code",
   "execution_count": 360,
   "metadata": {},
   "outputs": [],
   "source": [
    "sample_patristic_dm_list=[]\n",
    "for i in range(0, number_of_iterations):\n",
    "    sample_patristic_dm = sample_tree_list[i].tip_tip_distances()\n",
    "    \n",
    "    ## acquire sample tip from each tree\n",
    "    sample_tips = [x.name for x in sample_tree_list[i].tips()]\n",
    "\n",
    "    ## Change label of sample dm \n",
    "    ## get corresponding name of the ids\n",
    "    rename_df = host_md.loc[host_md['SampleID'].isin(sample_tips),\n",
    "                                 ['SampleID','TimeTree_returned']].set_index('SampleID')\n",
    "    rename = [rename_df.loc[x, 'TimeTree_returned'] for x in sample_tips]\n",
    "    ## Change label of distance matrix \n",
    "    sample_patristic_dm.ids = rename\n",
    "    \n",
    "    ## add to host_patristic_dm\n",
    "    sample_patristic_dm_list.append(sample_patristic_dm)"
   ]
  },
  {
   "cell_type": "code",
   "execution_count": 361,
   "metadata": {},
   "outputs": [
    {
     "data": {
      "text/plain": [
       "True"
      ]
     },
     "execution_count": 361,
     "metadata": {},
     "output_type": "execute_result"
    }
   ],
   "source": [
    "## Test two dm.ids are the same \n",
    "set(host_patristic_dm.ids) == set(sample_patristic_dm_list[0].ids)"
   ]
  },
  {
   "cell_type": "markdown",
   "metadata": {},
   "source": [
    "# Mantel test with results averaged over iterations set"
   ]
  },
  {
   "cell_type": "code",
   "execution_count": 362,
   "metadata": {},
   "outputs": [
    {
     "name": "stdout",
     "output_type": "stream",
     "text": [
      "The average correlation, p values over 10 are:\n",
      "0.6009919534260791\n",
      "0.0765\n",
      "7.0\n"
     ]
    }
   ],
   "source": [
    "sum_corr=0\n",
    "sum_p=0\n",
    "sum_group=0\n",
    "for i in range(0, number_of_iterations):\n",
    "    corr, p, n = mantel(host_patristic_dm, sample_patristic_dm_list[i], method ='spearman')\n",
    "    sum_corr+=corr\n",
    "    sum_p+=p\n",
    "    sum_group+=n\n",
    "print(\"The average correlation, p values over \"+ str(number_of_iterations) + \" are:\")\n",
    "ave_corr=sum_corr/number_of_iterations\n",
    "ave_p=sum_p/number_of_iterations\n",
    "ave_group=sum_group/number_of_iterations\n",
    "\n",
    "print(str(ave_corr))\n",
    "print(str(ave_p))\n",
    "print(str(ave_group))"
   ]
  },
  {
   "cell_type": "markdown",
   "metadata": {},
   "source": [
    "# Tanglegarm visualization"
   ]
  },
  {
   "cell_type": "code",
   "execution_count": 875,
   "metadata": {},
   "outputs": [],
   "source": [
    "import tanglegram as tg\n",
    "import matplotlib.pyplot as plt\n",
    "import pandas as pd"
   ]
  },
  {
   "cell_type": "code",
   "execution_count": 876,
   "metadata": {},
   "outputs": [
    {
     "name": "stdout",
     "output_type": "stream",
     "text": [
      "<class 'skbio.stats.distance._base.DistanceMatrix'>\n",
      "<class 'pandas.core.frame.DataFrame'>\n",
      "                        Trichechus_manatus  Helogale_parvula  \\\n",
      "Trichechus_manatus                0.000000          0.604288   \n",
      "Helogale_parvula                  0.604288          0.000000   \n",
      "Suricata_suricatta                0.631557          0.089644   \n",
      "Mungos_mungo                      0.643597          0.101684   \n",
      "Homo_sapiens                      0.615347          0.073433   \n",
      "Nycticebus_pygmaeus               0.571545          0.152470   \n",
      "Callosciurus_prevostii            0.572166          0.153092   \n",
      "\n",
      "                        Suricata_suricatta  Mungos_mungo  Homo_sapiens  \\\n",
      "Trichechus_manatus                0.631557      0.643597      0.615347   \n",
      "Helogale_parvula                  0.089644      0.101684      0.073433   \n",
      "Suricata_suricatta                0.000000      0.068585      0.062594   \n",
      "Mungos_mungo                      0.068585      0.000000      0.074634   \n",
      "Homo_sapiens                      0.062594      0.074634      0.000000   \n",
      "Nycticebus_pygmaeus               0.179739      0.191779      0.163529   \n",
      "Callosciurus_prevostii            0.180361      0.192401      0.164150   \n",
      "\n",
      "                        Nycticebus_pygmaeus  Callosciurus_prevostii  \n",
      "Trichechus_manatus                 0.571545                0.572166  \n",
      "Helogale_parvula                   0.152470                0.153092  \n",
      "Suricata_suricatta                 0.179739                0.180361  \n",
      "Mungos_mungo                       0.191779                0.192401  \n",
      "Homo_sapiens                       0.163529                0.164150  \n",
      "Nycticebus_pygmaeus                0.000000                0.089388  \n",
      "Callosciurus_prevostii             0.089388                0.000000  \n"
     ]
    }
   ],
   "source": [
    "mat1 = host_patristic_dm.to_data_frame()\n",
    "\n",
    "\n",
    "mat2 = sample_patristic_dm.to_data_frame()\n",
    "\n",
    "print(type(sample_patristic_dm))\n",
    "print(type(mat2))\n",
    "print(mat2)"
   ]
  },
  {
   "cell_type": "code",
   "execution_count": 318,
   "metadata": {},
   "outputs": [
    {
     "name": "stderr",
     "output_type": "stream",
     "text": [
      "INFO  : Generating linkage from dataframe (tanglegram.tangle)\n",
      "INFO  : Generating linkage from dataframe (tanglegram.tangle)\n"
     ]
    },
    {
     "data": {
      "application/vnd.jupyter.widget-view+json": {
       "model_id": "324443e682744441bafe7cc66f90df7b",
       "version_major": 2,
       "version_minor": 0
      },
      "text/plain": [
       "  0%|          | 0/1 [00:00<?, ?it/s]"
      ]
     },
     "metadata": {},
     "output_type": "display_data"
    },
    {
     "name": "stderr",
     "output_type": "stream",
     "text": [
      "INFO  : Finished optimising at entanglement 3.8333 (tanglegram.tangle)\n",
      "/home/jhc103/miniconda3/envs/jupyter-general/lib/python3.6/site-packages/tanglegram/tangle.py:146: UserWarning: FixedFormatter should only be used together with FixedLocator\n",
      "  ax1.set_xticklabels(ax1.get_xticklabels(), fontsize=8)\n",
      "/home/jhc103/miniconda3/envs/jupyter-general/lib/python3.6/site-packages/tanglegram/tangle.py:147: UserWarning: FixedFormatter should only be used together with FixedLocator\n",
      "  ax2.set_xticklabels(ax2.get_xticklabels(), fontsize=8)\n",
      "INFO  : Done. Use matplotlib.pyplot.show() to show plot. (tanglegram.tangle)\n"
     ]
    },
    {
     "data": {
      "image/png": "[encoded data removed]",
      "text/plain": [
       "<Figure size 576x576 with 3 Axes>"
      ]
     },
     "metadata": {},
     "output_type": "display_data"
    }
   ],
   "source": [
    "# Plot tanglegram\n",
    "fig = tg.gen_tangle(mat1, mat2, optimize_order=True)\n",
    "\n",
    "plt.savefig(output_fig_dir+\"tanglegram_P_copri.png\",dpi=900, bbox_inches=\"tight\")\n",
    "plt.show()"
   ]
  },
  {
   "cell_type": "code",
   "execution_count": 48,
   "metadata": {},
   "outputs": [
    {
     "data": {
      "text/plain": [
       "matplotlib.figure.Figure"
      ]
     },
     "execution_count": 48,
     "metadata": {},
     "output_type": "execute_result"
    }
   ],
   "source": [
    "type(fig)"
   ]
  },
  {
   "cell_type": "code",
   "execution_count": 39,
   "metadata": {},
   "outputs": [
    {
     "name": "stderr",
     "output_type": "stream",
     "text": [
      "INFO  : Generating linkage from dataframe (tanglegram.tangle)\n",
      "INFO  : Generating linkage from dataframe (tanglegram.tangle)\n",
      "/home/jhc103/miniconda3/envs/jupyter-general/lib/python3.6/site-packages/tanglegram/tangle.py:146: UserWarning: FixedFormatter should only be used together with FixedLocator\n",
      "  ax1.set_xticklabels(ax1.get_xticklabels(), fontsize=8)\n",
      "/home/jhc103/miniconda3/envs/jupyter-general/lib/python3.6/site-packages/tanglegram/tangle.py:147: UserWarning: FixedFormatter should only be used together with FixedLocator\n",
      "  ax2.set_xticklabels(ax2.get_xticklabels(), fontsize=8)\n",
      "INFO  : Done. Use matplotlib.pyplot.show() to show plot. (tanglegram.tangle)\n"
     ]
    },
    {
     "name": "stdout",
     "output_type": "stream",
     "text": [
      "<class 'list'>\n",
      "<class 'pandas.core.frame.DataFrame'>\n"
     ]
    },
    {
     "data": {
      "image/png": "[encoded data removed]",
      "text/plain": [
       "<Figure size 576x576 with 3 Axes>"
      ]
     },
     "metadata": {},
     "output_type": "display_data"
    }
   ],
   "source": [
    "labelsA= ['A', 'B', 'C', 'D']\n",
    "labelsB= ['B', 'A', 'C', 'D']\n",
    "data = [[ 0,  .1,  .4, .3],\n",
    "        [.1,   0,  .5, .6],\n",
    "        [ .4, .5,   0, .2],\n",
    "        [ .3, .6,  .2,  0]]\n",
    "\n",
    "print(type(data))\n",
    "\n",
    "mat1 = pd.DataFrame(data,\n",
    "                    columns=labelsA,\n",
    "                    index=labelsA)\n",
    "\n",
    "mat2 = pd.DataFrame(data,\n",
    "                    columns=labelsB,\n",
    "                    index=labelsB)\n",
    "print(type(mat2))\n",
    "\n",
    "# Plot tanglegram\n",
    "fig = tg.gen_tangle(mat1, mat2, optimize_order=False)\n",
    "plt.show()"
   ]
  },
  {
   "cell_type": "code",
   "execution_count": 115,
   "metadata": {},
   "outputs": [
    {
     "name": "stdout",
     "output_type": "stream",
     "text": [
      "Help on function gen_tangle in module tanglegram.tangle:\n",
      "\n",
      "gen_tangle(a, b, labelsA=None, labelsB=None, optimize_order=10000, color_by_diff=True, link_kwargs={}, dend_kwargs={})\n",
      "    Plots a tanglegram from two dendrograms.\n",
      "    \n",
      "    Parameters\n",
      "    ----------\n",
      "    (a,b) :                 pandas.DataFrame | scipy.cluster.hierarchy.linkage\n",
      "                            Dendrograms to be compared. If DataFrame, will be\n",
      "                            considered a distance matrix and linkage is\n",
      "                            generated (see ``link_kwargs``).\n",
      "    (labelsA,labelsB) :     list of str\n",
      "                            If not provided and a/b are pandas Dataframes,\n",
      "                            will try to extract from columns.\n",
      "    optimize_order :        bool | int, optional\n",
      "                            If not False, will try rearranging dendrogram to\n",
      "                            optimise pairing of similar values. Currently uses\n",
      "                            brute force approach -> might give varying results\n",
      "                            on each iteration.\n",
      "    link_kwargs :           dict, optional\n",
      "                            Keyword arguments to be passed on to ``scipy.cluster.hierarchy.linkage``\n",
      "    dend_kwargs :           dict, optional\n",
      "                            Keyword arguments to be passed on to ``scipy.cluster.hierarchy.dendrogram``\n",
      "    \n",
      "    Returns\n",
      "    -------\n",
      "    matplotlib figure\n",
      "\n"
     ]
    }
   ],
   "source": [
    "help(tg.gen_tangle)"
   ]
  },
  {
   "cell_type": "markdown",
   "metadata": {},
   "source": [
    "# Visualize tree with metadata "
   ]
  },
  {
   "cell_type": "code",
   "execution_count": null,
   "metadata": {},
   "outputs": [],
   "source": [
    "trees = Phylo.parse(sample_tree_fp, 'newick')\n",
    "# help(Phylo.parse)\n",
    "Phylo.draw(trees)"
   ]
  },
  {
   "cell_type": "code",
   "execution_count": null,
   "metadata": {},
   "outputs": [],
   "source": []
  }
 ],
 "metadata": {
  "kernelspec": {
   "display_name": "jupyter-general",
   "language": "python",
   "name": "jupyter-general"
  },
  "language_info": {
   "codemirror_mode": {
    "name": "ipython",
    "version": 3
   },
   "file_extension": ".py",
   "mimetype": "text/x-python",
   "name": "python",
   "nbconvert_exporter": "python",
   "pygments_lexer": "ipython3",
   "version": "3.6.13"
  }
 },
 "nbformat": 4,
 "nbformat_minor": 2
}
